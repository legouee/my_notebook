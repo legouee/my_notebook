{
 "cells": [
  {
   "cell_type": "code",
   "execution_count": 1,
   "metadata": {},
   "outputs": [
    {
     "name": "stdout",
     "output_type": "stream",
     "text": [
      "neo =  0.9.0.dev\n",
      "pynwb =  1.1.2\n"
     ]
    }
   ],
   "source": [
    "import neo\n",
    "from neo import *\n",
    "import pynwb\n",
    "from pynwb import *\n",
    "import quantities as pq\n",
    "from quantities import s, ms, kHz, Hz, uV\n",
    "import numpy as np\n",
    "print(\"neo = \", neo.__version__)\n",
    "print(\"pynwb = \", pynwb.__version__)"
   ]
  },
  {
   "cell_type": "markdown",
   "metadata": {},
   "source": [
    "# Create two Neo Block"
   ]
  },
  {
   "cell_type": "markdown",
   "metadata": {},
   "source": [
    "### Manually"
   ]
  },
  {
   "cell_type": "code",
   "execution_count": 2,
   "metadata": {},
   "outputs": [
    {
     "name": "stdout",
     "output_type": "stream",
     "text": [
      "bl0.segments =  []\n",
      "bl1.segments =  []\n",
      "blocks =  [<neo.core.block.Block object at 0x7f2bf8ea4278>, <neo.core.block.Block object at 0x7f2bf8ea42b0>]\n"
     ]
    }
   ],
   "source": [
    "bl0 = neo.Block(name='First block')\n",
    "bl1 = neo.Block(name='Second block')\n",
    "print(\"bl0.segments = \", bl0.segments)      \n",
    "print(\"bl1.segments = \", bl1.segments)\n",
    "blocks = [bl0, bl1]\n",
    "print(\"blocks = \", blocks)"
   ]
  },
  {
   "cell_type": "markdown",
   "metadata": {},
   "source": [
    "### Automatically"
   ]
  },
  {
   "cell_type": "code",
   "execution_count": 3,
   "metadata": {},
   "outputs": [
    {
     "name": "stdout",
     "output_type": "stream",
     "text": [
      "blk.segments =  []\n",
      "blk.segments =  []\n",
      "blocks =  [<neo.core.block.Block object at 0x7f2bf8ea4240>, <neo.core.block.Block object at 0x7f2bf8ea4470>]\n"
     ]
    }
   ],
   "source": [
    "blocks = []\n",
    "for ind in range(2): # 2 blocks\n",
    "    blk = neo.Block(name='%s' %ind)\n",
    "    print(\"blk.segments = \", blk.segments)\n",
    "    blocks.append(blk)\n",
    "\n",
    "print(\"blocks = \", blocks)"
   ]
  },
  {
   "cell_type": "markdown",
   "metadata": {},
   "source": [
    "# Populate each block with 3 Neo Segment"
   ]
  },
  {
   "cell_type": "code",
   "execution_count": 4,
   "metadata": {},
   "outputs": [
    {
     "data": {
      "text/plain": [
       "[Block with 3 segments\n",
       " name: '0'\n",
       " # segments (N=3)\n",
       " 0: Segment with  name: 'segment 0' # analogsignals (N=0)\n",
       " 1: Segment with  name: 'segment 1' # analogsignals (N=0)\n",
       " 2: Segment with  name: 'segment 2' # analogsignals (N=0),\n",
       " Block with 3 segments\n",
       " name: '1'\n",
       " # segments (N=3)\n",
       " 0: Segment with  name: 'segment 0' # analogsignals (N=0)\n",
       " 1: Segment with  name: 'segment 1' # analogsignals (N=0)\n",
       " 2: Segment with  name: 'segment 2' # analogsignals (N=0)]"
      ]
     },
     "execution_count": 4,
     "metadata": {},
     "output_type": "execute_result"
    }
   ],
   "source": [
    "blocks = []\n",
    "for ind in range(2): # 2 blocks\n",
    "    blk = neo.Block(name='%s' %ind)\n",
    "    blocks.append(blk)\n",
    "    \n",
    "    for ind in range(3): # 3 Segment\n",
    "        seg = Segment(name='segment %d' % ind, index=ind)\n",
    "        blk.segments.append(seg)\n",
    "blocks"
   ]
  },
  {
   "cell_type": "markdown",
   "metadata": {},
   "source": [
    "# Populate each block with 3 Neo Segment and 2 Neo ChannelIndex"
   ]
  },
  {
   "cell_type": "code",
   "execution_count": 5,
   "metadata": {},
   "outputs": [
    {
     "data": {
      "text/plain": [
       "[Block with 3 segments, 2 channel_indexes\n",
       " name: '0'\n",
       " # segments (N=3)\n",
       " 0: Segment with  name: 'segment 0' # analogsignals (N=0)\n",
       " 1: Segment with  name: 'segment 1' # analogsignals (N=0)\n",
       " 2: Segment with  name: 'segment 2' # analogsignals (N=0),\n",
       " Block with 3 segments, 2 channel_indexes\n",
       " name: '1'\n",
       " # segments (N=3)\n",
       " 0: Segment with  name: 'segment 0' # analogsignals (N=0)\n",
       " 1: Segment with  name: 'segment 1' # analogsignals (N=0)\n",
       " 2: Segment with  name: 'segment 2' # analogsignals (N=0)]"
      ]
     },
     "execution_count": 5,
     "metadata": {},
     "output_type": "execute_result"
    }
   ],
   "source": [
    "blocks = []\n",
    "for ind in range(2): # 2 blocks\n",
    "    blk = neo.Block(name='%s' %ind)\n",
    "    blocks.append(blk)\n",
    "    \n",
    "    for ind in range(3): # 3 Segment\n",
    "        seg = Segment(name='segment %d' % ind, index=ind)\n",
    "        blk.segments.append(seg)\n",
    "    \n",
    "    for ind in range(2): # 2 ChannelIndex\n",
    "     chx = ChannelIndex(name='Array probe %d' % ind, index=np.arange(64))\n",
    "     blk.channel_indexes.append(chx)\n",
    "    \n",
    "blocks"
   ]
  },
  {
   "cell_type": "markdown",
   "metadata": {},
   "source": [
    "# Populate each block with 3 Neo Segment, 2 Neo ChannelIndex and Neo AnalogSignal objects"
   ]
  },
  {
   "cell_type": "code",
   "execution_count": 6,
   "metadata": {},
   "outputs": [
    {
     "data": {
      "text/plain": [
       "[Block with 3 segments, 2 channel_indexes\n",
       " name: '0'\n",
       " # segments (N=3)\n",
       " 0: Segment with 2 analogsignals\n",
       "    name: 'segment 0'\n",
       "    # analogsignals (N=2)\n",
       "    0: AnalogSignal with 64 channels of length 10000; units nA; datatype float64 \n",
       "       sampling rate: 10.0\n",
       "       time: 0.0 to 1.0\n",
       "    1: AnalogSignal with 64 channels of length 10000; units nA; datatype float64 \n",
       "       sampling rate: 10.0\n",
       "       time: 0.0 to 1.0\n",
       " 1: Segment with 2 analogsignals\n",
       "    name: 'segment 1'\n",
       "    # analogsignals (N=2)\n",
       "    0: AnalogSignal with 64 channels of length 10000; units nA; datatype float64 \n",
       "       sampling rate: 10.0\n",
       "       time: 0.0 to 1.0\n",
       "    1: AnalogSignal with 64 channels of length 10000; units nA; datatype float64 \n",
       "       sampling rate: 10.0\n",
       "       time: 0.0 to 1.0\n",
       " 2: Segment with 2 analogsignals\n",
       "    name: 'segment 2'\n",
       "    # analogsignals (N=2)\n",
       "    0: AnalogSignal with 64 channels of length 10000; units nA; datatype float64 \n",
       "       sampling rate: 10.0\n",
       "       time: 0.0 to 1.0\n",
       "    1: AnalogSignal with 64 channels of length 10000; units nA; datatype float64 \n",
       "       sampling rate: 10.0\n",
       "       time: 0.0 to 1.0,\n",
       " Block with 3 segments, 2 channel_indexes\n",
       " name: '1'\n",
       " # segments (N=3)\n",
       " 0: Segment with 2 analogsignals\n",
       "    name: 'segment 0'\n",
       "    # analogsignals (N=2)\n",
       "    0: AnalogSignal with 64 channels of length 10000; units nA; datatype float64 \n",
       "       sampling rate: 10.0\n",
       "       time: 0.0 to 1.0\n",
       "    1: AnalogSignal with 64 channels of length 10000; units nA; datatype float64 \n",
       "       sampling rate: 10.0\n",
       "       time: 0.0 to 1.0\n",
       " 1: Segment with 2 analogsignals\n",
       "    name: 'segment 1'\n",
       "    # analogsignals (N=2)\n",
       "    0: AnalogSignal with 64 channels of length 10000; units nA; datatype float64 \n",
       "       sampling rate: 10.0\n",
       "       time: 0.0 to 1.0\n",
       "    1: AnalogSignal with 64 channels of length 10000; units nA; datatype float64 \n",
       "       sampling rate: 10.0\n",
       "       time: 0.0 to 1.0\n",
       " 2: Segment with 2 analogsignals\n",
       "    name: 'segment 2'\n",
       "    # analogsignals (N=2)\n",
       "    0: AnalogSignal with 64 channels of length 10000; units nA; datatype float64 \n",
       "       sampling rate: 10.0\n",
       "       time: 0.0 to 1.0\n",
       "    1: AnalogSignal with 64 channels of length 10000; units nA; datatype float64 \n",
       "       sampling rate: 10.0\n",
       "       time: 0.0 to 1.0]"
      ]
     },
     "execution_count": 6,
     "metadata": {},
     "output_type": "execute_result"
    }
   ],
   "source": [
    "blocks = []\n",
    "for ind in range(2): # 2 blocks\n",
    "    blk = neo.Block(name='%s' %ind)\n",
    "    blocks.append(blk)\n",
    "    \n",
    "    for ind in range(3): # 3 Segment\n",
    "        seg = Segment(name='segment %d' % ind, index=ind)\n",
    "        blk.segments.append(seg)\n",
    "    \n",
    "    for ind in range(2):  # 2 ChannelIndex\n",
    "        chx = ChannelIndex(name='Array probe %d' % ind, index=np.arange(64))\n",
    "        blk.channel_indexes.append(chx)\n",
    "    \n",
    "    for seg in blk.segments: # AnalogSignal objects\n",
    "        for chx in blk.channel_indexes:\n",
    "            a = AnalogSignal(np.random.randn(10000, 64)*pq.nA, sampling_rate=10*kHz)\n",
    "            chx.analogsignals.append(a)\n",
    "            seg.analogsignals.append(a)\n",
    "\n",
    "blocks"
   ]
  },
  {
   "cell_type": "code",
   "execution_count": 7,
   "metadata": {},
   "outputs": [
    {
     "name": "stdout",
     "output_type": "stream",
     "text": [
      "bl0.segments =  []\n",
      "bl1.segments =  []\n",
      "blocks =  [<neo.core.block.Block object at 0x7f2bf8e51668>, <neo.core.block.Block object at 0x7f2bf8e516d8>]\n"
     ]
    },
    {
     "data": {
      "text/plain": [
       "[Block with 2 segments, 3 channel_indexes\n",
       " name: 'First block'\n",
       " # segments (N=2)\n",
       " 0: Segment with 3 analogsignals\n",
       "    name: 'segment 0'\n",
       "    # analogsignals (N=3)\n",
       "    0: AnalogSignal with 64 channels of length 10000; units nA; datatype float64 \n",
       "       sampling rate: 10.0\n",
       "       time: 0.0 to 1.0\n",
       "    1: AnalogSignal with 64 channels of length 10000; units nA; datatype float64 \n",
       "       sampling rate: 10.0\n",
       "       time: 0.0 to 1.0\n",
       "    2: AnalogSignal with 64 channels of length 10000; units nA; datatype float64 \n",
       "       sampling rate: 10.0\n",
       "       time: 0.0 to 1.0\n",
       " 1: Segment with 3 analogsignals\n",
       "    name: 'segment 1'\n",
       "    # analogsignals (N=3)\n",
       "    0: AnalogSignal with 64 channels of length 10000; units nA; datatype float64 \n",
       "       sampling rate: 10.0\n",
       "       time: 0.0 to 1.0\n",
       "    1: AnalogSignal with 64 channels of length 10000; units nA; datatype float64 \n",
       "       sampling rate: 10.0\n",
       "       time: 0.0 to 1.0\n",
       "    2: AnalogSignal with 64 channels of length 10000; units nA; datatype float64 \n",
       "       sampling rate: 10.0\n",
       "       time: 0.0 to 1.0,\n",
       " Block with 2 segments, 3 channel_indexes\n",
       " name: 'Second block'\n",
       " # segments (N=2)\n",
       " 0: Segment with 3 analogsignals\n",
       "    name: 'segment 0'\n",
       "    # analogsignals (N=3)\n",
       "    0: AnalogSignal with 64 channels of length 10000; units nA; datatype float64 \n",
       "       sampling rate: 10.0\n",
       "       time: 0.0 to 1.0\n",
       "    1: AnalogSignal with 64 channels of length 10000; units nA; datatype float64 \n",
       "       sampling rate: 10.0\n",
       "       time: 0.0 to 1.0\n",
       "    2: AnalogSignal with 64 channels of length 10000; units nA; datatype float64 \n",
       "       sampling rate: 10.0\n",
       "       time: 0.0 to 1.0\n",
       " 1: Segment with 3 analogsignals\n",
       "    name: 'segment 1'\n",
       "    # analogsignals (N=3)\n",
       "    0: AnalogSignal with 64 channels of length 10000; units nA; datatype float64 \n",
       "       sampling rate: 10.0\n",
       "       time: 0.0 to 1.0\n",
       "    1: AnalogSignal with 64 channels of length 10000; units nA; datatype float64 \n",
       "       sampling rate: 10.0\n",
       "       time: 0.0 to 1.0\n",
       "    2: AnalogSignal with 64 channels of length 10000; units nA; datatype float64 \n",
       "       sampling rate: 10.0\n",
       "       time: 0.0 to 1.0]"
      ]
     },
     "execution_count": 7,
     "metadata": {},
     "output_type": "execute_result"
    }
   ],
   "source": [
    "blocks = []\n",
    "\n",
    "# blocks\n",
    "#blk = neo.Block(name='%s' %ind)\n",
    "\n",
    "bl0 = neo.Block(name='First block')\n",
    "bl1 = neo.Block(name='Second block')\n",
    "print(\"bl0.segments = \", bl0.segments)      \n",
    "print(\"bl1.segments = \", bl1.segments)\n",
    "blocks = [bl0, bl1]\n",
    "print(\"blocks = \", blocks)\n",
    "\n",
    "#blocks.append(blk)\n",
    "#blocks.append(bl0, bl1)\n",
    "\n",
    "for blk in blocks:\n",
    "#    for ind in range(3): # 3 Segment     \n",
    "    for ind in range(2):\n",
    "        seg = Segment(name='segment %d' % ind, index=ind)\n",
    "        blk.segments.append(seg)\n",
    "    \n",
    "#    for ind in range(2):  # 2 ChannelIndex\n",
    "    for ind in range(3):\n",
    "        chx = ChannelIndex(name='Array probe %d' % ind, index=np.arange(64))\n",
    "        blk.channel_indexes.append(chx)\n",
    "\n",
    "    for seg in blk.segments: # AnalogSignal objects\n",
    "        for chx in blk.channel_indexes:\n",
    "            a = AnalogSignal(np.random.randn(10000, 64)*pq.nA, sampling_rate=10*kHz)\n",
    "            chx.analogsignals.append(a)\n",
    "            seg.analogsignals.append(a)\n",
    "\n",
    "blocks\n"
   ]
  },
  {
   "cell_type": "code",
   "execution_count": 8,
   "metadata": {
    "collapsed": true
   },
   "outputs": [],
   "source": [
    "# Old example\n",
    "#blocks = []\n",
    "#num_segment=1 # number of segment\n",
    "#segment_durations = [5*pq.s, 13*pq.s]\n",
    "#\n",
    "#for ind in range(2): # loop on blocks\n",
    "#    blk = Block(name='block_%s' %ind)            \n",
    "#\n",
    "#    for seg_num in range(num_segment): # loop on segments\n",
    "#        seg = Segment(name=f'Seg {seg_num}')                \n",
    "#        blk.segments.append(seg)\n",
    "#\n",
    "#        for seg_index in range(num_segment): # loop on ChannelIndex\n",
    "#            sampling_rate = 80*pq.Hz\n",
    "#            num_channel = 2\n",
    "#            duration = segment_durations[seg_index]\n",
    "#            length = int((sampling_rate*duration).simplified)\n",
    "#            np_sig = np.random.randn(length, num_channel).astype('float32')\n",
    "#\n",
    "#            anasig = AnalogSignal(np_sig, units='cm', sampling_rate=sampling_rate)                    \n",
    "#            anasig.annotate(data_type='tracking')\n",
    "#            anasig.array_annotate(channel_names=['lfp_{}'.format(ch) for ch in range(num_channel)])\n",
    "#            blk.segments[seg_index].analogsignals.append(anasig) #   \n",
    "#    blocks.append(blk)\n",
    "#blocks"
   ]
  },
  {
   "cell_type": "code",
   "execution_count": null,
   "metadata": {
    "collapsed": true
   },
   "outputs": [],
   "source": []
  },
  {
   "cell_type": "code",
   "execution_count": null,
   "metadata": {
    "collapsed": true
   },
   "outputs": [],
   "source": []
  },
  {
   "cell_type": "code",
   "execution_count": null,
   "metadata": {
    "collapsed": true
   },
   "outputs": [],
   "source": []
  },
  {
   "cell_type": "markdown",
   "metadata": {},
   "source": [
    "# Write a nwb file"
   ]
  },
  {
   "cell_type": "markdown",
   "metadata": {},
   "source": [
    "## Using Neo NWBIO"
   ]
  },
  {
   "cell_type": "code",
   "execution_count": 9,
   "metadata": {
    "collapsed": true
   },
   "outputs": [],
   "source": [
    "filename='My_first_dataset.nwb'"
   ]
  },
  {
   "cell_type": "code",
   "execution_count": 10,
   "metadata": {},
   "outputs": [
    {
     "name": "stdout",
     "output_type": "stream",
     "text": [
      "*** def write_all_blocks ***\n",
      "blocks =  [<neo.core.block.Block object at 0x7f2bf8e51668>, <neo.core.block.Block object at 0x7f2bf8e516d8>]\n",
      "Block =  <class 'neo.core.block.Block'>\n",
      "block =  <neo.core.block.Block object at 0x7f2bf8e51668>\n",
      "*** def write_block ***\n",
      "*************************************************block =  <neo.core.block.Block object at 0x7f2bf8e51668>\n",
      "block.segments =  [<neo.core.segment.Segment object at 0x7f2bf8e51828>, <neo.core.segment.Segment object at 0x7f2bf8e51908>]\n",
      "------ segment =  <neo.core.segment.Segment object at 0x7f2bf8e51828>\n",
      "*** def _write_segment ***\n",
      "++++++++++++++++++++++++ signal =  [[-1.23974795 -1.09766845  0.24486094 ...  0.17641449 -0.33953731\n",
      "   0.23601875]\n",
      " [-1.01607631  1.72485802 -0.62250747 ...  1.36038767 -0.34681058\n",
      "   0.98494634]\n",
      " [ 0.28818054  0.50081076  0.22114315 ... -1.02223033 -0.75257313\n",
      "   0.27918214]\n",
      " ...\n",
      " [ 0.1339574  -0.56959712  1.4120283  ...  1.51438308  0.28167857\n",
      "   0.60108916]\n",
      " [ 0.14146634  1.1672477  -0.18545799 ...  0.77356479  2.24737735\n",
      "   1.87832378]\n",
      " [ 1.40948832 -0.06619684 -1.20214677 ...  0.51638944 -0.36821988\n",
      "   0.90330129]] nA\n",
      "segment.analogsignals [<AnalogSignal(array([[-1.23974795, -1.09766845,  0.24486094, ...,  0.17641449,\n",
      "        -0.33953731,  0.23601875],\n",
      "       [-1.01607631,  1.72485802, -0.62250747, ...,  1.36038767,\n",
      "        -0.34681058,  0.98494634],\n",
      "       [ 0.28818054,  0.50081076,  0.22114315, ..., -1.02223033,\n",
      "        -0.75257313,  0.27918214],\n",
      "       ...,\n",
      "       [ 0.1339574 , -0.56959712,  1.4120283 , ...,  1.51438308,\n",
      "         0.28167857,  0.60108916],\n",
      "       [ 0.14146634,  1.1672477 , -0.18545799, ...,  0.77356479,\n",
      "         2.24737735,  1.87832378],\n",
      "       [ 1.40948832, -0.06619684, -1.20214677, ...,  0.51638944,\n",
      "        -0.36821988,  0.90330129]]) * nA, [0.0 s, 1.0 s], sampling rate: 10.0 kHz)>, <AnalogSignal(array([[-1.09516491, -0.81604868, -0.29969423, ..., -0.47338253,\n",
      "        -0.57794924, -1.24151125],\n",
      "       [-0.9248083 ,  0.89225723, -2.22573957, ..., -0.67443978,\n",
      "         1.36801846, -0.57123735],\n",
      "       [ 1.55212804,  0.38290018, -1.78190742, ..., -0.91119443,\n",
      "         0.04412188,  2.02483328],\n",
      "       ...,\n",
      "       [-0.25793095, -1.66905257,  0.85967809, ..., -0.16668039,\n",
      "        -0.77631004, -1.73432836],\n",
      "       [-0.03665765, -0.39476853, -0.18658133, ..., -0.09021513,\n",
      "        -1.15791653,  1.82101751],\n",
      "       [-0.93806267,  0.15343236,  1.58623497, ...,  0.64567251,\n",
      "        -0.15467397,  0.7792192 ]]) * nA, [0.0 s, 1.0 s], sampling rate: 10.0 kHz)>, <AnalogSignal(array([[ 0.51928124, -0.33332901, -1.25345119, ...,  0.42212289,\n",
      "         0.4267833 , -0.20484247],\n",
      "       [-0.06707129, -1.63892265,  0.69328945, ..., -3.55324106,\n",
      "        -0.84982389,  0.4659963 ],\n",
      "       [ 0.84109159,  0.97427403, -0.1392623 , ...,  0.61629673,\n",
      "        -0.75343103, -0.458663  ],\n",
      "       ...,\n",
      "       [-0.35833876, -0.73303688,  1.64699942, ...,  0.13157008,\n",
      "         1.03772266, -0.5150978 ],\n",
      "       [-1.59959075,  0.98934478,  0.73720568, ..., -0.63797747,\n",
      "        -0.72964908,  0.79558027],\n",
      "       [ 1.18119292, -0.14605539,  0.31283407, ...,  0.34100999,\n",
      "        -0.91971864, -1.41627683]]) * nA, [0.0 s, 1.0 s], sampling rate: 10.0 kHz)>]\n",
      "signal.name =  None\n",
      "END of loop on segment\n",
      "END loop Block in def write_all_blocks\n",
      "block =  <neo.core.block.Block object at 0x7f2bf8e516d8>\n",
      "*** def write_block ***\n",
      "*************************************************block =  <neo.core.block.Block object at 0x7f2bf8e516d8>\n",
      "block.segments =  [<neo.core.segment.Segment object at 0x7f2c4013cb70>, <neo.core.segment.Segment object at 0x7f2bf8ea42b0>]\n",
      "------ segment =  <neo.core.segment.Segment object at 0x7f2c4013cb70>\n",
      "*** def _write_segment ***\n",
      "++++++++++++++++++++++++ signal =  [[-1.99848705 -1.33515199  0.01896601 ... -0.11491267 -0.11751287\n",
      "  -1.34776847]\n",
      " [ 0.24782214  0.9863507  -1.45096424 ...  0.24647034  0.4038774\n",
      "  -0.77066291]\n",
      " [-1.23035542 -1.12875667  0.85531733 ... -1.5391933  -1.10621219\n",
      "  -0.408735  ]\n",
      " ...\n",
      " [-0.56191395  1.47664302  1.11919943 ... -1.16077846 -0.95004212\n",
      "  -0.31094411]\n",
      " [ 0.56920986 -0.36456836  2.55402009 ...  0.48060019 -0.22184021\n",
      "   1.32229979]\n",
      " [-1.0211052   1.07229041  1.15758008 ... -0.52192722 -0.91626829\n",
      "   1.15618036]] nA\n",
      "segment.analogsignals [<AnalogSignal(array([[-1.99848705, -1.33515199,  0.01896601, ..., -0.11491267,\n",
      "        -0.11751287, -1.34776847],\n",
      "       [ 0.24782214,  0.9863507 , -1.45096424, ...,  0.24647034,\n",
      "         0.4038774 , -0.77066291],\n",
      "       [-1.23035542, -1.12875667,  0.85531733, ..., -1.5391933 ,\n",
      "        -1.10621219, -0.408735  ],\n",
      "       ...,\n",
      "       [-0.56191395,  1.47664302,  1.11919943, ..., -1.16077846,\n",
      "        -0.95004212, -0.31094411],\n",
      "       [ 0.56920986, -0.36456836,  2.55402009, ...,  0.48060019,\n",
      "        -0.22184021,  1.32229979],\n",
      "       [-1.0211052 ,  1.07229041,  1.15758008, ..., -0.52192722,\n",
      "        -0.91626829,  1.15618036]]) * nA, [0.0 s, 1.0 s], sampling rate: 10.0 kHz)>, <AnalogSignal(array([[-0.85661236,  0.83513042,  0.12298163, ..., -0.11076802,\n",
      "         0.15959555, -1.84512376],\n",
      "       [-0.3940337 , -0.94768656, -0.79768333, ...,  0.88578423,\n",
      "         1.28187459,  0.40190788],\n",
      "       [-0.16595811,  1.57817056,  2.13521177, ...,  0.23529071,\n",
      "         0.86600488,  0.6176795 ],\n",
      "       ...,\n",
      "       [ 0.04164193, -0.55905023, -0.5774649 , ..., -0.47507104,\n",
      "         0.06111549, -0.56039357],\n",
      "       [ 1.02731646,  0.31028399, -0.2862779 , ...,  0.27161816,\n",
      "         0.49425206,  0.70444876],\n",
      "       [-0.46807926, -0.61162177,  0.45703364, ...,  1.23626838,\n",
      "         0.10937165,  1.7401695 ]]) * nA, [0.0 s, 1.0 s], sampling rate: 10.0 kHz)>, <AnalogSignal(array([[-1.75951315,  1.26917897,  1.77747605, ...,  0.75430251,\n",
      "         0.79302961,  0.13986863],\n",
      "       [ 1.12291227,  0.65427936, -1.94667411, ..., -0.81636788,\n",
      "         0.58370168,  0.91695203],\n",
      "       [-0.82930456,  1.5694943 ,  0.17975076, ..., -0.26408637,\n",
      "         1.39413842,  2.36190371],\n",
      "       ...,\n",
      "       [-0.46843937, -1.14826436,  0.18386004, ...,  1.29178189,\n",
      "         0.36006815,  0.32584408],\n",
      "       [ 0.96017512,  0.08428505,  0.49795748, ...,  0.65870802,\n",
      "         0.56782185,  1.06145678],\n",
      "       [ 0.36366976,  0.36597788,  0.05467973, ..., -0.7710402 ,\n",
      "         1.04676105,  0.30664912]]) * nA, [0.0 s, 1.0 s], sampling rate: 10.0 kHz)>]\n",
      "signal.name =  None\n",
      "END of loop on segment\n",
      "END loop Block in def write_all_blocks\n"
     ]
    },
    {
     "name": "stderr",
     "output_type": "stream",
     "text": [
      "/home/elodie/miniconda2/envs/env_NWB_py3_pynwb_1_1_2/lib/python3.6/site-packages/pynwb/file.py:691: UserWarning: Date is missing timezone information. Updating to local timezone.\n",
      "  warn(\"Date is missing timezone information. Updating to local timezone.\")\n"
     ]
    }
   ],
   "source": [
    "writer = NWBIO(filename, mode='ow')\n",
    "writer.write(blocks)\n",
    "#writer.write_all_blocks(blocks)"
   ]
  },
  {
   "cell_type": "code",
   "execution_count": 11,
   "metadata": {},
   "outputs": [
    {
     "data": {
      "text/plain": [
       "<neo.io.nwbio.NWBIO at 0x7f2bf8ea4b38>"
      ]
     },
     "execution_count": 11,
     "metadata": {},
     "output_type": "execute_result"
    }
   ],
   "source": [
    "writer"
   ]
  },
  {
   "cell_type": "code",
   "execution_count": 12,
   "metadata": {
    "collapsed": true
   },
   "outputs": [],
   "source": [
    "#writer.write_block(blocks)"
   ]
  },
  {
   "cell_type": "code",
   "execution_count": null,
   "metadata": {
    "collapsed": true
   },
   "outputs": [],
   "source": []
  },
  {
   "cell_type": "code",
   "execution_count": null,
   "metadata": {
    "collapsed": true
   },
   "outputs": [],
   "source": []
  },
  {
   "cell_type": "code",
   "execution_count": null,
   "metadata": {
    "collapsed": true
   },
   "outputs": [],
   "source": []
  },
  {
   "cell_type": "markdown",
   "metadata": {},
   "source": [
    "# Read the NWB file"
   ]
  },
  {
   "cell_type": "markdown",
   "metadata": {},
   "source": [
    "## Using pynwb"
   ]
  },
  {
   "cell_type": "code",
   "execution_count": 13,
   "metadata": {
    "collapsed": true
   },
   "outputs": [],
   "source": [
    "io = pynwb.NWBHDF5IO(filename, mode='r') # Open a file with NWBHDF5IO\n",
    "#io = pynwb.NWBHDF5IO('/home/elodie/env_NWB_py3/my_notebook/my_first_test_neo_to_nwb_test_NWBIO.nwb', mode='r')\n",
    "_file = io.read()"
   ]
  },
  {
   "cell_type": "code",
   "execution_count": 14,
   "metadata": {},
   "outputs": [
    {
     "name": "stdout",
     "output_type": "stream",
     "text": [
      "root pynwb.file.NWBFile at 0x139828303138376\n",
      "Fields:\n",
      "  acquisition: {\n",
      "    signal0 <class 'pynwb.base.TimeSeries'>,\n",
      "    signal1 <class 'pynwb.base.TimeSeries'>\n",
      "  }\n",
      "  epochs: epochs <class 'pynwb.epoch.TimeIntervals'>\n",
      "  file_create_date: [datetime.datetime(2019, 11, 21, 10, 56, 7, 353409, tzinfo=tzoffset(None, 3600))]\n",
      "  intervals: {\n",
      "    epochs <class 'pynwb.epoch.TimeIntervals'>\n",
      "  }\n",
      "  session_description: My_first_dataset.nwb\n",
      "  session_start_time: 2019-11-21 10:56:07.352424+01:00\n",
      "  timestamps_reference_time: 2019-11-21 10:56:07.352424+01:00\n",
      "\n"
     ]
    }
   ],
   "source": [
    "print(_file)"
   ]
  },
  {
   "cell_type": "markdown",
   "metadata": {},
   "source": [
    "## Using Neo NWBIO"
   ]
  },
  {
   "cell_type": "code",
   "execution_count": 15,
   "metadata": {},
   "outputs": [
    {
     "data": {
      "text/plain": [
       "<neo.io.nwbio.NWBIO at 0x7f2bf8e51240>"
      ]
     },
     "execution_count": 15,
     "metadata": {},
     "output_type": "execute_result"
    }
   ],
   "source": [
    "reader = NWBIO(filename, mode='r')\n",
    "#reader = NWBIO('/home/elodie/env_NWB_py3/my_notebook/my_first_test_neo_to_nwb_test_NWBIO.nwb', mode='r')\n",
    "reader"
   ]
  },
  {
   "cell_type": "code",
   "execution_count": 16,
   "metadata": {},
   "outputs": [
    {
     "name": "stdout",
     "output_type": "stream",
     "text": [
      "*** def read_all_blocks ***\n",
      "Block =  <class 'neo.core.block.Block'>\n",
      "   \n",
      "-------------------------\n",
      "*-* block.name =  First block\n",
      "block =  <neo.core.block.Block object at 0x7f2bf8e51668>\n",
      "*** def read_block ***\n",
      "--- block in read_block() =  <neo.core.block.Block object at 0x7f2bf8e51780>\n",
      "END def read_block\n",
      "   \n",
      "blocks =  [<neo.core.block.Block object at 0x7f2bf8e51668>, <neo.core.block.Block object at 0x7f2bf8e516d8>]\n",
      "   \n",
      "-------------------------\n",
      "*-* block.name =  Second block\n",
      "block =  <neo.core.block.Block object at 0x7f2bf8e516d8>\n",
      "*** def read_block ***\n",
      "--- block in read_block() =  <neo.core.block.Block object at 0x7f2bf8e51748>\n",
      "END def read_block\n",
      "   \n",
      "blocks =  [<neo.core.block.Block object at 0x7f2bf8e51668>, <neo.core.block.Block object at 0x7f2bf8e516d8>]\n",
      "   \n",
      "Test\n",
      "   \n",
      "   \n",
      "   \n",
      "*** def read_block ***\n",
      "--- block in read_block() =  <neo.core.block.Block object at 0x7f2c50568da0>\n",
      "END def read_block\n",
      "   \n",
      "*** def read_block ***\n",
      "--- block in read_block() =  <neo.core.block.Block object at 0x7f2bf8e51f98>\n",
      "END def read_block\n",
      "   \n"
     ]
    },
    {
     "data": {
      "text/plain": [
       "[Block with 1 segments\n",
       " description: 'My_first_dataset.nwb'\n",
       " annotations: {'file_access_dates': [datetime.datetime(2019, 11, 21, 10, 56, 7, 353409, tzinfo=tzoffset(None, 3600))],\n",
       "   'file_read_log': ''}\n",
       " file_origin: 'My_first_dataset.nwb'\n",
       " file_datetime: [datetime.datetime(2019, 11, 21, 10, 56, 7, 353409, tzinfo=tzoffset(None, 3600))]\n",
       " rec_datetime: datetime.datetime(2019, 11, 21, 10, 56, 7, 352424, tzinfo=tzoffset(None, 3600))\n",
       " # segments (N=1)\n",
       " 0: Segment with  name: 'NWB' # analogsignals (N=0),\n",
       " Block with 1 segments\n",
       " description: 'My_first_dataset.nwb'\n",
       " annotations: {'file_access_dates': [datetime.datetime(2019, 11, 21, 10, 56, 7, 353409, tzinfo=tzoffset(None, 3600))],\n",
       "   'file_read_log': ''}\n",
       " file_origin: 'My_first_dataset.nwb'\n",
       " file_datetime: [datetime.datetime(2019, 11, 21, 10, 56, 7, 353409, tzinfo=tzoffset(None, 3600))]\n",
       " rec_datetime: datetime.datetime(2019, 11, 21, 10, 56, 7, 352424, tzinfo=tzoffset(None, 3600))\n",
       " # segments (N=1)\n",
       " 0: Segment with  name: 'NWB' # analogsignals (N=0)]"
      ]
     },
     "execution_count": 16,
     "metadata": {},
     "output_type": "execute_result"
    }
   ],
   "source": [
    "all_blocks = reader.read_all_blocks(blocks)\n",
    "all_blocks"
   ]
  },
  {
   "cell_type": "code",
   "execution_count": 17,
   "metadata": {
    "collapsed": true
   },
   "outputs": [],
   "source": [
    "#all_blocks = reader.read(blocks)\n",
    "#all_blocks = reader.read()"
   ]
  },
  {
   "cell_type": "code",
   "execution_count": 18,
   "metadata": {},
   "outputs": [
    {
     "name": "stdout",
     "output_type": "stream",
     "text": [
      "*** def read_block ***\n",
      "--- block in read_block() =  <neo.core.block.Block object at 0x7f2bf8dcf668>\n",
      "END def read_block\n",
      "   \n"
     ]
    },
    {
     "data": {
      "text/plain": [
       "Block with 1 segments\n",
       "description: 'My_first_dataset.nwb'\n",
       "annotations: {'file_access_dates': [datetime.datetime(2019, 11, 21, 10, 56, 7, 353409, tzinfo=tzoffset(None, 3600))],\n",
       "  'file_read_log': ''}\n",
       "file_origin: 'My_first_dataset.nwb'\n",
       "file_datetime: [datetime.datetime(2019, 11, 21, 10, 56, 7, 353409, tzinfo=tzoffset(None, 3600))]\n",
       "rec_datetime: datetime.datetime(2019, 11, 21, 10, 56, 7, 352424, tzinfo=tzoffset(None, 3600))\n",
       "# segments (N=1)\n",
       "0: Segment with  name: 'NWB' # analogsignals (N=0)"
      ]
     },
     "execution_count": 18,
     "metadata": {},
     "output_type": "execute_result"
    }
   ],
   "source": [
    "first_block = reader.read_block() # Read the first block\n",
    "first_block"
   ]
  },
  {
   "cell_type": "code",
   "execution_count": null,
   "metadata": {
    "collapsed": true
   },
   "outputs": [],
   "source": []
  },
  {
   "cell_type": "code",
   "execution_count": null,
   "metadata": {
    "collapsed": true
   },
   "outputs": [],
   "source": []
  },
  {
   "cell_type": "code",
   "execution_count": null,
   "metadata": {
    "collapsed": true
   },
   "outputs": [],
   "source": []
  },
  {
   "cell_type": "code",
   "execution_count": null,
   "metadata": {
    "collapsed": true
   },
   "outputs": [],
   "source": []
  },
  {
   "cell_type": "code",
   "execution_count": 19,
   "metadata": {
    "collapsed": true
   },
   "outputs": [],
   "source": [
    "#writer.write(block)\n",
    "\n",
    "#w_file = NWBIO(filename=filename, mode='w')\n",
    "#blocks = w_file.write(blk)"
   ]
  },
  {
   "cell_type": "code",
   "execution_count": 20,
   "metadata": {
    "collapsed": true
   },
   "outputs": [],
   "source": [
    "#blocks = []\n",
    "#for ind in range(2): # 2 blocks\n",
    "#    blk = neo.Block(name='%s' %ind)\n",
    "#\n",
    "#    for seg_num in range(num_segment):\n",
    "#        seg = neo.Segment(name=f'Seg {seg_num}')\n",
    "#        blk.segments.append(seg)\n",
    "#        blocks.append(blk)\n",
    "#blocks\n",
    "#print(\"blocks = \", blocks)"
   ]
  },
  {
   "cell_type": "code",
   "execution_count": null,
   "metadata": {
    "collapsed": true
   },
   "outputs": [],
   "source": []
  },
  {
   "cell_type": "code",
   "execution_count": null,
   "metadata": {
    "collapsed": true
   },
   "outputs": [],
   "source": []
  },
  {
   "cell_type": "code",
   "execution_count": null,
   "metadata": {
    "collapsed": true
   },
   "outputs": [],
   "source": []
  }
 ],
 "metadata": {
  "kernelspec": {
   "display_name": "Python 3",
   "language": "python",
   "name": "python3"
  },
  "language_info": {
   "codemirror_mode": {
    "name": "ipython",
    "version": 3
   },
   "file_extension": ".py",
   "mimetype": "text/x-python",
   "name": "python",
   "nbconvert_exporter": "python",
   "pygments_lexer": "ipython3",
   "version": "3.6.0"
  }
 },
 "nbformat": 4,
 "nbformat_minor": 2
}
