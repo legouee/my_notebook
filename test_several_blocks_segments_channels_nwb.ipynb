{
 "cells": [
  {
   "cell_type": "code",
   "execution_count": 1,
   "metadata": {},
   "outputs": [
    {
     "name": "stdout",
     "output_type": "stream",
     "text": [
      "neo =  0.9.0.dev\n",
      "pynwb =  1.1.2\n"
     ]
    }
   ],
   "source": [
    "import neo\n",
    "from neo import *\n",
    "import pynwb\n",
    "from pynwb import *\n",
    "import quantities as pq\n",
    "from quantities import s, ms, kHz, Hz, uV\n",
    "import numpy as np\n",
    "print(\"neo = \", neo.__version__)\n",
    "print(\"pynwb = \", pynwb.__version__)"
   ]
  },
  {
   "cell_type": "markdown",
   "metadata": {},
   "source": [
    "# Create two Neo Block"
   ]
  },
  {
   "cell_type": "markdown",
   "metadata": {},
   "source": [
    "### Manually"
   ]
  },
  {
   "cell_type": "code",
   "execution_count": 2,
   "metadata": {},
   "outputs": [],
   "source": [
    "#bl0 = neo.Block(name='First block')\n",
    "#bl1 = neo.Block(name='Second block')\n",
    "#print(\"bl0.segments = \", bl0.segments)      \n",
    "#print(\"bl1.segments = \", bl1.segments)\n",
    "#blocks = [bl0, bl1]\n",
    "#print(\"blocks = \", blocks)"
   ]
  },
  {
   "cell_type": "markdown",
   "metadata": {},
   "source": [
    "### Automatically"
   ]
  },
  {
   "cell_type": "code",
   "execution_count": 3,
   "metadata": {},
   "outputs": [],
   "source": [
    "#blocks = []\n",
    "#for ind in range(2): # 2 blocks\n",
    "#    blk = neo.Block(name='%s' %ind)\n",
    "#    print(\"blk.segments = \", blk.segments)\n",
    "#    blocks.append(blk)\n",
    "\n",
    "#print(\"blocks = \", blocks)"
   ]
  },
  {
   "cell_type": "markdown",
   "metadata": {},
   "source": [
    "# Populate each block with 3 Neo Segment"
   ]
  },
  {
   "cell_type": "code",
   "execution_count": 4,
   "metadata": {},
   "outputs": [],
   "source": [
    "#blocks = []\n",
    "#for ind in range(2): # 2 blocks\n",
    "#    blk = neo.Block(name='%s' %ind)\n",
    "#    blocks.append(blk)\n",
    "    \n",
    "#    for ind in range(3): # 3 Segment\n",
    "#        seg = Segment(name='segment %d' % ind, index=ind)\n",
    "#        blk.segments.append(seg)\n",
    "#blocks"
   ]
  },
  {
   "cell_type": "markdown",
   "metadata": {},
   "source": [
    "# Populate each block with 3 Neo Segment and 2 Neo ChannelIndex"
   ]
  },
  {
   "cell_type": "code",
   "execution_count": 5,
   "metadata": {},
   "outputs": [],
   "source": [
    "#blocks = []\n",
    "#for ind in range(2): # 2 blocks\n",
    "#    blk = neo.Block(name='%s' %ind)\n",
    "#    blocks.append(blk)\n",
    "    \n",
    "#    for ind in range(3): # 3 Segment\n",
    "#        seg = Segment(name='segment %d' % ind, index=ind)\n",
    "#        blk.segments.append(seg)\n",
    "#    \n",
    "#    for ind in range(2): # 2 ChannelIndex\n",
    "#     chx = ChannelIndex(name='Array probe %d' % ind, index=np.arange(64))\n",
    "#     blk.channel_indexes.append(chx)\n",
    "    \n",
    "#blocks"
   ]
  },
  {
   "cell_type": "markdown",
   "metadata": {},
   "source": [
    "# Populate each block with 3 Neo Segment, 2 Neo ChannelIndex and Neo AnalogSignal objects"
   ]
  },
  {
   "cell_type": "code",
   "execution_count": 6,
   "metadata": {},
   "outputs": [],
   "source": [
    "#blocks = []\n",
    "#for ind in range(2): # 2 blocks\n",
    "#    blk = neo.Block(name='%s' %ind)\n",
    "#    blocks.append(blk)\n",
    "#    \n",
    "#    for ind in range(3): # 3 Segment\n",
    "#        seg = Segment(name='segment %d' % ind, index=ind)\n",
    "#        blk.segments.append(seg)\n",
    "#    \n",
    "#    for ind in range(2):  # 2 ChannelIndex\n",
    "#        chx = ChannelIndex(name='Array probe %d' % ind, index=np.arange(64))\n",
    "#        blk.channel_indexes.append(chx)\n",
    "#    \n",
    "#    for seg in blk.segments: # AnalogSignal objects\n",
    "#        for chx in blk.channel_indexes:\n",
    "#            a = AnalogSignal(np.random.randn(10000, 64)*pq.nA, sampling_rate=10*kHz)\n",
    "#            chx.analogsignals.append(a)\n",
    "#            seg.analogsignals.append(a)\n",
    "#\n",
    "#blocks"
   ]
  },
  {
   "cell_type": "code",
   "execution_count": 7,
   "metadata": {},
   "outputs": [],
   "source": [
    "#blocks = []\n",
    "\n",
    "## blocks\n",
    "##blk = neo.Block(name='%s' %ind)\n",
    "\n",
    "#bl0 = neo.Block(name='First block')\n",
    "#bl1 = neo.Block(name='Second block')\n",
    "#print(\"bl0.segments = \", bl0.segments)      \n",
    "#print(\"bl1.segments = \", bl1.segments)\n",
    "#blocks = [bl0, bl1]\n",
    "#print(\"blocks = \", blocks)\n",
    "\n",
    "##blocks.append(blk)\n",
    "##blocks.append(bl0, bl1)\n",
    "#\n",
    "#num_signal = 3\n",
    "\n",
    "#for blk in blocks:\n",
    "##    for ind in range(3): # 3 Segment     \n",
    "#    for ind in range(num_signal):\n",
    "#        seg = Segment(name='segment %d' % ind, index=ind)\n",
    "#        blk.segments.append(seg)\n",
    "#    \n",
    "#    for ind in range(2):  # 2 ChannelIndex\n",
    "##    for ind in range(3):\n",
    "#        chx = ChannelIndex(name='Array probe %d' % ind, index=np.arange(64))\n",
    "#        blk.channel_indexes.append(chx)\n",
    "#\n",
    "#    for seg in blk.segments: # AnalogSignal objects\n",
    "#        for chx in blk.channel_indexes:\n",
    "####        a = AnalogSignal(np.random.randn(10000, 64)*pq.nA, sampling_rate=10*kHz)\n",
    "#            a = AnalogSignal(np.random.randn(num_signal, 44)*pq.nA, sampling_rate=10*kHz)\n",
    "#    \n",
    "#            chx.analogsignals.append(a)\n",
    "#        seg.analogsignals.append(a)\n",
    "#\n",
    "#blocks"
   ]
  },
  {
   "cell_type": "code",
   "execution_count": 8,
   "metadata": {},
   "outputs": [],
   "source": [
    "# Old example\n",
    "#blocks = []\n",
    "#num_segment=1 # number of segment\n",
    "#segment_durations = [5*pq.s, 13*pq.s]\n",
    "#\n",
    "#for ind in range(2): # loop on blocks\n",
    "#    blk = Block(name='block_%s' %ind)            \n",
    "#\n",
    "#    for seg_num in range(num_segment): # loop on segments\n",
    "#        seg = Segment(name=f'Seg {seg_num}')                \n",
    "#        blk.segments.append(seg)\n",
    "#\n",
    "#        for seg_index in range(num_segment): # loop on ChannelIndex\n",
    "#            sampling_rate = 80*pq.Hz\n",
    "#            num_channel = 2\n",
    "#            duration = segment_durations[seg_index]\n",
    "#            length = int((sampling_rate*duration).simplified)\n",
    "#            np_sig = np.random.randn(length, num_channel).astype('float32')\n",
    "#\n",
    "#            anasig = AnalogSignal(np_sig, units='cm', sampling_rate=sampling_rate)                    \n",
    "#            anasig.annotate(data_type='tracking')\n",
    "#            anasig.array_annotate(channel_names=['lfp_{}'.format(ch) for ch in range(num_channel)])\n",
    "#            blk.segments[seg_index].analogsignals.append(anasig) #   \n",
    "#    blocks.append(blk)\n",
    "#blocks"
   ]
  },
  {
   "cell_type": "code",
   "execution_count": 9,
   "metadata": {},
   "outputs": [
    {
     "name": "stdout",
     "output_type": "stream",
     "text": [
      "bl0.segments =  []\n",
      "bl1.segments =  []\n",
      "bl2.segments =  []\n",
      "blocks =  [<neo.core.block.Block object at 0x1237ca790>, <neo.core.block.Block object at 0x1237ca7d0>, <neo.core.block.Block object at 0x1237ca810>]\n"
     ]
    },
    {
     "data": {
      "text/plain": [
       "[Block with 3 segments\n",
       " name: 'First block'\n",
       " # segments (N=3)\n",
       " 0: Segment with 3 analogsignals\n",
       "    name: 'segment 0'\n",
       "    # analogsignals (N=3)\n",
       "    0: AnalogSignal with 44 channels of length 3; units nA; datatype float64 \n",
       "       sampling rate: 10.0\n",
       "       time: 0.0 to 0.0003\n",
       "    1: AnalogSignal with 64 channels of length 3; units nA; datatype float64 \n",
       "       sampling rate: 10.0\n",
       "       time: 0.0 to 0.0003\n",
       "    2: AnalogSignal with 33 channels of length 3; units nA; datatype float64 \n",
       "       sampling rate: 10.0\n",
       "       time: 0.0 to 0.0003\n",
       " 1: Segment with 3 analogsignals\n",
       "    name: 'segment 1'\n",
       "    # analogsignals (N=3)\n",
       "    0: AnalogSignal with 44 channels of length 3; units nA; datatype float64 \n",
       "       sampling rate: 10.0\n",
       "       time: 0.0 to 0.0003\n",
       "    1: AnalogSignal with 64 channels of length 3; units nA; datatype float64 \n",
       "       sampling rate: 10.0\n",
       "       time: 0.0 to 0.0003\n",
       "    2: AnalogSignal with 33 channels of length 3; units nA; datatype float64 \n",
       "       sampling rate: 10.0\n",
       "       time: 0.0 to 0.0003\n",
       " 2: Segment with 3 analogsignals\n",
       "    name: 'segment 2'\n",
       "    # analogsignals (N=3)\n",
       "    0: AnalogSignal with 44 channels of length 3; units nA; datatype float64 \n",
       "       sampling rate: 10.0\n",
       "       time: 0.0 to 0.0003\n",
       "    1: AnalogSignal with 64 channels of length 3; units nA; datatype float64 \n",
       "       sampling rate: 10.0\n",
       "       time: 0.0 to 0.0003\n",
       "    2: AnalogSignal with 33 channels of length 3; units nA; datatype float64 \n",
       "       sampling rate: 10.0\n",
       "       time: 0.0 to 0.0003,\n",
       " Block with 3 segments\n",
       " name: 'Second block'\n",
       " # segments (N=3)\n",
       " 0: Segment with 3 analogsignals\n",
       "    name: 'segment 0'\n",
       "    # analogsignals (N=3)\n",
       "    0: AnalogSignal with 44 channels of length 3; units nA; datatype float64 \n",
       "       sampling rate: 10.0\n",
       "       time: 0.0 to 0.0003\n",
       "    1: AnalogSignal with 64 channels of length 3; units nA; datatype float64 \n",
       "       sampling rate: 10.0\n",
       "       time: 0.0 to 0.0003\n",
       "    2: AnalogSignal with 33 channels of length 3; units nA; datatype float64 \n",
       "       sampling rate: 10.0\n",
       "       time: 0.0 to 0.0003\n",
       " 1: Segment with 3 analogsignals\n",
       "    name: 'segment 1'\n",
       "    # analogsignals (N=3)\n",
       "    0: AnalogSignal with 44 channels of length 3; units nA; datatype float64 \n",
       "       sampling rate: 10.0\n",
       "       time: 0.0 to 0.0003\n",
       "    1: AnalogSignal with 64 channels of length 3; units nA; datatype float64 \n",
       "       sampling rate: 10.0\n",
       "       time: 0.0 to 0.0003\n",
       "    2: AnalogSignal with 33 channels of length 3; units nA; datatype float64 \n",
       "       sampling rate: 10.0\n",
       "       time: 0.0 to 0.0003\n",
       " 2: Segment with 3 analogsignals\n",
       "    name: 'segment 2'\n",
       "    # analogsignals (N=3)\n",
       "    0: AnalogSignal with 44 channels of length 3; units nA; datatype float64 \n",
       "       sampling rate: 10.0\n",
       "       time: 0.0 to 0.0003\n",
       "    1: AnalogSignal with 64 channels of length 3; units nA; datatype float64 \n",
       "       sampling rate: 10.0\n",
       "       time: 0.0 to 0.0003\n",
       "    2: AnalogSignal with 33 channels of length 3; units nA; datatype float64 \n",
       "       sampling rate: 10.0\n",
       "       time: 0.0 to 0.0003,\n",
       " Block with 3 segments\n",
       " name: 'Third block'\n",
       " # segments (N=3)\n",
       " 0: Segment with 3 analogsignals\n",
       "    name: 'segment 0'\n",
       "    # analogsignals (N=3)\n",
       "    0: AnalogSignal with 44 channels of length 3; units nA; datatype float64 \n",
       "       sampling rate: 10.0\n",
       "       time: 0.0 to 0.0003\n",
       "    1: AnalogSignal with 64 channels of length 3; units nA; datatype float64 \n",
       "       sampling rate: 10.0\n",
       "       time: 0.0 to 0.0003\n",
       "    2: AnalogSignal with 33 channels of length 3; units nA; datatype float64 \n",
       "       sampling rate: 10.0\n",
       "       time: 0.0 to 0.0003\n",
       " 1: Segment with 3 analogsignals\n",
       "    name: 'segment 1'\n",
       "    # analogsignals (N=3)\n",
       "    0: AnalogSignal with 44 channels of length 3; units nA; datatype float64 \n",
       "       sampling rate: 10.0\n",
       "       time: 0.0 to 0.0003\n",
       "    1: AnalogSignal with 64 channels of length 3; units nA; datatype float64 \n",
       "       sampling rate: 10.0\n",
       "       time: 0.0 to 0.0003\n",
       "    2: AnalogSignal with 33 channels of length 3; units nA; datatype float64 \n",
       "       sampling rate: 10.0\n",
       "       time: 0.0 to 0.0003\n",
       " 2: Segment with 3 analogsignals\n",
       "    name: 'segment 2'\n",
       "    # analogsignals (N=3)\n",
       "    0: AnalogSignal with 44 channels of length 3; units nA; datatype float64 \n",
       "       sampling rate: 10.0\n",
       "       time: 0.0 to 0.0003\n",
       "    1: AnalogSignal with 64 channels of length 3; units nA; datatype float64 \n",
       "       sampling rate: 10.0\n",
       "       time: 0.0 to 0.0003\n",
       "    2: AnalogSignal with 33 channels of length 3; units nA; datatype float64 \n",
       "       sampling rate: 10.0\n",
       "       time: 0.0 to 0.0003]"
      ]
     },
     "execution_count": 9,
     "metadata": {},
     "output_type": "execute_result"
    }
   ],
   "source": [
    "blocks = []\n",
    "\n",
    "# Number of Block\n",
    "bl0 = neo.Block(name='First block')\n",
    "bl1 = neo.Block(name='Second block')\n",
    "bl2 = neo.Block(name='Third block')\n",
    "print(\"bl0.segments = \", bl0.segments)      \n",
    "print(\"bl1.segments = \", bl1.segments)\n",
    "print(\"bl2.segments = \", bl2.segments)\n",
    "blocks = [bl0, bl1, bl2]\n",
    "print(\"blocks = \", blocks)\n",
    "\n",
    "\n",
    "num_seg = 3 # number of segments\n",
    "\n",
    "for blk in blocks: \n",
    "    for ind in range(num_seg): # number of Segment\n",
    "        seg = Segment(name='segment %d' % ind, index=ind)\n",
    "        blk.segments.append(seg)\n",
    "\n",
    "    for seg in blk.segments: # AnalogSignal objects\n",
    "        # 2 AnalogSignals\n",
    "        a = AnalogSignal(np.random.randn(num_seg, 44)*pq.nA, sampling_rate=10*kHz)\n",
    "        b = AnalogSignal(np.random.randn(num_seg, 64)*pq.nA, sampling_rate=10*kHz)\n",
    "        c = AnalogSignal(np.random.randn(num_seg, 33)*pq.nA, sampling_rate=10*kHz)\n",
    "        \n",
    "    \n",
    "        seg.analogsignals.append(a)\n",
    "        seg.analogsignals.append(b)\n",
    "        seg.analogsignals.append(c)\n",
    "\n",
    "blocks"
   ]
  },
  {
   "cell_type": "code",
   "execution_count": null,
   "metadata": {},
   "outputs": [],
   "source": []
  },
  {
   "cell_type": "code",
   "execution_count": null,
   "metadata": {},
   "outputs": [],
   "source": []
  },
  {
   "cell_type": "code",
   "execution_count": null,
   "metadata": {},
   "outputs": [],
   "source": []
  },
  {
   "cell_type": "markdown",
   "metadata": {},
   "source": [
    "# Write a nwb file"
   ]
  },
  {
   "cell_type": "markdown",
   "metadata": {},
   "source": [
    "## Using Neo NWBIO"
   ]
  },
  {
   "cell_type": "code",
   "execution_count": 10,
   "metadata": {},
   "outputs": [],
   "source": [
    "#filename='My_first_dataset_neo2.nwb'\n",
    "filename='My_first_dataset_neo7.nwb'\n",
    "#filename='My_first_dataset_neo.nwb'"
   ]
  },
  {
   "cell_type": "code",
   "execution_count": 11,
   "metadata": {},
   "outputs": [
    {
     "name": "stdout",
     "output_type": "stream",
     "text": [
      "*** def write_all_blocks ***\n",
      "blocks =  [<neo.core.block.Block object at 0x1237ca790>, <neo.core.block.Block object at 0x1237ca7d0>, <neo.core.block.Block object at 0x1237ca810>]\n",
      "*** def write_block ***\n",
      "*************************************************block =  <neo.core.block.Block object at 0x1237ca790>\n",
      "block.segments =  [<neo.core.segment.Segment object at 0x1237ca8d0>, <neo.core.segment.Segment object at 0x1237cad50>, <neo.core.segment.Segment object at 0x1237cadd0>]\n",
      "io_nwb =  <pynwb.NWBHDF5IO object at 0x1237ca590>\n",
      "------ segment =  <neo.core.segment.Segment object at 0x1237ca8d0>\n",
      "*** def _write_segment ***\n",
      "i =  0\n",
      "*** def _write_signal ***\n",
      "signal_name 123 =  signal0\n",
      "END def _write_signal\n",
      "END _write_segment\n",
      "i =  1\n",
      "*** def _write_signal ***\n",
      "signal_name 123 =  signal1\n",
      "END def _write_signal\n",
      "END _write_segment\n",
      "i =  2\n",
      "*** def _write_signal ***\n",
      "signal_name 123 =  signal2\n",
      "END def _write_signal\n",
      "END _write_segment\n",
      "END of loop on segment block.segments =  [<neo.core.segment.Segment object at 0x1237ca8d0>, <neo.core.segment.Segment object at 0x1237cad50>, <neo.core.segment.Segment object at 0x1237cadd0>]\n",
      "---------------------------------------------------------------\n",
      "Write the file\n"
     ]
    },
    {
     "name": "stderr",
     "output_type": "stream",
     "text": [
      "/Users/legouee/miniconda3/lib/python3.7/site-packages/pynwb/file.py:691: UserWarning: Date is missing timezone information. Updating to local timezone.\n",
      "  warn(\"Date is missing timezone information. Updating to local timezone.\")\n",
      "/Users/legouee/miniconda3/lib/python3.7/site-packages/hdmf/build/map.py:949: MissingRequiredWarning: attribute 'unit' for 'data' (TimeSeries)\n",
      "  warnings.warn(msg, MissingRequiredWarning)\n"
     ]
    },
    {
     "name": "stdout",
     "output_type": "stream",
     "text": [
      "END loop Block in def write_all_blocks\n",
      "*** def write_block ***\n",
      "*************************************************block =  <neo.core.block.Block object at 0x1237ca7d0>\n",
      "block.segments =  [<neo.core.segment.Segment object at 0x1237cae90>, <neo.core.segment.Segment object at 0x1237caed0>, <neo.core.segment.Segment object at 0x1237caf50>]\n",
      "io_nwb =  <pynwb.NWBHDF5IO object at 0x12399a990>\n",
      "------ segment =  <neo.core.segment.Segment object at 0x1237cae90>\n",
      "*** def _write_segment ***\n",
      "i =  0\n",
      "*** def _write_signal ***\n",
      "signal_name 123 =  signal0\n",
      "END def _write_signal\n",
      "END _write_segment\n",
      "i =  1\n",
      "*** def _write_signal ***\n",
      "signal_name 123 =  signal1\n",
      "END def _write_signal\n",
      "END _write_segment\n",
      "i =  2\n",
      "*** def _write_signal ***\n",
      "signal_name 123 =  signal2\n",
      "END def _write_signal\n",
      "END _write_segment\n",
      "END of loop on segment block.segments =  [<neo.core.segment.Segment object at 0x1237cae90>, <neo.core.segment.Segment object at 0x1237caed0>, <neo.core.segment.Segment object at 0x1237caf50>]\n",
      "---------------------------------------------------------------\n",
      "Write the file\n",
      "END loop Block in def write_all_blocks\n",
      "*** def write_block ***\n",
      "*************************************************block =  <neo.core.block.Block object at 0x1237ca810>\n",
      "block.segments =  [<neo.core.segment.Segment object at 0x1237cafd0>, <neo.core.segment.Segment object at 0x1237cacd0>, <neo.core.segment.Segment object at 0x1237caad0>]\n",
      "io_nwb =  <pynwb.NWBHDF5IO object at 0x123a37250>\n",
      "------ segment =  <neo.core.segment.Segment object at 0x1237cafd0>\n",
      "*** def _write_segment ***\n",
      "i =  0\n",
      "*** def _write_signal ***\n",
      "signal_name 123 =  signal0\n",
      "END def _write_signal\n",
      "END _write_segment\n",
      "i =  1\n",
      "*** def _write_signal ***\n",
      "signal_name 123 =  signal1\n",
      "END def _write_signal\n",
      "END _write_segment\n",
      "i =  2\n",
      "*** def _write_signal ***\n",
      "signal_name 123 =  signal2\n",
      "END def _write_signal\n",
      "END _write_segment\n",
      "END of loop on segment block.segments =  [<neo.core.segment.Segment object at 0x1237cafd0>, <neo.core.segment.Segment object at 0x1237cacd0>, <neo.core.segment.Segment object at 0x1237caad0>]\n",
      "---------------------------------------------------------------\n",
      "Write the file\n",
      "END loop Block in def write_all_blocks\n"
     ]
    }
   ],
   "source": [
    "writer = NWBIO(filename, mode='w')\n",
    "writer.write(blocks)\n",
    "\n",
    "#writer.write_all_blocks(blocks)"
   ]
  },
  {
   "cell_type": "code",
   "execution_count": 12,
   "metadata": {},
   "outputs": [
    {
     "data": {
      "text/plain": [
       "<neo.io.nwbio.NWBIO at 0x11120cb90>"
      ]
     },
     "execution_count": 12,
     "metadata": {},
     "output_type": "execute_result"
    }
   ],
   "source": [
    "writer"
   ]
  },
  {
   "cell_type": "code",
   "execution_count": 13,
   "metadata": {},
   "outputs": [],
   "source": [
    "#writer.write_block(blocks)"
   ]
  },
  {
   "cell_type": "code",
   "execution_count": null,
   "metadata": {},
   "outputs": [],
   "source": []
  },
  {
   "cell_type": "code",
   "execution_count": null,
   "metadata": {},
   "outputs": [],
   "source": []
  },
  {
   "cell_type": "code",
   "execution_count": null,
   "metadata": {},
   "outputs": [],
   "source": []
  },
  {
   "cell_type": "markdown",
   "metadata": {},
   "source": [
    "# Read the NWB file"
   ]
  },
  {
   "cell_type": "markdown",
   "metadata": {},
   "source": [
    "## Using pynwb"
   ]
  },
  {
   "cell_type": "code",
   "execution_count": 14,
   "metadata": {},
   "outputs": [],
   "source": [
    "io = pynwb.NWBHDF5IO(filename, mode='r') # Open a file with NWBHDF5IO\n",
    "#io = pynwb.NWBHDF5IO('/home/elodie/env_NWB_py3/my_notebook/my_first_test_neo_to_nwb_test_NWBIO.nwb', mode='r')\n",
    "_file = io.read()"
   ]
  },
  {
   "cell_type": "code",
   "execution_count": 15,
   "metadata": {},
   "outputs": [
    {
     "name": "stdout",
     "output_type": "stream",
     "text": [
      "root pynwb.file.NWBFile at 0x4900754768\n",
      "Fields:\n",
      "  acquisition: {\n",
      "    signal0 <class 'pynwb.base.TimeSeries'>,\n",
      "    signal1 <class 'pynwb.base.TimeSeries'>,\n",
      "    signal2 <class 'pynwb.base.TimeSeries'>\n",
      "  }\n",
      "  epochs: epochs <class 'pynwb.epoch.TimeIntervals'>\n",
      "  file_create_date: [datetime.datetime(2019, 11, 29, 11, 38, 51, 556937, tzinfo=tzoffset(None, 3600))]\n",
      "  intervals: {\n",
      "    epochs <class 'pynwb.epoch.TimeIntervals'>\n",
      "  }\n",
      "  session_description: My_first_dataset_neo7.nwb\n",
      "  session_start_time: 2019-11-29 11:38:51.555234+01:00\n",
      "  timestamps_reference_time: 2019-11-29 11:38:51.555234+01:00\n",
      "\n"
     ]
    }
   ],
   "source": [
    "print(_file)"
   ]
  },
  {
   "cell_type": "markdown",
   "metadata": {},
   "source": [
    "## Using Neo NWBIO"
   ]
  },
  {
   "cell_type": "code",
   "execution_count": 16,
   "metadata": {},
   "outputs": [
    {
     "data": {
      "text/plain": [
       "<neo.io.nwbio.NWBIO at 0x12398e8d0>"
      ]
     },
     "execution_count": 16,
     "metadata": {},
     "output_type": "execute_result"
    }
   ],
   "source": [
    "reader = NWBIO(filename, mode='r')\n",
    "#reader = NWBIO('/home/elodie/env_NWB_py3/my_notebook/my_first_test_neo_to_nwb_test_NWBIO.nwb', mode='r')\n",
    "reader"
   ]
  },
  {
   "cell_type": "code",
   "execution_count": 17,
   "metadata": {},
   "outputs": [],
   "source": [
    "#blocks"
   ]
  },
  {
   "cell_type": "code",
   "execution_count": 18,
   "metadata": {},
   "outputs": [
    {
     "name": "stdout",
     "output_type": "stream",
     "text": [
      "*** def read_all_blocks ***\n",
      "Block =  <class 'neo.core.block.Block'>\n",
      "   \n",
      "-------------------------\n",
      "*-* block.name =  First block\n",
      "block =  <neo.core.block.Block object at 0x1237ca790>\n",
      "**** def read_block ****\n",
      "--- block in read_block() =  <neo.core.block.Block object at 0x123eaa410>\n",
      "END def read_block\n",
      "   \n",
      "blocks =  [<neo.core.block.Block object at 0x1237ca790>, <neo.core.block.Block object at 0x1237ca7d0>, <neo.core.block.Block object at 0x1237ca810>]\n",
      "   \n",
      "-------------------------\n",
      "*-* block.name =  Second block\n",
      "block =  <neo.core.block.Block object at 0x1237ca7d0>\n",
      "**** def read_block ****\n",
      "--- block in read_block() =  <neo.core.block.Block object at 0x123e8ef90>\n",
      "END def read_block\n",
      "   \n",
      "blocks =  [<neo.core.block.Block object at 0x1237ca790>, <neo.core.block.Block object at 0x1237ca7d0>, <neo.core.block.Block object at 0x1237ca810>]\n",
      "   \n",
      "-------------------------\n",
      "*-* block.name =  Third block\n",
      "block =  <neo.core.block.Block object at 0x1237ca810>\n",
      "**** def read_block ****\n",
      "--- block in read_block() =  <neo.core.block.Block object at 0x123e8e910>\n",
      "END def read_block\n",
      "   \n",
      "blocks =  [<neo.core.block.Block object at 0x1237ca790>, <neo.core.block.Block object at 0x1237ca7d0>, <neo.core.block.Block object at 0x1237ca810>]\n",
      "   \n",
      "Test\n",
      "   \n",
      "   \n",
      "   \n",
      "**** def read_block ****\n",
      "--- block in read_block() =  <neo.core.block.Block object at 0x123e7de50>\n",
      "END def read_block\n",
      "   \n",
      "**** def read_block ****\n",
      "--- block in read_block() =  <neo.core.block.Block object at 0x123ce7a50>\n",
      "END def read_block\n",
      "   \n",
      "**** def read_block ****\n",
      "--- block in read_block() =  <neo.core.block.Block object at 0x123cec6d0>\n",
      "END def read_block\n",
      "   \n"
     ]
    },
    {
     "data": {
      "text/plain": [
       "[Block with 1 segments\n",
       " description: 'My_first_dataset_neo7.nwb'\n",
       " annotations: {'file_access_dates': [datetime.datetime(2019, 11, 29, 11, 38, 51, 556937, tzinfo=tzoffset(None, 3600))],\n",
       "   'file_read_log': ''}\n",
       " file_origin: 'My_first_dataset_neo7.nwb'\n",
       " file_datetime: [datetime.datetime(2019, 11, 29, 11, 38, 51, 556937, tzinfo=tzoffset(None, 3600))]\n",
       " rec_datetime: datetime.datetime(2019, 11, 29, 11, 38, 51, 555234, tzinfo=tzoffset(None, 3600))\n",
       " # segments (N=1)\n",
       " 0: Segment with  name: 'NWB' # analogsignals (N=0),\n",
       " Block with 1 segments\n",
       " description: 'My_first_dataset_neo7.nwb'\n",
       " annotations: {'file_access_dates': [datetime.datetime(2019, 11, 29, 11, 38, 51, 556937, tzinfo=tzoffset(None, 3600))],\n",
       "   'file_read_log': ''}\n",
       " file_origin: 'My_first_dataset_neo7.nwb'\n",
       " file_datetime: [datetime.datetime(2019, 11, 29, 11, 38, 51, 556937, tzinfo=tzoffset(None, 3600))]\n",
       " rec_datetime: datetime.datetime(2019, 11, 29, 11, 38, 51, 555234, tzinfo=tzoffset(None, 3600))\n",
       " # segments (N=1)\n",
       " 0: Segment with  name: 'NWB' # analogsignals (N=0),\n",
       " Block with 1 segments\n",
       " description: 'My_first_dataset_neo7.nwb'\n",
       " annotations: {'file_access_dates': [datetime.datetime(2019, 11, 29, 11, 38, 51, 556937, tzinfo=tzoffset(None, 3600))],\n",
       "   'file_read_log': ''}\n",
       " file_origin: 'My_first_dataset_neo7.nwb'\n",
       " file_datetime: [datetime.datetime(2019, 11, 29, 11, 38, 51, 556937, tzinfo=tzoffset(None, 3600))]\n",
       " rec_datetime: datetime.datetime(2019, 11, 29, 11, 38, 51, 555234, tzinfo=tzoffset(None, 3600))\n",
       " # segments (N=1)\n",
       " 0: Segment with  name: 'NWB' # analogsignals (N=0)]"
      ]
     },
     "execution_count": 18,
     "metadata": {},
     "output_type": "execute_result"
    }
   ],
   "source": [
    "all_blocks = reader.read_all_blocks(blocks)\n",
    "#all_blocks = reader.read()\n",
    "\n",
    "all_blocks"
   ]
  },
  {
   "cell_type": "code",
   "execution_count": 19,
   "metadata": {},
   "outputs": [],
   "source": [
    "#all_blocks = reader.read(blocks)\n",
    "#all_blocks = reader.read()"
   ]
  },
  {
   "cell_type": "code",
   "execution_count": 20,
   "metadata": {},
   "outputs": [
    {
     "name": "stdout",
     "output_type": "stream",
     "text": [
      "**** def read_block ****\n",
      "--- block in read_block() =  <neo.core.block.Block object at 0x123ce00d0>\n",
      "END def read_block\n",
      "   \n"
     ]
    },
    {
     "data": {
      "text/plain": [
       "Block with 1 segments\n",
       "description: 'My_first_dataset_neo7.nwb'\n",
       "annotations: {'file_access_dates': [datetime.datetime(2019, 11, 29, 11, 38, 51, 556937, tzinfo=tzoffset(None, 3600))],\n",
       "  'file_read_log': ''}\n",
       "file_origin: 'My_first_dataset_neo7.nwb'\n",
       "file_datetime: [datetime.datetime(2019, 11, 29, 11, 38, 51, 556937, tzinfo=tzoffset(None, 3600))]\n",
       "rec_datetime: datetime.datetime(2019, 11, 29, 11, 38, 51, 555234, tzinfo=tzoffset(None, 3600))\n",
       "# segments (N=1)\n",
       "0: Segment with  name: 'NWB' # analogsignals (N=0)"
      ]
     },
     "execution_count": 20,
     "metadata": {},
     "output_type": "execute_result"
    }
   ],
   "source": [
    "first_block = reader.read_block() # Read the first block\n",
    "first_block"
   ]
  },
  {
   "cell_type": "code",
   "execution_count": null,
   "metadata": {},
   "outputs": [],
   "source": []
  },
  {
   "cell_type": "code",
   "execution_count": null,
   "metadata": {},
   "outputs": [],
   "source": []
  },
  {
   "cell_type": "code",
   "execution_count": null,
   "metadata": {},
   "outputs": [],
   "source": []
  },
  {
   "cell_type": "code",
   "execution_count": null,
   "metadata": {},
   "outputs": [],
   "source": []
  },
  {
   "cell_type": "code",
   "execution_count": 21,
   "metadata": {},
   "outputs": [],
   "source": [
    "#writer.write(block)\n",
    "\n",
    "#w_file = NWBIO(filename=filename, mode='w')\n",
    "#blocks = w_file.write(blk)"
   ]
  },
  {
   "cell_type": "code",
   "execution_count": 22,
   "metadata": {},
   "outputs": [],
   "source": [
    "#blocks = []\n",
    "#for ind in range(2): # 2 blocks\n",
    "#    blk = neo.Block(name='%s' %ind)\n",
    "#\n",
    "#    for seg_num in range(num_segment):\n",
    "#        seg = neo.Segment(name=f'Seg {seg_num}')\n",
    "#        blk.segments.append(seg)\n",
    "#        blocks.append(blk)\n",
    "#blocks\n",
    "#print(\"blocks = \", blocks)"
   ]
  },
  {
   "cell_type": "code",
   "execution_count": null,
   "metadata": {},
   "outputs": [],
   "source": []
  },
  {
   "cell_type": "code",
   "execution_count": null,
   "metadata": {},
   "outputs": [],
   "source": []
  },
  {
   "cell_type": "code",
   "execution_count": null,
   "metadata": {},
   "outputs": [],
   "source": []
  }
 ],
 "metadata": {
  "kernelspec": {
   "display_name": "Python 3",
   "language": "python",
   "name": "python3"
  },
  "language_info": {
   "codemirror_mode": {
    "name": "ipython",
    "version": 3
   },
   "file_extension": ".py",
   "mimetype": "text/x-python",
   "name": "python",
   "nbconvert_exporter": "python",
   "pygments_lexer": "ipython3",
   "version": "3.7.5"
  }
 },
 "nbformat": 4,
 "nbformat_minor": 2
}
