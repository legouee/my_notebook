{
 "cells": [
  {
   "cell_type": "code",
   "execution_count": 1,
   "metadata": {},
   "outputs": [],
   "source": [
    "from pynwb import NWBFile\n",
    "from neo import *\n",
    "import pynwb\n",
    "from pynwb import *\n",
    "import quantities as pq\n",
    "from quantities import s, ms,kHz, Hz, uV\n",
    "import numpy as np\n",
    "from datetime import datetime\n",
    "import nwbinspector"
   ]
  },
  {
   "cell_type": "markdown",
   "metadata": {},
   "source": [
    "## Define Neo structure and NWB annotations"
   ]
  },
  {
   "cell_type": "code",
   "execution_count": 2,
   "metadata": {
    "slideshow": {
     "slide_type": "slide"
    }
   },
   "outputs": [],
   "source": [
    "subject_annotations = {\n",
    "                        \"nwb:subject_id\": \"012\",\n",
    "                        \"nwb:age\": \"P90D\",\n",
    "                        \"nwb:description\": \"mouse 5\",\n",
    "                        \"nwb:species\": \"Mus musculus\",\n",
    "                        \"nwb:sex\": \"M\",\n",
    "        }\n",
    "\n",
    "annotations = {\n",
    "                \"session_start_time\": datetime.now(),\n",
    "                \"subject\": subject_annotations,\n",
    "              }\n",
    "# Define Neo blocks\n",
    "\n",
    "bl0 = Block(name='First block', **annotations)\n",
    "#print(\"bl0.annotations = \", bl0.annotations)\n",
    "bl1 = Block(name='Second block', **annotations)\n",
    "original_blocks = [bl0, bl1]\n",
    "\n",
    "# Neo structure\n",
    "for blk in original_blocks:\n",
    "    for ind in range(3):  # number of Segments\n",
    "        seg = Segment(index=ind)\n",
    "        seg.block = blk\n",
    "        blk.segments.append(seg)\n",
    "\n",
    "    for seg in blk.segments:\n",
    "\n",
    "        original_block = Block(name=\"experiment\", \n",
    "                               session_start_time=datetime.now(), \n",
    "                               experimenter=\"Elodie\", \n",
    "                               experiment_description=\"Experiment description\",\n",
    "                               institution=\"CNRS\",\n",
    "                               subject=subject_annotations,\n",
    "                              )\n",
    "#        print(\"original_block.annotations = \", original_block.annotations)\n",
    "        segment = Segment(name=\"session 1\")\n",
    "        original_block.segments.append(segment)\n",
    "        segment.block = original_block\n",
    "\n",
    "        # NWB annotations\n",
    "        electrode_annotations = {\n",
    "            \"name\": \"electrode #1\",\n",
    "            \"description\": \"intracellular electrode\",\n",
    "            \"device\": {\"name\": \"electrode #1\"},}\n",
    "\n",
    "        sweep_number_annotations = {\n",
    "            \"name\": (\"pynwb.icephys\", \"SweepTable\"),\n",
    "            \"description\": \"Description of the SweepTable\",\n",
    "            \"id\": 1.0,\n",
    "            \"columns\":1,\n",
    "            \"colnames\":1,}\n",
    "\n",
    "        stimulus_annotations = {\n",
    "            \"nwb_group\": \"stimulus\",\n",
    "            \"nwb_neurodata_type\": (\"pynwb.icephys\", \"CurrentClampStimulusSeries\"),\n",
    "            \"nwb_electrode\": electrode_annotations,\n",
    "            \"nwb_sweep_number\": sweep_number_annotations,\n",
    "            \"nwb:gain\": 1.0,}\n",
    "\n",
    "        response_annotations = {\n",
    "            \"nwb_group\": \"acquisition\",\n",
    "            \"nwb_neurodata_type\": (\"pynwb.icephys\", \"CurrentClampSeries\"),\n",
    "            \"nwb_electrode\": electrode_annotations,\n",
    "            \"nwb_sweep_number\": sweep_number_annotations,\n",
    "            \"nwb:gain\": 1.0,\n",
    "            \"nwb:bias_current\": 1e-12,\n",
    "            \"nwb:bridge_balance\": 70e6,\n",
    "            \"nwb:capacitance_compensation\": 1e-12,}\n",
    "\n",
    "        # Neo objects\n",
    "        stimulus = AnalogSignal(np.random.randn(100, 1) * pq.nA,\n",
    "                                sampling_rate=5 * pq.kHz,\n",
    "                                t_start=50 * pq.ms,\n",
    "                                name=\"stimulus\",\n",
    "                                **stimulus_annotations)\n",
    "        response = AnalogSignal(np.random.randn(100, 1) * pq.mV,\n",
    "                                sampling_rate=5 * pq.kHz,\n",
    "                                t_start=50 * pq.ms,\n",
    "                                name=\"response\",\n",
    "                                **response_annotations)\n",
    "        \n",
    "        segment.analogsignals = [stimulus, response]\n",
    "        stimulus.segment = response.segment = segment"
   ]
  },
  {
   "cell_type": "markdown",
   "metadata": {},
   "source": [
    "## Write a NWB file using Neo NWBIO"
   ]
  },
  {
   "cell_type": "code",
   "execution_count": 3,
   "metadata": {},
   "outputs": [
    {
     "name": "stderr",
     "output_type": "stream",
     "text": [
      "/Users/legouee/miniconda3/envs/Brainhack/lib/python3.8/site-packages/pynwb/file.py:1037: UserWarning: Date is missing timezone information. Updating to local timezone.\n",
      "  warn(\"Date is missing timezone information. Updating to local timezone.\")\n",
      "/Users/legouee/miniconda3/envs/Brainhack/lib/python3.8/site-packages/pynwb/icephys.py:21: UserWarning: Unit 'V' for CurrentClampStimulusSeries 'experiment : segment0 stimulus 0' is ignored and will be set to 'amperes' as per NWB 2.1.0.\n",
      "  warnings.warn(\n",
      "/Users/legouee/miniconda3/envs/Brainhack/lib/python3.8/site-packages/pynwb/icephys.py:21: UserWarning: Unit 'V' for CurrentClampSeries 'experiment : segment0 response 1' is ignored and will be set to 'volts' as per NWB 2.1.0.\n",
      "  warnings.warn(\n"
     ]
    },
    {
     "name": "stdout",
     "output_type": "stream",
     "text": [
      "iow =  <neo.io.nwbio.NWBIO object at 0x11263c340>\n"
     ]
    }
   ],
   "source": [
    "test_file_name = \"test_NWB_Inspector.nwb\"\n",
    "iow = NWBIO(filename=test_file_name, mode='w')\n",
    "iow.write_all_blocks([original_block])\n",
    "print(\"iow = \", iow)"
   ]
  },
  {
   "cell_type": "markdown",
   "metadata": {},
   "source": [
    "## Read this file using Neo NWBIO"
   ]
  },
  {
   "cell_type": "code",
   "execution_count": 4,
   "metadata": {},
   "outputs": [
    {
     "name": "stdout",
     "output_type": "stream",
     "text": [
      "retrieved_block =  [<neo.core.block.Block object at 0x12a1c0a00>]\n"
     ]
    }
   ],
   "source": [
    "ior = NWBIO(filename=test_file_name, mode='r')\n",
    "retrieved_block = ior.read_all_blocks()\n",
    "print(\"retrieved_block = \", retrieved_block)"
   ]
  },
  {
   "cell_type": "markdown",
   "metadata": {},
   "source": [
    "## Validating NWB file using PyNWB"
   ]
  },
  {
   "cell_type": "code",
   "execution_count": 5,
   "metadata": {},
   "outputs": [
    {
     "name": "stdout",
     "output_type": "stream",
     "text": [
      "Validating test_NWB_Inspector.nwb against cached namespace information using namespace 'core'.\n",
      " - no errors found.\n"
     ]
    }
   ],
   "source": [
    "!python -m pynwb.validate test_NWB_Inspector.nwb"
   ]
  },
  {
   "cell_type": "markdown",
   "metadata": {},
   "source": [
    "## NWB Inspector\n",
    "### Inspect NWB files for compliance with NWB Best Practices. "
   ]
  },
  {
   "cell_type": "markdown",
   "metadata": {},
   "source": [
    "### Quick check"
   ]
  },
  {
   "cell_type": "code",
   "execution_count": 6,
   "metadata": {},
   "outputs": [],
   "source": [
    "!nwbinspector /Users/legouee/NWBwork/my_notebook/test_NWB_Inspector.nwb"
   ]
  },
  {
   "cell_type": "markdown",
   "metadata": {},
   "source": [
    "## Common flags"
   ]
  },
  {
   "cell_type": "markdown",
   "metadata": {},
   "source": [
    "### Save the report for future reference"
   ]
  },
  {
   "cell_type": "code",
   "execution_count": 7,
   "metadata": {},
   "outputs": [],
   "source": [
    "#!nwbinspector /Users/legouee/NWBwork/my_notebook/test_NWB_Inspector.nwb -o --log-file /Users/legouee/NWBwork/my_notebook/nwbinspector_report.txt\n",
    "!nwbinspector /Users/legouee/NWBwork/my_notebook/test_NWB_Inspector.nwb -o --json-file-path /Users/legouee/NWBwork/my_notebook/nwbinspector_report.txt"
   ]
  },
  {
   "cell_type": "markdown",
   "metadata": {},
   "source": [
    "## Inspect a single NWBFile"
   ]
  },
  {
   "cell_type": "code",
   "execution_count": 8,
   "metadata": {},
   "outputs": [
    {
     "name": "stdout",
     "output_type": "stream",
     "text": [
      "results =  []\n"
     ]
    }
   ],
   "source": [
    "from nwbinspector import inspect_nwb\n",
    "\n",
    "results = list(inspect_nwb(nwbfile_path=\"test_NWB_Inspector.nwb\"))\n",
    "print(\"results = \", results)"
   ]
  },
  {
   "cell_type": "markdown",
   "metadata": {},
   "source": [
    "## Yielding and Iterating"
   ]
  },
  {
   "cell_type": "code",
   "execution_count": 9,
   "metadata": {},
   "outputs": [
    {
     "name": "stdout",
     "output_type": "stream",
     "text": [
      "results_generator =  <generator object inspect_nwb at 0x129f3c350>\n"
     ]
    }
   ],
   "source": [
    "results_generator = inspect_nwb(nwbfile_path=\"test_NWB_Inspector.nwb\")\n",
    "print(\"results_generator = \", results_generator)"
   ]
  },
  {
   "cell_type": "code",
   "execution_count": 10,
   "metadata": {},
   "outputs": [],
   "source": [
    "#first_message = next(results_generator)\n",
    "#print(\"first_message = \", first_message)"
   ]
  },
  {
   "cell_type": "code",
   "execution_count": 11,
   "metadata": {},
   "outputs": [],
   "source": [
    "results_generator = inspect_nwb(nwbfile_path=\"test_NWB_Inspector.nwb\")\n",
    "\n",
    "for message in results_generator:\n",
    "    print(message.message)\n",
    "    print(\"  \")\n",
    "    print(message)\n",
    "    print(\"   \")\n",
    "    print(\"message.importance=\", message.importance)\n",
    "    print(\"message.importance.__dict__=\", message.importance.__dict__)\n",
    "    \n",
    "    print(\"message.severity=\", message.severity)\n",
    "    print(\"message.severity.__dict__=\", message.severity.__dict__)\n",
    "    print(\"message.severity=\", message.severity)\n",
    "    \n",
    "    \n",
    "    if message.importance._name_==\"BEST_PRACTICE_SUGGESTION\":\n",
    "        print(\"ok\")\n",
    "    if message.severity._name_==\"LOW\":\n",
    "        print(\"OKok\")\n",
    "    print(\"----\")"
   ]
  },
  {
   "cell_type": "code",
   "execution_count": null,
   "metadata": {},
   "outputs": [],
   "source": []
  },
  {
   "cell_type": "code",
   "execution_count": null,
   "metadata": {},
   "outputs": [],
   "source": []
  }
 ],
 "metadata": {
  "kernelspec": {
   "display_name": "Python 3 (ipykernel)",
   "language": "python",
   "name": "python3"
  },
  "language_info": {
   "codemirror_mode": {
    "name": "ipython",
    "version": 3
   },
   "file_extension": ".py",
   "mimetype": "text/x-python",
   "name": "python",
   "nbconvert_exporter": "python",
   "pygments_lexer": "ipython3",
   "version": "3.8.0"
  }
 },
 "nbformat": 4,
 "nbformat_minor": 2
}
