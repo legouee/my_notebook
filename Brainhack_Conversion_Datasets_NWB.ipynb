{
 "cells": [
  {
   "cell_type": "code",
   "execution_count": 1,
   "metadata": {},
   "outputs": [],
   "source": [
    "import jupyter"
   ]
  },
  {
   "cell_type": "code",
   "execution_count": 2,
   "metadata": {},
   "outputs": [
    {
     "name": "stdout",
     "output_type": "stream",
     "text": [
      "/Users/legouee/miniconda3/envs/Brainhack/lib/python3.8/site-packages/jupyter.py\n"
     ]
    }
   ],
   "source": [
    "print(jupyter.__file__)"
   ]
  },
  {
   "cell_type": "markdown",
   "metadata": {},
   "source": [
    "# Conversion of datasets"
   ]
  },
  {
   "cell_type": "code",
   "execution_count": 3,
   "metadata": {},
   "outputs": [],
   "source": [
    "from neo import *\n",
    "import glob\n",
    "from datetime import datetime"
   ]
  },
  {
   "cell_type": "markdown",
   "metadata": {},
   "source": [
    "        Neo IO class      -   Readable format files\n",
    "            AxonIO        -     .abf\n",
    "        AsciiSignalIO     -     .dat\n",
    "        AsciiImageIO      -     .txt\n",
    "           Spike2IO       -     .smr\n",
    "            IgorIO        -     .pxp ; .ibw"
   ]
  },
  {
   "cell_type": "markdown",
   "metadata": {},
   "source": [
    "## Loop multiple files on the same directory"
   ]
  },
  {
   "cell_type": "code",
   "execution_count": 4,
   "metadata": {
    "scrolled": true
   },
   "outputs": [
    {
     "name": "stdout",
     "output_type": "stream",
     "text": [
      "files =  /Users/legouee/Desktop/Brainhack/Original_test_files/test_abf_file.abf\n",
      "test_file_name_NWB =  /Users/legouee/Desktop/Brainhack/Original_test_files/test_abf_file.abf.nwb\n",
      "new_test_file_name_NWB =  /Users/legouee/Desktop/Brainhack/Original_test_files/test_abf_file.nwb\n"
     ]
    },
    {
     "name": "stderr",
     "output_type": "stream",
     "text": [
      "/Users/legouee/miniconda3/envs/Brainhack/lib/python3.8/site-packages/pynwb/file.py:1037: UserWarning: Date is missing timezone information. Updating to local timezone.\n",
      "  warn(\"Date is missing timezone information. Updating to local timezone.\")\n"
     ]
    }
   ],
   "source": [
    "targetPattern = r'/Users/legouee/Desktop/Brainhack/Original_test_files/*.abf'\n",
    "\n",
    "for files in glob.glob(targetPattern):\n",
    "    print(\"files = \", files)\n",
    "\n",
    "    # Open the file using Neo\n",
    "    ior = AxonIO(filename=files)\n",
    "\n",
    "    # Read the file\n",
    "    blk = ior.read_block()\n",
    "\n",
    "    # Change the name of the file\n",
    "    test_file_name_NWB = files  + '.nwb'\n",
    "    print(\"test_file_name_NWB = \", test_file_name_NWB)\n",
    "    \n",
    "    new_test_file_name_NWB = test_file_name_NWB.split('.')[0] + '.nwb' \n",
    "    print(\"new_test_file_name_NWB = \", new_test_file_name_NWB)\n",
    "    \n",
    "    # Write the file as .nwb\n",
    "    iow = NWBIO(filename=new_test_file_name_NWB, mode='w')\n",
    "    w = iow.write_all_blocks([blk])"
   ]
  },
  {
   "cell_type": "code",
   "execution_count": 5,
   "metadata": {},
   "outputs": [
    {
     "data": {
      "text/plain": [
       "Block with 14 segments, 1 groups\n",
       "name: 'block0'\n",
       "annotations: {'abf_version': 1.600000023841858}\n",
       "file_origin: '/Users/legouee/Desktop/Brainhack/Original_test_files/test_abf_file.abf'\n",
       "rec_datetime: datetime.datetime(1900, 1, 1, 15, 19, 6, 449999)\n",
       "# segments (N=14)\n",
       "0: Segment with 1 analogsignals, 1 events\n",
       "   name: 'block0 : segment0'\n",
       "   annotations: {'abf_version': 1.600000023841858}\n",
       "   # analogsignals (N=1)\n",
       "   0: AnalogSignal with 1 channels of length 10322; units mV; datatype float32 \n",
       "      name: 'Signals block0 : segment0 0'\n",
       "      annotations: {'stream_id': '0'}\n",
       "      sampling rate: 4000.0 Hz\n",
       "      time: 0.0 s to 2.5805 s\n",
       "1: Segment with 1 analogsignals, 1 events\n",
       "   name: 'block0 : segment1'\n",
       "   annotations: {'abf_version': 1.600000023841858}\n",
       "   # analogsignals (N=1)\n",
       "   0: AnalogSignal with 1 channels of length 10322; units mV; datatype float32 \n",
       "      name: 'Signals block0 : segment1 0'\n",
       "      annotations: {'stream_id': '0'}\n",
       "      sampling rate: 4000.0 Hz\n",
       "      time: 4.0 s to 6.5805 s\n",
       "2: Segment with 1 analogsignals, 1 events\n",
       "   name: 'block0 : segment2'\n",
       "   annotations: {'abf_version': 1.600000023841858}\n",
       "   # analogsignals (N=1)\n",
       "   0: AnalogSignal with 1 channels of length 10322; units mV; datatype float32 \n",
       "      name: 'Signals block0 : segment2 0'\n",
       "      annotations: {'stream_id': '0'}\n",
       "      sampling rate: 4000.0 Hz\n",
       "      time: 8.0 s to 10.5805 s\n",
       "3: Segment with 1 analogsignals, 1 events\n",
       "   name: 'block0 : segment3'\n",
       "   annotations: {'abf_version': 1.600000023841858}\n",
       "   # analogsignals (N=1)\n",
       "   0: AnalogSignal with 1 channels of length 10322; units mV; datatype float32 \n",
       "      name: 'Signals block0 : segment3 0'\n",
       "      annotations: {'stream_id': '0'}\n",
       "      sampling rate: 4000.0 Hz\n",
       "      time: 12.0 s to 14.5805 s\n",
       "4: Segment with 1 analogsignals, 1 events\n",
       "   name: 'block0 : segment4'\n",
       "   annotations: {'abf_version': 1.600000023841858}\n",
       "   # analogsignals (N=1)\n",
       "   0: AnalogSignal with 1 channels of length 10322; units mV; datatype float32 \n",
       "      name: 'Signals block0 : segment4 0'\n",
       "      annotations: {'stream_id': '0'}\n",
       "      sampling rate: 4000.0 Hz\n",
       "      time: 16.0 s to 18.5805 s\n",
       "5: Segment with 1 analogsignals, 1 events\n",
       "   name: 'block0 : segment5'\n",
       "   annotations: {'abf_version': 1.600000023841858}\n",
       "   # analogsignals (N=1)\n",
       "   0: AnalogSignal with 1 channels of length 10322; units mV; datatype float32 \n",
       "      name: 'Signals block0 : segment5 0'\n",
       "      annotations: {'stream_id': '0'}\n",
       "      sampling rate: 4000.0 Hz\n",
       "      time: 20.0 s to 22.5805 s\n",
       "6: Segment with 1 analogsignals, 1 events\n",
       "   name: 'block0 : segment6'\n",
       "   annotations: {'abf_version': 1.600000023841858}\n",
       "   # analogsignals (N=1)\n",
       "   0: AnalogSignal with 1 channels of length 10322; units mV; datatype float32 \n",
       "      name: 'Signals block0 : segment6 0'\n",
       "      annotations: {'stream_id': '0'}\n",
       "      sampling rate: 4000.0 Hz\n",
       "      time: 24.0 s to 26.5805 s\n",
       "7: Segment with 1 analogsignals, 1 events\n",
       "   name: 'block0 : segment7'\n",
       "   annotations: {'abf_version': 1.600000023841858}\n",
       "   # analogsignals (N=1)\n",
       "   0: AnalogSignal with 1 channels of length 10322; units mV; datatype float32 \n",
       "      name: 'Signals block0 : segment7 0'\n",
       "      annotations: {'stream_id': '0'}\n",
       "      sampling rate: 4000.0 Hz\n",
       "      time: 28.0 s to 30.5805 s\n",
       "8: Segment with 1 analogsignals, 1 events\n",
       "   name: 'block0 : segment8'\n",
       "   annotations: {'abf_version': 1.600000023841858}\n",
       "   # analogsignals (N=1)\n",
       "   0: AnalogSignal with 1 channels of length 10322; units mV; datatype float32 \n",
       "      name: 'Signals block0 : segment8 0'\n",
       "      annotations: {'stream_id': '0'}\n",
       "      sampling rate: 4000.0 Hz\n",
       "      time: 32.0 s to 34.5805 s\n",
       "9: Segment with 1 analogsignals, 1 events\n",
       "   name: 'block0 : segment9'\n",
       "   annotations: {'abf_version': 1.600000023841858}\n",
       "   # analogsignals (N=1)\n",
       "   0: AnalogSignal with 1 channels of length 10322; units mV; datatype float32 \n",
       "      name: 'Signals block0 : segment9 0'\n",
       "      annotations: {'stream_id': '0'}\n",
       "      sampling rate: 4000.0 Hz\n",
       "      time: 36.0 s to 38.5805 s\n",
       "10: Segment with 1 analogsignals, 1 events\n",
       "   name: 'block0 : segment10'\n",
       "   annotations: {'abf_version': 1.600000023841858}\n",
       "   # analogsignals (N=1)\n",
       "   0: AnalogSignal with 1 channels of length 10322; units mV; datatype float32 \n",
       "      name: 'Signals block0 : segment10 0'\n",
       "      annotations: {'stream_id': '0'}\n",
       "      sampling rate: 4000.0 Hz\n",
       "      time: 40.0 s to 42.5805 s\n",
       "11: Segment with 1 analogsignals, 1 events\n",
       "   name: 'block0 : segment11'\n",
       "   annotations: {'abf_version': 1.600000023841858}\n",
       "   # analogsignals (N=1)\n",
       "   0: AnalogSignal with 1 channels of length 10322; units mV; datatype float32 \n",
       "      name: 'Signals block0 : segment11 0'\n",
       "      annotations: {'stream_id': '0'}\n",
       "      sampling rate: 4000.0 Hz\n",
       "      time: 44.0 s to 46.5805 s\n",
       "12: Segment with 1 analogsignals, 1 events\n",
       "   name: 'block0 : segment12'\n",
       "   annotations: {'abf_version': 1.600000023841858}\n",
       "   # analogsignals (N=1)\n",
       "   0: AnalogSignal with 1 channels of length 10322; units mV; datatype float32 \n",
       "      name: 'Signals block0 : segment12 0'\n",
       "      annotations: {'stream_id': '0'}\n",
       "      sampling rate: 4000.0 Hz\n",
       "      time: 48.0 s to 50.5805 s\n",
       "13: Segment with 1 analogsignals, 1 events\n",
       "   name: 'block0 : segment13'\n",
       "   annotations: {'abf_version': 1.600000023841858}\n",
       "   # analogsignals (N=1)\n",
       "   0: AnalogSignal with 1 channels of length 10322; units mV; datatype float32 \n",
       "      name: 'Signals block0 : segment13 0'\n",
       "      annotations: {'stream_id': '0'}\n",
       "      sampling rate: 4000.0 Hz\n",
       "      time: 52.0 s to 54.5805 s"
      ]
     },
     "execution_count": 5,
     "metadata": {},
     "output_type": "execute_result"
    }
   ],
   "source": [
    "blk"
   ]
  },
  {
   "cell_type": "markdown",
   "metadata": {
    "collapsed": true
   },
   "source": [
    "## Read the converted file"
   ]
  },
  {
   "cell_type": "markdown",
   "metadata": {
    "collapsed": true
   },
   "source": [
    "### Name of the new NWB file"
   ]
  },
  {
   "cell_type": "code",
   "execution_count": 6,
   "metadata": {},
   "outputs": [],
   "source": [
    "test_file_name = '/Users/legouee/Desktop/Brainhack/Original_test_files/test_abf_file.nwb'"
   ]
  },
  {
   "cell_type": "markdown",
   "metadata": {},
   "source": [
    "### Read using the NWBIO class"
   ]
  },
  {
   "cell_type": "code",
   "execution_count": 7,
   "metadata": {},
   "outputs": [],
   "source": [
    "iowr = NWBIO(filename=test_file_name, mode='r')"
   ]
  },
  {
   "cell_type": "code",
   "execution_count": 8,
   "metadata": {},
   "outputs": [
    {
     "name": "stdout",
     "output_type": "stream",
     "text": [
      "iowr =  <neo.io.nwbio.NWBIO object at 0x1254e7e50>\n"
     ]
    }
   ],
   "source": [
    "print(\"iowr = \", iowr)"
   ]
  },
  {
   "cell_type": "code",
   "execution_count": 9,
   "metadata": {},
   "outputs": [],
   "source": [
    "read_NWB_file = iowr.read()"
   ]
  },
  {
   "cell_type": "code",
   "execution_count": 10,
   "metadata": {},
   "outputs": [
    {
     "name": "stdout",
     "output_type": "stream",
     "text": [
      "read_NWB_file =  [<neo.core.block.Block object at 0x1254e77f0>]\n"
     ]
    }
   ],
   "source": [
    "print(\"read_NWB_file = \", read_NWB_file)"
   ]
  },
  {
   "cell_type": "code",
   "execution_count": 11,
   "metadata": {},
   "outputs": [
    {
     "data": {
      "text/plain": [
       "[Block with 14 segments\n",
       " name: 'block0'\n",
       " description: '/Users/legouee/Desktop/Brainhack/Original_test_files/test_abf_file.nwb'\n",
       " annotations: {'session_start_time': datetime.datetime(1900, 1, 1, 15, 19, 6, 449999, tzinfo=tzoffset(None, 3600)),\n",
       "   'identifier': '/Users/legouee/Desktop/Brainhack/Original_test_files/test_abf_file.nwb',\n",
       "   'timestamps_reference_time': datetime.datetime(1900, 1, 1, 15, 19, 6, 449999, tzinfo=tzoffset(None, 3600)),\n",
       "   'session_description': '/Users/legouee/Desktop/Brainhack/Original_test_files/test_abf_file.nwb'}\n",
       " file_origin: '/Users/legouee/Desktop/Brainhack/Original_test_files/test_abf_file.nwb'\n",
       " rec_datetime: datetime.datetime(1900, 1, 1, 15, 19, 6, 449999, tzinfo=tzoffset(None, 3600))\n",
       " # segments (N=14)\n",
       " 0: Segment with 1 analogsignals, 1 events\n",
       "    name: 'block0 : segment0'\n",
       "    # analogsignals (N=1)\n",
       "    0: AnalogSignal with 1 channels of length 10322; units mV; datatype float32 \n",
       "       name: 'Signals block0 : segment0 0'\n",
       "       description: 'no description'\n",
       "       annotations: {'nwb_group': 'acquisition',\n",
       "         'nwb:resolution': -1.0,\n",
       "         'nwb:conversion': 1.0,\n",
       "         'nwb_neurodata_type': ('pynwb.base', 'TimeSeries')}\n",
       "       sampling rate: 4000.0 Hz\n",
       "       time: 0.0 s to 2.5805 s\n",
       " 1: Segment with 1 analogsignals, 1 events\n",
       "    name: 'block0 : segment1'\n",
       "    # analogsignals (N=1)\n",
       "    0: AnalogSignal with 1 channels of length 10322; units mV; datatype float32 \n",
       "       name: 'Signals block0 : segment1 0'\n",
       "       description: 'no description'\n",
       "       annotations: {'nwb_group': 'acquisition',\n",
       "         'nwb:resolution': -1.0,\n",
       "         'nwb:conversion': 1.0,\n",
       "         'nwb_neurodata_type': ('pynwb.base', 'TimeSeries')}\n",
       "       sampling rate: 4000.0 Hz\n",
       "       time: 4.0 s to 6.5805 s\n",
       " 2: Segment with 1 analogsignals, 1 events\n",
       "    name: 'block0 : segment10'\n",
       "    # analogsignals (N=1)\n",
       "    0: AnalogSignal with 1 channels of length 10322; units mV; datatype float32 \n",
       "       name: 'Signals block0 : segment10 0'\n",
       "       description: 'no description'\n",
       "       annotations: {'nwb_group': 'acquisition',\n",
       "         'nwb:resolution': -1.0,\n",
       "         'nwb:conversion': 1.0,\n",
       "         'nwb_neurodata_type': ('pynwb.base', 'TimeSeries')}\n",
       "       sampling rate: 4000.0 Hz\n",
       "       time: 40.0 s to 42.5805 s\n",
       " 3: Segment with 1 analogsignals, 1 events\n",
       "    name: 'block0 : segment11'\n",
       "    # analogsignals (N=1)\n",
       "    0: AnalogSignal with 1 channels of length 10322; units mV; datatype float32 \n",
       "       name: 'Signals block0 : segment11 0'\n",
       "       description: 'no description'\n",
       "       annotations: {'nwb_group': 'acquisition',\n",
       "         'nwb:resolution': -1.0,\n",
       "         'nwb:conversion': 1.0,\n",
       "         'nwb_neurodata_type': ('pynwb.base', 'TimeSeries')}\n",
       "       sampling rate: 4000.0 Hz\n",
       "       time: 44.0 s to 46.5805 s\n",
       " 4: Segment with 1 analogsignals, 1 events\n",
       "    name: 'block0 : segment12'\n",
       "    # analogsignals (N=1)\n",
       "    0: AnalogSignal with 1 channels of length 10322; units mV; datatype float32 \n",
       "       name: 'Signals block0 : segment12 0'\n",
       "       description: 'no description'\n",
       "       annotations: {'nwb_group': 'acquisition',\n",
       "         'nwb:resolution': -1.0,\n",
       "         'nwb:conversion': 1.0,\n",
       "         'nwb_neurodata_type': ('pynwb.base', 'TimeSeries')}\n",
       "       sampling rate: 4000.0 Hz\n",
       "       time: 48.0 s to 50.5805 s\n",
       " 5: Segment with 1 analogsignals, 1 events\n",
       "    name: 'block0 : segment13'\n",
       "    # analogsignals (N=1)\n",
       "    0: AnalogSignal with 1 channels of length 10322; units mV; datatype float32 \n",
       "       name: 'Signals block0 : segment13 0'\n",
       "       description: 'no description'\n",
       "       annotations: {'nwb_group': 'acquisition',\n",
       "         'nwb:resolution': -1.0,\n",
       "         'nwb:conversion': 1.0,\n",
       "         'nwb_neurodata_type': ('pynwb.base', 'TimeSeries')}\n",
       "       sampling rate: 4000.0 Hz\n",
       "       time: 52.0 s to 54.5805 s\n",
       " 6: Segment with 1 analogsignals, 1 events\n",
       "    name: 'block0 : segment2'\n",
       "    # analogsignals (N=1)\n",
       "    0: AnalogSignal with 1 channels of length 10322; units mV; datatype float32 \n",
       "       name: 'Signals block0 : segment2 0'\n",
       "       description: 'no description'\n",
       "       annotations: {'nwb_group': 'acquisition',\n",
       "         'nwb:resolution': -1.0,\n",
       "         'nwb:conversion': 1.0,\n",
       "         'nwb_neurodata_type': ('pynwb.base', 'TimeSeries')}\n",
       "       sampling rate: 4000.0 Hz\n",
       "       time: 8.0 s to 10.5805 s\n",
       " 7: Segment with 1 analogsignals, 1 events\n",
       "    name: 'block0 : segment3'\n",
       "    # analogsignals (N=1)\n",
       "    0: AnalogSignal with 1 channels of length 10322; units mV; datatype float32 \n",
       "       name: 'Signals block0 : segment3 0'\n",
       "       description: 'no description'\n",
       "       annotations: {'nwb_group': 'acquisition',\n",
       "         'nwb:resolution': -1.0,\n",
       "         'nwb:conversion': 1.0,\n",
       "         'nwb_neurodata_type': ('pynwb.base', 'TimeSeries')}\n",
       "       sampling rate: 4000.0 Hz\n",
       "       time: 12.0 s to 14.5805 s\n",
       " 8: Segment with 1 analogsignals, 1 events\n",
       "    name: 'block0 : segment4'\n",
       "    # analogsignals (N=1)\n",
       "    0: AnalogSignal with 1 channels of length 10322; units mV; datatype float32 \n",
       "       name: 'Signals block0 : segment4 0'\n",
       "       description: 'no description'\n",
       "       annotations: {'nwb_group': 'acquisition',\n",
       "         'nwb:resolution': -1.0,\n",
       "         'nwb:conversion': 1.0,\n",
       "         'nwb_neurodata_type': ('pynwb.base', 'TimeSeries')}\n",
       "       sampling rate: 4000.0 Hz\n",
       "       time: 16.0 s to 18.5805 s\n",
       " 9: Segment with 1 analogsignals, 1 events\n",
       "    name: 'block0 : segment5'\n",
       "    # analogsignals (N=1)\n",
       "    0: AnalogSignal with 1 channels of length 10322; units mV; datatype float32 \n",
       "       name: 'Signals block0 : segment5 0'\n",
       "       description: 'no description'\n",
       "       annotations: {'nwb_group': 'acquisition',\n",
       "         'nwb:resolution': -1.0,\n",
       "         'nwb:conversion': 1.0,\n",
       "         'nwb_neurodata_type': ('pynwb.base', 'TimeSeries')}\n",
       "       sampling rate: 4000.0 Hz\n",
       "       time: 20.0 s to 22.5805 s\n",
       " 10: Segment with 1 analogsignals, 1 events\n",
       "    name: 'block0 : segment6'\n",
       "    # analogsignals (N=1)\n",
       "    0: AnalogSignal with 1 channels of length 10322; units mV; datatype float32 \n",
       "       name: 'Signals block0 : segment6 0'\n",
       "       description: 'no description'\n",
       "       annotations: {'nwb_group': 'acquisition',\n",
       "         'nwb:resolution': -1.0,\n",
       "         'nwb:conversion': 1.0,\n",
       "         'nwb_neurodata_type': ('pynwb.base', 'TimeSeries')}\n",
       "       sampling rate: 4000.0 Hz\n",
       "       time: 24.0 s to 26.5805 s\n",
       " 11: Segment with 1 analogsignals, 1 events\n",
       "    name: 'block0 : segment7'\n",
       "    # analogsignals (N=1)\n",
       "    0: AnalogSignal with 1 channels of length 10322; units mV; datatype float32 \n",
       "       name: 'Signals block0 : segment7 0'\n",
       "       description: 'no description'\n",
       "       annotations: {'nwb_group': 'acquisition',\n",
       "         'nwb:resolution': -1.0,\n",
       "         'nwb:conversion': 1.0,\n",
       "         'nwb_neurodata_type': ('pynwb.base', 'TimeSeries')}\n",
       "       sampling rate: 4000.0 Hz\n",
       "       time: 28.0 s to 30.5805 s\n",
       " 12: Segment with 1 analogsignals, 1 events\n",
       "    name: 'block0 : segment8'\n",
       "    # analogsignals (N=1)\n",
       "    0: AnalogSignal with 1 channels of length 10322; units mV; datatype float32 \n",
       "       name: 'Signals block0 : segment8 0'\n",
       "       description: 'no description'\n",
       "       annotations: {'nwb_group': 'acquisition',\n",
       "         'nwb:resolution': -1.0,\n",
       "         'nwb:conversion': 1.0,\n",
       "         'nwb_neurodata_type': ('pynwb.base', 'TimeSeries')}\n",
       "       sampling rate: 4000.0 Hz\n",
       "       time: 32.0 s to 34.5805 s\n",
       " 13: Segment with 1 analogsignals, 1 events\n",
       "    name: 'block0 : segment9'\n",
       "    # analogsignals (N=1)\n",
       "    0: AnalogSignal with 1 channels of length 10322; units mV; datatype float32 \n",
       "       name: 'Signals block0 : segment9 0'\n",
       "       description: 'no description'\n",
       "       annotations: {'nwb_group': 'acquisition',\n",
       "         'nwb:resolution': -1.0,\n",
       "         'nwb:conversion': 1.0,\n",
       "         'nwb_neurodata_type': ('pynwb.base', 'TimeSeries')}\n",
       "       sampling rate: 4000.0 Hz\n",
       "       time: 36.0 s to 38.5805 s]"
      ]
     },
     "execution_count": 11,
     "metadata": {},
     "output_type": "execute_result"
    }
   ],
   "source": [
    "iowr.read_all_blocks()"
   ]
  },
  {
   "cell_type": "code",
   "execution_count": null,
   "metadata": {},
   "outputs": [],
   "source": []
  }
 ],
 "metadata": {
  "kernelspec": {
   "display_name": "Python 3 (ipykernel)",
   "language": "python",
   "name": "python3"
  },
  "language_info": {
   "codemirror_mode": {
    "name": "ipython",
    "version": 3
   },
   "file_extension": ".py",
   "mimetype": "text/x-python",
   "name": "python",
   "nbconvert_exporter": "python",
   "pygments_lexer": "ipython3",
   "version": "3.8.0"
  }
 },
 "nbformat": 4,
 "nbformat_minor": 2
}
