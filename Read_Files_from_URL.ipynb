{
 "cells": [
  {
   "cell_type": "code",
   "execution_count": 53,
   "id": "a3505f88",
   "metadata": {},
   "outputs": [],
   "source": [
    "import neo\n",
    "from neo import *\n",
    "from neo.utils import get_local_testing_data_folder"
   ]
  },
  {
   "cell_type": "markdown",
   "id": "03979f46",
   "metadata": {},
   "source": [
    "### If download"
   ]
  },
  {
   "cell_type": "code",
   "execution_count": 2,
   "id": "ce192c12",
   "metadata": {},
   "outputs": [
    {
     "data": {
      "text/plain": [
       "'\\nimport wget\\nimport glob\\n\\nurl = \\'https://object.cscs.ch/v1/AUTH_4791e0a3b3de43e2840fe46d9dc2b334/ext-d000040_EEG_and_MWM_CyclinD2-KO_vs_WT_pub/Raw_Data_Sleep/KO/gk-0999/gk-0999_baseline_epochs.txt\\'\\n#url = \\'https://object.cscs.ch/v1/AUTH_4791e0a3b3de43e2840fe46d9dc2b334/ext-d000040_EEG_and_MWM_CyclinD2-KO_vs_WT_pub/Raw_Data_Sleep/KO/gk-0999/*\\'\\nprint(\"url = \", url)\\nprint(\"glob.glob(url) = \", glob.glob(url))\\nprint(\"glob.glob(os.path.join(url, .txt)) = \", glob.glob(os.path.join(url,\"*.txt\")))\\nprint(\"os.path.join(url, .txt) = \", os.path.join(url,\"*.txt\"))\\n#print(\"listdir(url) = \", os.listdir(url))\\n##wget.download(url)\\n\\n#for i in glob.glob(url):\\n#for i in glob.glob(os.path.join(url,\"*.txt\")):\\nfor i in url:\\n    \\n    print(\"i = \", i)\\n#    file = wget.download(url)[0]\\n##    file = wget.download(url)\\n    file = wget.read(url)\\n    \\n    print(\"file = \", file)\\n\\n    test_file = \\'/Users/legouee/NWBwork/my_notebook/\\' + (\"%s\" % file)\\n    io = AsciiSignalIO(test_file, \\'r\\')\\n    print(\"io = \", io)\\n    blocks = io.read()\\n    print(\"blocks = \", blocks)\\n'"
      ]
     },
     "execution_count": 2,
     "metadata": {},
     "output_type": "execute_result"
    }
   ],
   "source": [
    "\"\"\"\n",
    "import wget\n",
    "import glob\n",
    "\n",
    "url = 'https://object.cscs.ch/v1/AUTH_4791e0a3b3de43e2840fe46d9dc2b334/ext-d000040_EEG_and_MWM_CyclinD2-KO_vs_WT_pub/Raw_Data_Sleep/KO/gk-0999/gk-0999_baseline_epochs.txt'\n",
    "#url = 'https://object.cscs.ch/v1/AUTH_4791e0a3b3de43e2840fe46d9dc2b334/ext-d000040_EEG_and_MWM_CyclinD2-KO_vs_WT_pub/Raw_Data_Sleep/KO/gk-0999/*'\n",
    "print(\"url = \", url)\n",
    "print(\"glob.glob(url) = \", glob.glob(url))\n",
    "print(\"glob.glob(os.path.join(url, .txt)) = \", glob.glob(os.path.join(url,\"*.txt\")))\n",
    "print(\"os.path.join(url, .txt) = \", os.path.join(url,\"*.txt\"))\n",
    "#print(\"listdir(url) = \", os.listdir(url))\n",
    "##wget.download(url)\n",
    "\n",
    "#for i in glob.glob(url):\n",
    "#for i in glob.glob(os.path.join(url,\"*.txt\")):\n",
    "for i in url:\n",
    "    \n",
    "    print(\"i = \", i)\n",
    "#    file = wget.download(url)[0]\n",
    "##    file = wget.download(url)\n",
    "    file = wget.read(url)\n",
    "    \n",
    "    print(\"file = \", file)\n",
    "\n",
    "    test_file = '/Users/legouee/NWBwork/my_notebook/' + (\"%s\" % file)\n",
    "    io = AsciiSignalIO(test_file, 'r')\n",
    "    print(\"io = \", io)\n",
    "    blocks = io.read()\n",
    "    print(\"blocks = \", blocks)\n",
    "\"\"\""
   ]
  },
  {
   "cell_type": "code",
   "execution_count": 3,
   "id": "2e5f63f9",
   "metadata": {},
   "outputs": [],
   "source": [
    "#import urllib.robotparser\n",
    "#rp = urllib.robotparser.RobotFileParser()\n",
    "#print(\"rp = \", rp)\n",
    "#file = rp.set_url(\"https://object.cscs.ch/v1/AUTH_4791e0a3b3de43e2840fe46d9dc2b334/ext-d000040_EEG_and_MWM_CyclinD2-KO_vs_WT_pub/Raw_Data_Sleep/KO/gk-0999/gk-0999_baseline_epochs.txt\")\n",
    "#print(\"file = \", file)\n",
    "#test = rp.read()\n",
    "#print(\"test = \", test)\n",
    "\n",
    "#io = AsciiSignalIO(file, 'r')\n",
    "#print(\"io = \", io)\n",
    "#blocks = io.read()\n",
    "#print(\"blocks = \", blocks)"
   ]
  },
  {
   "cell_type": "code",
   "execution_count": 57,
   "id": "313644bf",
   "metadata": {},
   "outputs": [
    {
     "name": "stdout",
     "output_type": "stream",
     "text": [
      "filename =  https://kg.ebrains.eu/proxy/export?container=https://object.cscs.ch/v1/AUTH_227176556f3c4bb38df9feea4b91200c/hbp-d002323_NeuromodNeocortex-EPhys_pub/Acetylcholine_modulation_in_S1_cortex_layer_6/Dose_response_curve_(MEC)/BC_25062019_B/BC_25062019_B_1µM.pxp\n",
      "local_filename3 =  https://kg.ebrains.eu/proxy/export?container=https://object.cscs.ch/v1/AUTH_227176556f3c4bb38df9feea4b91200c/hbp-d002323_NeuromodNeocortex-EPhys_pub/Acetylcholine_modulation_in_S1_cortex_layer_6/Dose_response_curve_(MEC)/BC_25062019_B/BC_25062019_B_1µM.pxp\n",
      "ior =  <neo.io.igorproio.IgorIO object at 0x115490460>\n"
     ]
    },
    {
     "ename": "FileNotFoundError",
     "evalue": "[Errno 2] No such file or directory: 'https:/kg.ebrains.eu/proxy/export?container=https:/object.cscs.ch/v1/AUTH_227176556f3c4bb38df9feea4b91200c/hbp-d002323_NeuromodNeocortex-EPhys_pub/Acetylcholine_modulation_in_S1_cortex_layer_6/Dose_response_curve_(MEC)/BC_25062019_B/BC_25062019_B_1µM.pxp'",
     "output_type": "error",
     "traceback": [
      "\u001b[0;31m---------------------------------------------------------------------------\u001b[0m",
      "\u001b[0;31mFileNotFoundError\u001b[0m                         Traceback (most recent call last)",
      "\u001b[0;32m<ipython-input-57-43c3d8f61a4d>\u001b[0m in \u001b[0;36m<module>\u001b[0;34m\u001b[0m\n\u001b[1;32m     37\u001b[0m \u001b[0mior\u001b[0m \u001b[0;34m=\u001b[0m \u001b[0mIgorIO\u001b[0m\u001b[0;34m(\u001b[0m\u001b[0mlocal_filename3\u001b[0m\u001b[0;34m,\u001b[0m \u001b[0;34m'r'\u001b[0m\u001b[0;34m)\u001b[0m\u001b[0;34m\u001b[0m\u001b[0;34m\u001b[0m\u001b[0m\n\u001b[1;32m     38\u001b[0m \u001b[0mprint\u001b[0m\u001b[0;34m(\u001b[0m\u001b[0;34m\"ior = \"\u001b[0m\u001b[0;34m,\u001b[0m \u001b[0mior\u001b[0m\u001b[0;34m)\u001b[0m\u001b[0;34m\u001b[0m\u001b[0;34m\u001b[0m\u001b[0m\n\u001b[0;32m---> 39\u001b[0;31m \u001b[0mblocks\u001b[0m \u001b[0;34m=\u001b[0m \u001b[0mior\u001b[0m\u001b[0;34m.\u001b[0m\u001b[0mread\u001b[0m\u001b[0;34m(\u001b[0m\u001b[0;34m)\u001b[0m\u001b[0;34m\u001b[0m\u001b[0;34m\u001b[0m\u001b[0m\n\u001b[0m\u001b[1;32m     40\u001b[0m \u001b[0mprint\u001b[0m\u001b[0;34m(\u001b[0m\u001b[0;34m\"blocks = \"\u001b[0m\u001b[0;34m,\u001b[0m \u001b[0mblocks\u001b[0m\u001b[0;34m)\u001b[0m\u001b[0;34m\u001b[0m\u001b[0;34m\u001b[0m\u001b[0m\n\u001b[1;32m     41\u001b[0m \u001b[0;34m\u001b[0m\u001b[0m\n",
      "\u001b[0;32m~/NWBwork/python-neo/neo/io/baseio.py\u001b[0m in \u001b[0;36mread\u001b[0;34m(self, lazy, **kargs)\u001b[0m\n\u001b[1;32m    122\u001b[0m                     callable(getattr(self, 'read_all_blocks'))):\n\u001b[1;32m    123\u001b[0m                 \u001b[0;32mreturn\u001b[0m \u001b[0mself\u001b[0m\u001b[0;34m.\u001b[0m\u001b[0mread_all_blocks\u001b[0m\u001b[0;34m(\u001b[0m\u001b[0mlazy\u001b[0m\u001b[0;34m=\u001b[0m\u001b[0mlazy\u001b[0m\u001b[0;34m,\u001b[0m \u001b[0;34m**\u001b[0m\u001b[0mkargs\u001b[0m\u001b[0;34m)\u001b[0m\u001b[0;34m\u001b[0m\u001b[0;34m\u001b[0m\u001b[0m\n\u001b[0;32m--> 124\u001b[0;31m             \u001b[0;32mreturn\u001b[0m \u001b[0;34m[\u001b[0m\u001b[0mself\u001b[0m\u001b[0;34m.\u001b[0m\u001b[0mread_block\u001b[0m\u001b[0;34m(\u001b[0m\u001b[0mlazy\u001b[0m\u001b[0;34m=\u001b[0m\u001b[0mlazy\u001b[0m\u001b[0;34m,\u001b[0m \u001b[0;34m**\u001b[0m\u001b[0mkargs\u001b[0m\u001b[0;34m)\u001b[0m\u001b[0;34m]\u001b[0m\u001b[0;34m\u001b[0m\u001b[0;34m\u001b[0m\u001b[0m\n\u001b[0m\u001b[1;32m    125\u001b[0m         \u001b[0;32melif\u001b[0m \u001b[0mSegment\u001b[0m \u001b[0;32min\u001b[0m \u001b[0mself\u001b[0m\u001b[0;34m.\u001b[0m\u001b[0mreadable_objects\u001b[0m\u001b[0;34m:\u001b[0m\u001b[0;34m\u001b[0m\u001b[0;34m\u001b[0m\u001b[0m\n\u001b[1;32m    126\u001b[0m             \u001b[0mbl\u001b[0m \u001b[0;34m=\u001b[0m \u001b[0mBlock\u001b[0m\u001b[0;34m(\u001b[0m\u001b[0mname\u001b[0m\u001b[0;34m=\u001b[0m\u001b[0;34m'One segment only'\u001b[0m\u001b[0;34m)\u001b[0m\u001b[0;34m\u001b[0m\u001b[0;34m\u001b[0m\u001b[0m\n",
      "\u001b[0;32m~/NWBwork/python-neo/neo/io/igorproio.py\u001b[0m in \u001b[0;36mread_block\u001b[0;34m(self, lazy)\u001b[0m\n\u001b[1;32m     79\u001b[0m \u001b[0;34m\u001b[0m\u001b[0m\n\u001b[1;32m     80\u001b[0m         \u001b[0mblock\u001b[0m \u001b[0;34m=\u001b[0m \u001b[0mBlock\u001b[0m\u001b[0;34m(\u001b[0m\u001b[0mfile_origin\u001b[0m\u001b[0;34m=\u001b[0m\u001b[0mstr\u001b[0m\u001b[0;34m(\u001b[0m\u001b[0mself\u001b[0m\u001b[0;34m.\u001b[0m\u001b[0mfilename\u001b[0m\u001b[0;34m)\u001b[0m\u001b[0;34m)\u001b[0m\u001b[0;34m\u001b[0m\u001b[0;34m\u001b[0m\u001b[0m\n\u001b[0;32m---> 81\u001b[0;31m         \u001b[0mblock\u001b[0m\u001b[0;34m.\u001b[0m\u001b[0msegments\u001b[0m\u001b[0;34m.\u001b[0m\u001b[0mappend\u001b[0m\u001b[0;34m(\u001b[0m\u001b[0mself\u001b[0m\u001b[0;34m.\u001b[0m\u001b[0mread_segment\u001b[0m\u001b[0;34m(\u001b[0m\u001b[0mlazy\u001b[0m\u001b[0;34m=\u001b[0m\u001b[0mlazy\u001b[0m\u001b[0;34m)\u001b[0m\u001b[0;34m)\u001b[0m\u001b[0;34m\u001b[0m\u001b[0;34m\u001b[0m\u001b[0m\n\u001b[0m\u001b[1;32m     82\u001b[0m         \u001b[0mblock\u001b[0m\u001b[0;34m.\u001b[0m\u001b[0msegments\u001b[0m\u001b[0;34m[\u001b[0m\u001b[0;34m-\u001b[0m\u001b[0;36m1\u001b[0m\u001b[0;34m]\u001b[0m\u001b[0;34m.\u001b[0m\u001b[0mblock\u001b[0m \u001b[0;34m=\u001b[0m \u001b[0mblock\u001b[0m\u001b[0;34m\u001b[0m\u001b[0;34m\u001b[0m\u001b[0m\n\u001b[1;32m     83\u001b[0m         \u001b[0;32mreturn\u001b[0m \u001b[0mblock\u001b[0m\u001b[0;34m\u001b[0m\u001b[0;34m\u001b[0m\u001b[0m\n",
      "\u001b[0;32m~/NWBwork/python-neo/neo/io/igorproio.py\u001b[0m in \u001b[0;36mread_segment\u001b[0;34m(self, lazy)\u001b[0m\n\u001b[1;32m     89\u001b[0m         \u001b[0;32mif\u001b[0m \u001b[0mself\u001b[0m\u001b[0;34m.\u001b[0m\u001b[0mextension\u001b[0m \u001b[0;34m==\u001b[0m \u001b[0;34m'pxp'\u001b[0m\u001b[0;34m:\u001b[0m\u001b[0;34m\u001b[0m\u001b[0;34m\u001b[0m\u001b[0m\n\u001b[1;32m     90\u001b[0m             \u001b[0;32mif\u001b[0m \u001b[0;32mnot\u001b[0m \u001b[0mself\u001b[0m\u001b[0;34m.\u001b[0m\u001b[0m_filesystem\u001b[0m\u001b[0;34m:\u001b[0m\u001b[0;34m\u001b[0m\u001b[0;34m\u001b[0m\u001b[0m\n\u001b[0;32m---> 91\u001b[0;31m                 \u001b[0m_\u001b[0m\u001b[0;34m,\u001b[0m \u001b[0mself\u001b[0m\u001b[0;34m.\u001b[0m\u001b[0mfilesystem\u001b[0m \u001b[0;34m=\u001b[0m \u001b[0mpxp\u001b[0m\u001b[0;34m.\u001b[0m\u001b[0mload\u001b[0m\u001b[0;34m(\u001b[0m\u001b[0mstr\u001b[0m\u001b[0;34m(\u001b[0m\u001b[0mself\u001b[0m\u001b[0;34m.\u001b[0m\u001b[0mfilename\u001b[0m\u001b[0;34m)\u001b[0m\u001b[0;34m)\u001b[0m\u001b[0;34m\u001b[0m\u001b[0;34m\u001b[0m\u001b[0m\n\u001b[0m\u001b[1;32m     92\u001b[0m \u001b[0;34m\u001b[0m\u001b[0m\n\u001b[1;32m     93\u001b[0m             \u001b[0;32mdef\u001b[0m \u001b[0mcallback\u001b[0m\u001b[0;34m(\u001b[0m\u001b[0mdirpath\u001b[0m\u001b[0;34m,\u001b[0m \u001b[0mkey\u001b[0m\u001b[0;34m,\u001b[0m \u001b[0mvalue\u001b[0m\u001b[0;34m)\u001b[0m\u001b[0;34m:\u001b[0m\u001b[0;34m\u001b[0m\u001b[0;34m\u001b[0m\u001b[0m\n",
      "\u001b[0;32m~/miniconda3/envs/test_nwb/lib/python3.8/site-packages/igor/packed.py\u001b[0m in \u001b[0;36mload\u001b[0;34m(filename, strict, ignore_unknown)\u001b[0m\n\u001b[1;32m     62\u001b[0m         \u001b[0mf\u001b[0m \u001b[0;34m=\u001b[0m \u001b[0mfilename\u001b[0m  \u001b[0;31m# filename is actually a stream object\u001b[0m\u001b[0;34m\u001b[0m\u001b[0;34m\u001b[0m\u001b[0m\n\u001b[1;32m     63\u001b[0m     \u001b[0;32melse\u001b[0m\u001b[0;34m:\u001b[0m\u001b[0;34m\u001b[0m\u001b[0;34m\u001b[0m\u001b[0m\n\u001b[0;32m---> 64\u001b[0;31m         \u001b[0mf\u001b[0m \u001b[0;34m=\u001b[0m \u001b[0mopen\u001b[0m\u001b[0;34m(\u001b[0m\u001b[0mfilename\u001b[0m\u001b[0;34m,\u001b[0m \u001b[0;34m'rb'\u001b[0m\u001b[0;34m)\u001b[0m\u001b[0;34m\u001b[0m\u001b[0;34m\u001b[0m\u001b[0m\n\u001b[0m\u001b[1;32m     65\u001b[0m     \u001b[0mbyte_order\u001b[0m \u001b[0;34m=\u001b[0m \u001b[0;32mNone\u001b[0m\u001b[0;34m\u001b[0m\u001b[0;34m\u001b[0m\u001b[0m\n\u001b[1;32m     66\u001b[0m     \u001b[0minitial_byte_order\u001b[0m \u001b[0;34m=\u001b[0m \u001b[0;34m'='\u001b[0m\u001b[0;34m\u001b[0m\u001b[0;34m\u001b[0m\u001b[0m\n",
      "\u001b[0;31mFileNotFoundError\u001b[0m: [Errno 2] No such file or directory: 'https:/kg.ebrains.eu/proxy/export?container=https:/object.cscs.ch/v1/AUTH_227176556f3c4bb38df9feea4b91200c/hbp-d002323_NeuromodNeocortex-EPhys_pub/Acetylcholine_modulation_in_S1_cortex_layer_6/Dose_response_curve_(MEC)/BC_25062019_B/BC_25062019_B_1µM.pxp'"
     ]
    }
   ],
   "source": [
    "import urllib.request\n",
    "#filename='https://object.cscs.ch/v1/AUTH_4791e0a3b3de43e2840fe46d9dc2b334/ext-d000040_EEG_and_MWM_CyclinD2-KO_vs_WT_pub/Raw_Data_Sleep/KO/gk-0999/gk-0999_baseline_epochs.txt'\n",
    "filename='https://kg.ebrains.eu/proxy/export?container=https://object.cscs.ch/v1/AUTH_227176556f3c4bb38df9feea4b91200c/hbp-d002323_NeuromodNeocortex-EPhys_pub/Acetylcholine_modulation_in_S1_cortex_layer_6/Dose_response_curve_(MEC)/BC_25062019_B/BC_25062019_B_1µM.pxp'\n",
    "print(\"filename = \", filename)\n",
    "\n",
    "#local_filename, headers = urllib.request.urlretrieve(filename)\n",
    "\n",
    "#local_filename = urllib.request.urlretrieve(filename)\n",
    "\n",
    "#local_filename1 = urllib.request.urlopen(filename)\n",
    "#local_filename2 = urllib.request.pathname2url(filename)\n",
    "local_filename3 = urllib.request.url2pathname(filename)\n",
    "#local_filename4 = urllib.request.Request(filename)\n",
    "\n",
    "\n",
    "#print(\"local_filename = \", local_filename)\n",
    "#print(\"   \")\n",
    "#print(\"local_filename1 = \", local_filename1)\n",
    "#print(\"   \")\n",
    "#print(\"local_filename2 = \", local_filename2)\n",
    "#print(\"   \")\n",
    "print(\"local_filename3 = \", local_filename3)\n",
    "#print(\"   \")\n",
    "#print(\"local_filename4 = \", local_filename4)\n",
    "\n",
    "\n",
    "\n",
    "\n",
    "\n",
    "\n",
    "#print(\"headers = \", headers)\n",
    "#html = open(local_filename)\n",
    "#print(\"html = \", html)\n",
    "\n",
    "###ior = AsciiSignalIO(local_filename3, 'r')\n",
    "#ior = AsciiSignalIO(local_filename3, 'r')\n",
    "ior = IgorIO(local_filename3, 'r')\n",
    "print(\"ior = \", ior)\n",
    "blocks = ior.read()\n",
    "print(\"blocks = \", blocks)\n",
    "\n",
    "blk = ior.read_block()\n",
    "print(\"blk = \", blk)\n",
    "\n",
    "# Change the name of the file\n",
    "#test_file_name_NWB = local_filename3  + '.nwb'\n",
    "#print(\"test_file_name_NWB = \", test_file_name_NWB)\n",
    "\n",
    "#new_test_file_name_NWB = test_file_name_NWB.split('.')[0] + '.nwb'    \n",
    "#new_test_file_name_NWB = local_filename3.split('.')[0] + '.nwb'\n",
    "#print(\"new_test_file_name_NWB = \", new_test_file_name_NWB)\n",
    "\n",
    "# Write the file as .nwb\n",
    "###iow = NWBIO(filename=new_test_file_name_NWB, mode='w')\n",
    "#iow = NWBIO(filename=filename, mode='w')\n",
    "iow = NWBIO(filename=local_filename3, mode='w')\n",
    "#iow = NWBIO(filename='/Users/legouee/NWBwork/my_notebook/', mode='w')\n",
    "\n",
    "print(\"iow = \", iow)\n",
    "\n",
    "w = iow.write_all_blocks([blk])\n",
    "print(\"w = \", w)\n",
    "\"\"\"\n",
    "# To read\n",
    "ior2 = NWBIO(filename=filename, mode='r')\n",
    "iowr = ior2.read_all_blocks()\n",
    "print(\"iowr = \", iowr)\n",
    "\"\"\""
   ]
  },
  {
   "cell_type": "code",
   "execution_count": 5,
   "id": "a120370e",
   "metadata": {},
   "outputs": [
    {
     "name": "stdout",
     "output_type": "stream",
     "text": [
      "blk =  <neo.core.block.Block object at 0x12b04ac10>\n",
      "segs =  <neo.core.segment.Segment object at 0x12ae14cd0>\n",
      "segs.__dict__ =  {'annotations': {}, 'name': 'block0 : segment0', 'description': None, 'file_origin': None, 'block': <neo.core.block.Block object at 0x12b04ac10>, 'analogsignals': [<AnalogSignal(array([[nan],\n",
      "       [nan],\n",
      "       [nan],\n",
      "       ...,\n",
      "       [nan],\n",
      "       [nan],\n",
      "       [nan]], dtype=float32) * V, [0.0 s, 21599.0 s], sampling rate: 1.0 Hz)>], 'epochs': [], 'events': [], 'irregularlysampledsignals': [], 'spiketrains': <neo.core.spiketrainlist.SpikeTrainList object at 0x12ae14670>, 'imagesequences': [], 'file_datetime': None, 'rec_datetime': None, 'index': None}\n",
      "segs.spiketrains =  []\n"
     ]
    }
   ],
   "source": [
    "for blk in iowr:\n",
    "    print(\"blk = \", blk)\n",
    "    for segs in blk.segments:\n",
    "        print(\"segs = \", segs)\n",
    "        print(\"segs.__dict__ = \", segs.__dict__)\n",
    "        print(\"segs.spiketrains = \", segs.spiketrains)\n",
    "        for spks in segs.spiketrains:\n",
    "            print(\"spks = \", spks)\n",
    "\n"
   ]
  },
  {
   "cell_type": "markdown",
   "id": "61891f57",
   "metadata": {},
   "source": [
    "### Read with pynwb"
   ]
  },
  {
   "cell_type": "code",
   "execution_count": 52,
   "id": "b7c6fcd0",
   "metadata": {},
   "outputs": [
    {
     "name": "stdout",
     "output_type": "stream",
     "text": [
      "io.read_builder() =  root GroupBuilder {'attributes': {'namespace': 'core', 'neurodata_type': 'NWBFile', 'nwb_version': '2.3.0', 'object_id': 'f03d58e0-be10-4da5-8f4f-6b4f7647e8c9'}, 'groups': {'acquisition': root/acquisition GroupBuilder {'attributes': {}, 'groups': {'Column 0 block0 : segment0 0': root/acquisition/Column 0 block0 : segment0 0 GroupBuilder {'attributes': {'comments': '{\"block\": \"block0\", \"segment\": \"block0 : segment0\"}', 'description': 'no description', 'namespace': 'core', 'neurodata_type': 'TimeSeries', 'object_id': '55761f16-7039-4ab0-bf7a-f4947afd7c05'}, 'groups': {}, 'datasets': {'data': root/acquisition/Column 0 block0 : segment0 0/data DatasetBuilder {'attributes': {'conversion': 1.0, 'resolution': -1.0, 'unit': 'V'}, 'data': <HDF5 dataset \"data\": shape (5, 1), type \"<f4\">}, 'starting_time': root/acquisition/Column 0 block0 : segment0 0/starting_time DatasetBuilder {'attributes': {'rate': 1.0, 'unit': 'seconds'}, 'data': 0.0}}, 'links': {}}}, 'datasets': {}, 'links': {}}, 'analysis': root/analysis GroupBuilder {'attributes': {}, 'groups': {}, 'datasets': {}, 'links': {}}, 'general': root/general GroupBuilder {'attributes': {}, 'groups': {}, 'datasets': {}, 'links': {}}, 'processing': root/processing GroupBuilder {'attributes': {}, 'groups': {}, 'datasets': {}, 'links': {}}, 'stimulus': root/stimulus GroupBuilder {'attributes': {}, 'groups': {'presentation': root/stimulus/presentation GroupBuilder {'attributes': {}, 'groups': {}, 'datasets': {}, 'links': {}}, 'templates': root/stimulus/templates GroupBuilder {'attributes': {}, 'groups': {}, 'datasets': {}, 'links': {}}}, 'datasets': {}, 'links': {}}}, 'datasets': {'file_create_date': root/file_create_date DatasetBuilder {'attributes': {}, 'data': <HDF5 dataset \"file_create_date\": shape (1,), type \"|O\">}, 'identifier': root/identifier DatasetBuilder {'attributes': {}, 'data': '/Users/legouee/NWBwork/my_notebook/test_database.nwb'}, 'session_description': root/session_description DatasetBuilder {'attributes': {}, 'data': '/Users/legouee/NWBwork/my_notebook/test_database.nwb'}, 'session_start_time': root/session_start_time DatasetBuilder {'attributes': {}, 'data': '2021-10-27T15:37:50.197614+02:00'}, 'timestamps_reference_time': root/timestamps_reference_time DatasetBuilder {'attributes': {}, 'data': '2021-10-27T15:37:50.197614+02:00'}}, 'links': {}}\n",
      "   \n",
      "io.read() =  root pynwb.file.NWBFile at 0x4564080000\n",
      "Fields:\n",
      "  acquisition: {\n",
      "    Column 0 block0 : segment0 0 <class 'pynwb.base.TimeSeries'>\n",
      "  }\n",
      "  file_create_date: [datetime.datetime(2021, 10, 27, 15, 37, 50, 207848, tzinfo=tzoffset(None, 7200))]\n",
      "  identifier: /Users/legouee/NWBwork/my_notebook/test_database.nwb\n",
      "  session_description: /Users/legouee/NWBwork/my_notebook/test_database.nwb\n",
      "  session_start_time: 2021-10-27 15:37:50.197614+02:00\n",
      "  timestamps_reference_time: 2021-10-27 15:37:50.197614+02:00\n",
      "\n"
     ]
    }
   ],
   "source": [
    "import pynwb\n",
    "from pynwb import *\n",
    "io = pynwb.NWBHDF5IO('/Users/legouee/NWBwork/my_notebook/test_database.nwb', mode='r')\n",
    "print(\"io.read_builder() = \", io.read_builder())\n",
    "print(\"   \")\n",
    "print(\"io.read() = \", io.read())"
   ]
  },
  {
   "cell_type": "code",
   "execution_count": 33,
   "id": "d1dd45d4",
   "metadata": {},
   "outputs": [
    {
     "name": "stdout",
     "output_type": "stream",
     "text": [
      "filename =  https://object.cscs.ch/v1/AUTH_4791e0a3b3de43e2840fe46d9dc2b334/ext-d000040_EEG_and_MWM_CyclinD2-KO_vs_WT_pub/Raw_Data_Sleep/KO/gk-0999/gk-0999_baseline_epochs.txt\n",
      "local_filename3 =  https://object.cscs.ch/v1/AUTH_4791e0a3b3de43e2840fe46d9dc2b334/ext-d000040_EEG_and_MWM_CyclinD2-KO_vs_WT_pub/Raw_Data_Sleep/KO/gk-0999/gk-0999_baseline_epochs.txt\n",
      "ior =  <neo.io.asciiimageio.AsciiImageIO object at 0x1100a2af0>\n"
     ]
    },
    {
     "ename": "FileNotFoundError",
     "evalue": "[Errno 2] No such file or directory: 'https://object.cscs.ch/v1/AUTH_4791e0a3b3de43e2840fe46d9dc2b334/ext-d000040_EEG_and_MWM_CyclinD2-KO_vs_WT_pub/Raw_Data_Sleep/KO/gk-0999/gk-0999_baseline_epochs.txt'",
     "output_type": "error",
     "traceback": [
      "\u001b[0;31m---------------------------------------------------------------------------\u001b[0m",
      "\u001b[0;31mFileNotFoundError\u001b[0m                         Traceback (most recent call last)",
      "\u001b[0;32m<ipython-input-33-bfae4c330fdb>\u001b[0m in \u001b[0;36m<module>\u001b[0;34m\u001b[0m\n\u001b[1;32m      9\u001b[0m \u001b[0mior\u001b[0m \u001b[0;34m=\u001b[0m \u001b[0mAsciiImageIO\u001b[0m\u001b[0;34m(\u001b[0m\u001b[0mlocal_filename3\u001b[0m\u001b[0;34m,\u001b[0m \u001b[0;34m'r'\u001b[0m\u001b[0;34m)\u001b[0m\u001b[0;34m\u001b[0m\u001b[0;34m\u001b[0m\u001b[0m\n\u001b[1;32m     10\u001b[0m \u001b[0mprint\u001b[0m\u001b[0;34m(\u001b[0m\u001b[0;34m\"ior = \"\u001b[0m\u001b[0;34m,\u001b[0m \u001b[0mior\u001b[0m\u001b[0;34m)\u001b[0m\u001b[0;34m\u001b[0m\u001b[0;34m\u001b[0m\u001b[0m\n\u001b[0;32m---> 11\u001b[0;31m \u001b[0mblocks\u001b[0m \u001b[0;34m=\u001b[0m \u001b[0mior\u001b[0m\u001b[0;34m.\u001b[0m\u001b[0mread\u001b[0m\u001b[0;34m(\u001b[0m\u001b[0;34m)\u001b[0m\u001b[0;34m\u001b[0m\u001b[0;34m\u001b[0m\u001b[0m\n\u001b[0m\u001b[1;32m     12\u001b[0m \u001b[0mprint\u001b[0m\u001b[0;34m(\u001b[0m\u001b[0;34m\"blocks = \"\u001b[0m\u001b[0;34m,\u001b[0m \u001b[0mblocks\u001b[0m\u001b[0;34m)\u001b[0m\u001b[0;34m\u001b[0m\u001b[0;34m\u001b[0m\u001b[0m\n\u001b[1;32m     13\u001b[0m \u001b[0;34m\u001b[0m\u001b[0m\n",
      "\u001b[0;32m~/NWBwork/python-neo/neo/io/baseio.py\u001b[0m in \u001b[0;36mread\u001b[0;34m(self, lazy, **kargs)\u001b[0m\n\u001b[1;32m    122\u001b[0m                     callable(getattr(self, 'read_all_blocks'))):\n\u001b[1;32m    123\u001b[0m                 \u001b[0;32mreturn\u001b[0m \u001b[0mself\u001b[0m\u001b[0;34m.\u001b[0m\u001b[0mread_all_blocks\u001b[0m\u001b[0;34m(\u001b[0m\u001b[0mlazy\u001b[0m\u001b[0;34m=\u001b[0m\u001b[0mlazy\u001b[0m\u001b[0;34m,\u001b[0m \u001b[0;34m**\u001b[0m\u001b[0mkargs\u001b[0m\u001b[0;34m)\u001b[0m\u001b[0;34m\u001b[0m\u001b[0;34m\u001b[0m\u001b[0m\n\u001b[0;32m--> 124\u001b[0;31m             \u001b[0;32mreturn\u001b[0m \u001b[0;34m[\u001b[0m\u001b[0mself\u001b[0m\u001b[0;34m.\u001b[0m\u001b[0mread_block\u001b[0m\u001b[0;34m(\u001b[0m\u001b[0mlazy\u001b[0m\u001b[0;34m=\u001b[0m\u001b[0mlazy\u001b[0m\u001b[0;34m,\u001b[0m \u001b[0;34m**\u001b[0m\u001b[0mkargs\u001b[0m\u001b[0;34m)\u001b[0m\u001b[0;34m]\u001b[0m\u001b[0;34m\u001b[0m\u001b[0;34m\u001b[0m\u001b[0m\n\u001b[0m\u001b[1;32m    125\u001b[0m         \u001b[0;32melif\u001b[0m \u001b[0mSegment\u001b[0m \u001b[0;32min\u001b[0m \u001b[0mself\u001b[0m\u001b[0;34m.\u001b[0m\u001b[0mreadable_objects\u001b[0m\u001b[0;34m:\u001b[0m\u001b[0;34m\u001b[0m\u001b[0;34m\u001b[0m\u001b[0m\n\u001b[1;32m    126\u001b[0m             \u001b[0mbl\u001b[0m \u001b[0;34m=\u001b[0m \u001b[0mBlock\u001b[0m\u001b[0;34m(\u001b[0m\u001b[0mname\u001b[0m\u001b[0;34m=\u001b[0m\u001b[0;34m'One segment only'\u001b[0m\u001b[0;34m)\u001b[0m\u001b[0;34m\u001b[0m\u001b[0;34m\u001b[0m\u001b[0m\n",
      "\u001b[0;32m~/NWBwork/python-neo/neo/io/asciiimageio.py\u001b[0m in \u001b[0;36mread_block\u001b[0;34m(self, lazy, **kwargs)\u001b[0m\n\u001b[1;32m     59\u001b[0m     \u001b[0;32mdef\u001b[0m \u001b[0mread_block\u001b[0m\u001b[0;34m(\u001b[0m\u001b[0mself\u001b[0m\u001b[0;34m,\u001b[0m \u001b[0mlazy\u001b[0m\u001b[0;34m=\u001b[0m\u001b[0;32mFalse\u001b[0m\u001b[0;34m,\u001b[0m \u001b[0;34m**\u001b[0m\u001b[0mkwargs\u001b[0m\u001b[0;34m)\u001b[0m\u001b[0;34m:\u001b[0m\u001b[0;34m\u001b[0m\u001b[0;34m\u001b[0m\u001b[0m\n\u001b[1;32m     60\u001b[0m \u001b[0;34m\u001b[0m\u001b[0m\n\u001b[0;32m---> 61\u001b[0;31m         \u001b[0mfile\u001b[0m \u001b[0;34m=\u001b[0m \u001b[0mopen\u001b[0m\u001b[0;34m(\u001b[0m\u001b[0mself\u001b[0m\u001b[0;34m.\u001b[0m\u001b[0mfilename\u001b[0m\u001b[0;34m,\u001b[0m \u001b[0;34m'r'\u001b[0m\u001b[0;34m)\u001b[0m\u001b[0;34m\u001b[0m\u001b[0;34m\u001b[0m\u001b[0m\n\u001b[0m\u001b[1;32m     62\u001b[0m         \u001b[0mdata\u001b[0m \u001b[0;34m=\u001b[0m \u001b[0mfile\u001b[0m\u001b[0;34m.\u001b[0m\u001b[0mread\u001b[0m\u001b[0;34m(\u001b[0m\u001b[0;34m)\u001b[0m\u001b[0;34m\u001b[0m\u001b[0;34m\u001b[0m\u001b[0m\n\u001b[1;32m     63\u001b[0m         \u001b[0mprint\u001b[0m\u001b[0;34m(\u001b[0m\u001b[0;34m\"read block\"\u001b[0m\u001b[0;34m)\u001b[0m\u001b[0;34m\u001b[0m\u001b[0;34m\u001b[0m\u001b[0m\n",
      "\u001b[0;31mFileNotFoundError\u001b[0m: [Errno 2] No such file or directory: 'https://object.cscs.ch/v1/AUTH_4791e0a3b3de43e2840fe46d9dc2b334/ext-d000040_EEG_and_MWM_CyclinD2-KO_vs_WT_pub/Raw_Data_Sleep/KO/gk-0999/gk-0999_baseline_epochs.txt'"
     ]
    }
   ],
   "source": [
    "import urllib.request\n",
    "filename='https://object.cscs.ch/v1/AUTH_4791e0a3b3de43e2840fe46d9dc2b334/ext-d000040_EEG_and_MWM_CyclinD2-KO_vs_WT_pub/Raw_Data_Sleep/KO/gk-0999/gk-0999_baseline_epochs.txt'\n",
    "print(\"filename = \", filename)\n",
    "\n",
    "local_filename3 = urllib.request.url2pathname(filename)\n",
    "\n",
    "print(\"local_filename3 = \", local_filename3)\n",
    "\n",
    "ior = AsciiImageIO(local_filename3, 'r')\n",
    "print(\"ior = \", ior)\n",
    "blocks = ior.read()\n",
    "print(\"blocks = \", blocks)\n",
    "\n",
    "blk = ior.read_block()\n",
    "print(\"blk = \", blk)\n",
    "print(\"blk.__dict__ = \", blk.__dict__)\n",
    "\n",
    "for segs in blk.segments:\n",
    "    print(\"segs = \", segs)\n",
    "    print(\"segs.__dict__ = \", segs.__dict__)\n",
    "    print(\"segs.spiketrains = \", segs.spiketrains)\n",
    "    for spks in segs.spiketrains:\n",
    "        print(\"spks = \", spks)"
   ]
  },
  {
   "cell_type": "code",
   "execution_count": 51,
   "id": "69da0a1e",
   "metadata": {},
   "outputs": [
    {
     "name": "stdout",
     "output_type": "stream",
     "text": [
      "filename =  /Users/legouee/NWBwork/my_notebook/test_database.txt\n",
      "ior2 =  <neo.io.asciisignalio.AsciiSignalIO object at 0x1100a5f40>\n",
      "seg =  <neo.core.segment.Segment object at 0x1100a5550>\n",
      "seg.analogsignals =  [<AnalogSignal(array([[nan],\n",
      "       [nan],\n",
      "       [nan],\n",
      "       [nan],\n",
      "       [nan],\n",
      "       [nan],\n",
      "       [nan],\n",
      "       [nan],\n",
      "       [nan],\n",
      "       [nan],\n",
      "       [nan],\n",
      "       [nan],\n",
      "       [nan],\n",
      "       [nan],\n",
      "       [nan],\n",
      "       [nan],\n",
      "       [nan],\n",
      "       [nan],\n",
      "       [nan],\n",
      "       [nan],\n",
      "       [nan],\n",
      "       [nan],\n",
      "       [nan],\n",
      "       [nan],\n",
      "       [nan],\n",
      "       [nan],\n",
      "       [nan],\n",
      "       [nan],\n",
      "       [nan],\n",
      "       [nan]], dtype=float32) * V, [0.0 s, 30.0 s], sampling rate: 1.0 Hz)>]\n"
     ]
    },
    {
     "name": "stderr",
     "output_type": "stream",
     "text": [
      "/Users/legouee/NWBwork/python-neo/neo/io/asciisignalio.py:194: ConversionWarning: Some errors were detected !\n",
      "    Line #11 (got 2 columns instead of 1)\n",
      "  sig = np.genfromtxt(self.filename,\n"
     ]
    },
    {
     "data": {
      "text/plain": [
       "'\\nfor segs2 in blk2.segments:\\n    print(\"segs2 = \", segs2)\\n    print(\"segs2.__dict__ = \", segs2.__dict__)\\n    print(\"segs2.spiketrains = \", segs2.spiketrains)\\n    for spks2 in segs2.spiketrains:\\n        print(\"spks2 = \", spks2)\\n'"
      ]
     },
     "execution_count": 51,
     "metadata": {},
     "output_type": "execute_result"
    }
   ],
   "source": [
    "# Local file\n",
    "import urllib.request\n",
    "#filename='/Users/legouee/NWBwork/my_notebook/gk-0999_baseline_epochs.txt'\n",
    "###filename = '/Users/legouee/NWBwork/my_notebook/test_gk-0999.txt'\n",
    "filename = '/Users/legouee/NWBwork/my_notebook/test_database.txt'\n",
    "print(\"filename = \", filename)\n",
    "\n",
    "#local_filename3 = urllib.request.url2pathname(filename)\n",
    "#print(\"local_filename3 = \", local_filename3)\n",
    "\n",
    "ior2 = AsciiSignalIO(filename, 'r')\n",
    "#ior2 = IgorIO(filename, 'r') # .pxp files\n",
    "#ior2 = AsciiSpikeTrainIO(filename)\n",
    "#ior2 = AsciiImageIO(filename, 'r')\n",
    "print(\"ior2 = \", ior2)\n",
    "\n",
    "#blk2 = ior2.read_block()\n",
    "#print(\"blk2 = \", blk2)\n",
    "seg = ior2.read_segment()\n",
    "print(\"seg = \", seg)\n",
    "#print(\"blk2.__dict__ = \", blk2.__dict__)\n",
    "print (\"seg.analogsignals = \",seg.analogsignals)\n",
    "\n",
    "\"\"\"\n",
    "for segs2 in blk2.segments:\n",
    "    print(\"segs2 = \", segs2)\n",
    "    print(\"segs2.__dict__ = \", segs2.__dict__)\n",
    "    print(\"segs2.spiketrains = \", segs2.spiketrains)\n",
    "    for spks2 in segs2.spiketrains:\n",
    "        print(\"spks2 = \", spks2)\n",
    "\"\"\""
   ]
  },
  {
   "cell_type": "code",
   "execution_count": null,
   "id": "c33608a3",
   "metadata": {},
   "outputs": [],
   "source": []
  }
 ],
 "metadata": {
  "kernelspec": {
   "display_name": "Python 3",
   "language": "python",
   "name": "python3"
  },
  "language_info": {
   "codemirror_mode": {
    "name": "ipython",
    "version": 3
   },
   "file_extension": ".py",
   "mimetype": "text/x-python",
   "name": "python",
   "nbconvert_exporter": "python",
   "pygments_lexer": "ipython3",
   "version": "3.8.0"
  }
 },
 "nbformat": 4,
 "nbformat_minor": 5
}
