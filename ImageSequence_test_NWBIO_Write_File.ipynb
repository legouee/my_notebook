{
 "cells": [
  {
   "cell_type": "code",
   "execution_count": 1,
   "metadata": {},
   "outputs": [],
   "source": [
    "from pynwb import NWBFile\n",
    "from neo import *\n",
    "import pynwb\n",
    "from pynwb import *\n",
    "import quantities as pq\n",
    "from quantities import s, ms,kHz, Hz, uV\n",
    "import numpy as np\n",
    "import random"
   ]
  },
  {
   "cell_type": "code",
   "execution_count": 2,
   "metadata": {},
   "outputs": [
    {
     "name": "stdout",
     "output_type": "stream",
     "text": [
      "signal =  [<AnalogSignal(array([[2.],\n",
      "       [2.],\n",
      "       [2.]]) * V, [0.0 s, 3.0 s], sampling rate: 1.0 Hz)>]\n",
      "signal =  [<AnalogSignal(array([[2.],\n",
      "       [2.],\n",
      "       [2.]]) * V, [0.0 s, 3.0 s], sampling rate: 1.0 Hz)>]\n",
      "signal =  [<AnalogSignal(array([[2.],\n",
      "       [2.],\n",
      "       [2.]]) * V, [0.0 s, 3.0 s], sampling rate: 1.0 Hz)>]\n"
     ]
    }
   ],
   "source": [
    "# Define Neo blocks\n",
    "bl0 = Block(name='First block')\n",
    "bl1 = Block(name='Second block')\n",
    "bl2 = Block(name='Third block')\n",
    "original_blocks = [bl0, bl1, bl2]\n",
    "\n",
    "num_seg = 1 #4  # number of segments\n",
    "num_chan = 1 #3  # number of channels\n",
    "\n",
    "size_x = 3\n",
    "size_y = 2\n",
    "num_frame = 3\n",
    "\n",
    "for blk in original_blocks:\n",
    "\n",
    "    for ind in range(num_seg):  # number of Segments\n",
    "        seg = Segment(index=ind)\n",
    "        seg.block = blk\n",
    "        blk.segments.append(seg)\n",
    "\n",
    "    for seg in blk.segments:  # AnalogSignal objects\n",
    "\n",
    "        # 3 Neo AnalogSignals\n",
    "        a = AnalogSignal(np.random.randn(44, num_chan) * pq.nA,\n",
    "                                 sampling_rate=10 * pq.kHz,\n",
    "                                 t_start=50 * pq.ms)\n",
    "        \n",
    "        # Image Sequence\n",
    "        img_sequence_array = [[[column for column in range(size_x)]for row in range(size_y)] for frame in range(num_frame)]\n",
    "        image_sequence = ImageSequence(img_sequence_array, \n",
    "                                       units='V',\n",
    "                                       sampling_rate=1*pq.Hz, \n",
    "                                       spatial_scale=1*pq.micrometer,\n",
    "                                       imaging_plane_excitation_lambda=3., # Value for NWB\n",
    "                                       optical_channel_emission_lambda=3., # Value for NWB\n",
    "                                       optical_channel_description='', # Value for NWB\n",
    "                                       imaging_plane_description='', # Value for NWB\n",
    "                                       imaging_plane_indicator='', # Value for NWB\n",
    "                                       imaging_plane_location='', # Value for NWB\n",
    "                                      )\n",
    "\n",
    "        \n",
    "        # Neo roi \n",
    "        roi = RectangularRegionOfInterest(1, 2, width=1.0, height=1.0)\n",
    "        #roi = CircularRegionOfInterest(5, 5, radius=2)\n",
    "        #roi = PolygonRegionOfInterest(\n",
    "        #      (20.0, 20.0),\n",
    "        #      (30.0, 20.0),\n",
    "        #      (25.0, 25.0)\n",
    "        #  )\n",
    "        \n",
    "        signal = image_sequence.signal_from_region(roi) # roi for Neo\n",
    "        print(\"signal = \", signal)\n",
    "  ###      seg.imagesequences.append(signal)\n",
    "    \n",
    "        seg.imagesequences.append(image_sequence)\n",
    "\n",
    "        seg.analogsignals.append(a)\n",
    "            \n",
    "        a.segment = seg\n",
    "        \n",
    "        image_sequence.segment = seg"
   ]
  },
  {
   "cell_type": "code",
   "execution_count": 3,
   "metadata": {},
   "outputs": [
    {
     "data": {
      "text/plain": [
       "Block with 1 segments\n",
       "name: 'Third block'\n",
       "# segments (N=1)\n",
       "0: Segment with 1 analogsignals, 1 imagesequences\n",
       "   # analogsignals (N=1)\n",
       "   0: AnalogSignal with 1 channels of length 44; units nA; datatype float64 \n",
       "      sampling rate: 10.0 kHz\n",
       "      time: 50.0 ms to 54.4 ms\n",
       "   # imagesequences (N=1)\n",
       "   0: ImageSequence 3 frames with width 3 px and height 2 px; units V; datatype int64 \n",
       "      sampling rate: 1.0 Hz\n",
       "      spatial_scale: 1.0 um"
      ]
     },
     "execution_count": 3,
     "metadata": {},
     "output_type": "execute_result"
    }
   ],
   "source": [
    "blk"
   ]
  },
  {
   "cell_type": "code",
   "execution_count": 4,
   "metadata": {},
   "outputs": [
    {
     "name": "stderr",
     "output_type": "stream",
     "text": [
      "/Users/legouee/miniconda3/envs/test_nwb/lib/python3.8/site-packages/pynwb/file.py:801: UserWarning: Date is missing timezone information. Updating to local timezone.\n",
      "  warn(\"Date is missing timezone information. Updating to local timezone.\")\n",
      "/Users/legouee/miniconda3/envs/test_nwb/lib/python3.8/site-packages/hdmf/build/objectmapper.py:653: MissingRequiredBuildWarning: TwoPhotonSeries 'name images_series_Neo Third block : segment0 : image0' is missing required value for attribute 'unit'.\n",
      "  warnings.warn(msg, MissingRequiredBuildWarning)\n"
     ]
    },
    {
     "name": "stdout",
     "output_type": "stream",
     "text": [
      "iow =  <neo.io.nwbio.NWBIO object at 0x11ffbc910>\n"
     ]
    }
   ],
   "source": [
    "test_file_name = \"test_write_Fluorescence_NWB.nwb\"\n",
    "iow = NWBIO(filename=test_file_name, mode='w')\n",
    "iow.write_all_blocks([blk])\n",
    "print(\"iow = \", iow)"
   ]
  },
  {
   "cell_type": "code",
   "execution_count": 5,
   "metadata": {},
   "outputs": [
    {
     "data": {
      "text/plain": [
       "<neo.io.nwbio.NWBIO at 0x11ffbc910>"
      ]
     },
     "execution_count": 5,
     "metadata": {},
     "output_type": "execute_result"
    }
   ],
   "source": [
    "iow"
   ]
  },
  {
   "cell_type": "code",
   "execution_count": 6,
   "metadata": {},
   "outputs": [],
   "source": [
    "ior = NWBIO(filename=test_file_name, mode='r')"
   ]
  },
  {
   "cell_type": "code",
   "execution_count": 7,
   "metadata": {},
   "outputs": [
    {
     "name": "stdout",
     "output_type": "stream",
     "text": [
      "ior =  <neo.io.nwbio.NWBIO object at 0x11ffbc1c0>\n"
     ]
    }
   ],
   "source": [
    "print(\"ior = \", ior)"
   ]
  },
  {
   "cell_type": "code",
   "execution_count": 8,
   "metadata": {},
   "outputs": [],
   "source": [
    "retrieved_block = ior.read_all_blocks()"
   ]
  },
  {
   "cell_type": "code",
   "execution_count": 9,
   "metadata": {},
   "outputs": [
    {
     "name": "stdout",
     "output_type": "stream",
     "text": [
      "retrieved_block =  [<neo.core.block.Block object at 0x11ffbc8e0>, <neo.core.block.Block object at 0x12057b2b0>]\n"
     ]
    }
   ],
   "source": [
    "print(\"retrieved_block = \", retrieved_block)"
   ]
  },
  {
   "cell_type": "code",
   "execution_count": 10,
   "metadata": {},
   "outputs": [
    {
     "name": "stdout",
     "output_type": "stream",
     "text": [
      "j.imagesequences =  []\n",
      "j.__dict__ =  {'annotations': {}, 'name': 'Third block : segment0', 'description': None, 'file_origin': None, 'block': <neo.core.block.Block object at 0x11ffbc8e0>, 'analogsignals': [<AnalogSignal(array([[-0.19965639],\n",
      "       [ 0.30266149],\n",
      "       [-1.72627415],\n",
      "       [ 0.52448039],\n",
      "       [ 0.3889745 ],\n",
      "       [-0.96625074],\n",
      "       [-0.8730737 ],\n",
      "       [-1.17040857],\n",
      "       [-1.12297813],\n",
      "       [-0.36404887],\n",
      "       [-1.35244971],\n",
      "       [-0.27225003],\n",
      "       [ 0.36334813],\n",
      "       [-0.41183706],\n",
      "       [-0.52676457],\n",
      "       [ 0.40572082],\n",
      "       [ 0.20989322],\n",
      "       [-1.98805847],\n",
      "       [-0.17144313],\n",
      "       [ 1.77931133],\n",
      "       [ 0.80744393],\n",
      "       [ 1.25682102],\n",
      "       [-0.72861577],\n",
      "       [ 1.19012487],\n",
      "       [-0.86555697],\n",
      "       [ 1.25423022],\n",
      "       [-0.99107681],\n",
      "       [-0.68106922],\n",
      "       [ 2.61640485],\n",
      "       [ 0.89558839],\n",
      "       [-0.38297682],\n",
      "       [ 1.00779731],\n",
      "       [-0.93805838],\n",
      "       [-0.29155956],\n",
      "       [-0.34267913],\n",
      "       [-0.46379781],\n",
      "       [-0.04338031],\n",
      "       [-0.15978456],\n",
      "       [ 2.0074682 ],\n",
      "       [ 0.18816082],\n",
      "       [-0.65319048],\n",
      "       [ 0.37438327],\n",
      "       [ 0.34681162],\n",
      "       [ 3.07213652]]) * nA, [0.05 s, 0.054400000000000004 s], sampling rate: 10000.0 Hz)>], 'epochs': [], 'events': [], 'irregularlysampledsignals': [], 'spiketrains': <neo.core.spiketrainlist.SpikeTrainList object at 0x12057b310>, 'imagesequences': [], 'file_datetime': None, 'rec_datetime': None, 'index': None}\n",
      "j.imagesequences =  [array([[[0, 1],\n",
      "        [0, 1],\n",
      "        [0, 1]],\n",
      "\n",
      "       [[0, 1],\n",
      "        [0, 1],\n",
      "        [0, 1]],\n",
      "\n",
      "       [[0, 1],\n",
      "        [0, 1],\n",
      "        [0, 1]]]) * m]\n",
      "j.__dict__ =  {'annotations': {}, 'name': 'default', 'description': None, 'file_origin': None, 'block': <neo.core.block.Block object at 0x12057b2b0>, 'analogsignals': [], 'epochs': [], 'events': [], 'irregularlysampledsignals': [], 'spiketrains': <neo.core.spiketrainlist.SpikeTrainList object at 0x12057bb20>, 'imagesequences': [array([[[0, 1],\n",
      "        [0, 1],\n",
      "        [0, 1]],\n",
      "\n",
      "       [[0, 1],\n",
      "        [0, 1],\n",
      "        [0, 1]],\n",
      "\n",
      "       [[0, 1],\n",
      "        [0, 1],\n",
      "        [0, 1]]]) * m], 'file_datetime': None, 'rec_datetime': None, 'index': None}\n"
     ]
    }
   ],
   "source": [
    "for i in retrieved_block:\n",
    "    for j in i.segments:\n",
    "        print(\"j.imagesequences = \", j.imagesequences)\n",
    "        #print(\"   \")\n",
    "        print(\"j.__dict__ = \", j.__dict__)"
   ]
  },
  {
   "cell_type": "code",
   "execution_count": 11,
   "metadata": {},
   "outputs": [
    {
     "name": "stdout",
     "output_type": "stream",
     "text": [
      "seg =  <neo.core.segment.Segment object at 0x11ff9d490>\n",
      "img =  [[[0 1 2]\n",
      "  [0 1 2]]\n",
      "\n",
      " [[0 1 2]\n",
      "  [0 1 2]]\n",
      "\n",
      " [[0 1 2]\n",
      "  [0 1 2]]] V\n",
      "img.__dict__ =  {'_dimensionality': Dimensionality({volt: 1}), 'annotations': {'imaging_plane_excitation_lambda': 3.0, 'optical_channel_emission_lambda': 3.0, 'optical_channel_description': '', 'imaging_plane_description': '', 'imaging_plane_indicator': '', 'imaging_plane_location': ''}, 'array_annotations': {}, 'name': 'Third block : segment0 : image0', 'file_origin': None, 'description': None, 'segment': <neo.core.segment.Segment object at 0x11ff9d490>, 'sampling_rate': array(1.) * Hz, 'spatial_scale': array(1.) * um, '_t_start': array(0.) * s}\n",
      "---\n"
     ]
    }
   ],
   "source": [
    "# access to segments\n",
    "for seg in blk.segments:\n",
    "    print(\"seg = \", seg)\n",
    "    for img in seg.imagesequences:\n",
    "        print(\"img = \", img)\n",
    "        print(\"img.__dict__ = \", img.__dict__)\n",
    "        print(\"---\")\n"
   ]
  },
  {
   "cell_type": "code",
   "execution_count": 12,
   "metadata": {},
   "outputs": [],
   "source": [
    "read = ior.read()"
   ]
  },
  {
   "cell_type": "code",
   "execution_count": 13,
   "metadata": {},
   "outputs": [
    {
     "data": {
      "text/plain": [
       "[Block with 1 segments\n",
       " name: 'Third block'\n",
       " description: 'test_write_Fluorescence_NWB.nwb'\n",
       " annotations: {'session_start_time': datetime.datetime(2021, 9, 13, 12, 15, 58, 661541, tzinfo=tzoffset(None, 7200)),\n",
       "   'identifier': 'test_write_Fluorescence_NWB.nwb',\n",
       "   'timestamps_reference_time': datetime.datetime(2021, 9, 13, 12, 15, 58, 661541, tzinfo=tzoffset(None, 7200)),\n",
       "   'session_description': 'test_write_Fluorescence_NWB.nwb'}\n",
       " file_origin: 'test_write_Fluorescence_NWB.nwb'\n",
       " rec_datetime: datetime.datetime(2021, 9, 13, 12, 15, 58, 661541, tzinfo=tzoffset(None, 7200))\n",
       " # segments (N=1)\n",
       " 0: Segment with 1 analogsignals\n",
       "    name: 'Third block : segment0'\n",
       "    # analogsignals (N=1)\n",
       "    0: AnalogSignal with 1 channels of length 44; units nA; datatype float64 \n",
       "       name: 'Third block : segment0 : analogsignal0 0'\n",
       "       description: 'no description'\n",
       "       annotations: {'sweep_number': None,\n",
       "         'nwb_group': 'acquisition',\n",
       "         'nwb:resolution': -1.0,\n",
       "         'nwb:conversion': 1.0,\n",
       "         'nwb_neurodata_type': ('pynwb.base', 'TimeSeries')}\n",
       "       sampling rate: 10000.0 Hz\n",
       "       time: 0.05 s to 0.054400000000000004 s\n",
       "    # imagesequences (N=0),\n",
       " Block with 1 segments\n",
       " name: 'default'\n",
       " description: 'test_write_Fluorescence_NWB.nwb'\n",
       " annotations: {'session_start_time': datetime.datetime(2021, 9, 13, 12, 15, 58, 661541, tzinfo=tzoffset(None, 7200)),\n",
       "   'identifier': 'test_write_Fluorescence_NWB.nwb',\n",
       "   'timestamps_reference_time': datetime.datetime(2021, 9, 13, 12, 15, 58, 661541, tzinfo=tzoffset(None, 7200)),\n",
       "   'session_description': 'test_write_Fluorescence_NWB.nwb'}\n",
       " file_origin: 'test_write_Fluorescence_NWB.nwb'\n",
       " rec_datetime: datetime.datetime(2021, 9, 13, 12, 15, 58, 661541, tzinfo=tzoffset(None, 7200))\n",
       " # segments (N=1)\n",
       " 0: Segment with 1 imagesequences\n",
       "    name: 'default'\n",
       "    # analogsignals (N=0)\n",
       "    # imagesequences (N=1)\n",
       "    0: ImageSequence 3 frames with width 2 px and height 3 px; units m; datatype int64 \n",
       "       sampling rate: 1.0 Hz\n",
       "       spatial_scale: No spatial_scale]"
      ]
     },
     "execution_count": 13,
     "metadata": {},
     "output_type": "execute_result"
    }
   ],
   "source": [
    "read"
   ]
  },
  {
   "cell_type": "code",
   "execution_count": null,
   "metadata": {},
   "outputs": [],
   "source": []
  }
 ],
 "metadata": {
  "kernelspec": {
   "display_name": "Python 3",
   "language": "python",
   "name": "python3"
  },
  "language_info": {
   "codemirror_mode": {
    "name": "ipython",
    "version": 3
   },
   "file_extension": ".py",
   "mimetype": "text/x-python",
   "name": "python",
   "nbconvert_exporter": "python",
   "pygments_lexer": "ipython3",
   "version": "3.8.0"
  }
 },
 "nbformat": 4,
 "nbformat_minor": 2
}
