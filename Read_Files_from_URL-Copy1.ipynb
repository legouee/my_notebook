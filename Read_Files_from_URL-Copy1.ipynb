{
 "cells": [
  {
   "cell_type": "code",
   "execution_count": 1,
   "id": "a3505f88",
   "metadata": {},
   "outputs": [],
   "source": [
    "import neo\n",
    "from neo import *\n",
    "from neo.utils import get_local_testing_data_folder"
   ]
  },
  {
   "cell_type": "markdown",
   "id": "03979f46",
   "metadata": {},
   "source": [
    "### If download"
   ]
  },
  {
   "cell_type": "code",
   "execution_count": 2,
   "id": "ce192c12",
   "metadata": {},
   "outputs": [
    {
     "name": "stdout",
     "output_type": "stream",
     "text": [
      "url =  https://object.cscs.ch/v1/AUTH_4791e0a3b3de43e2840fe46d9dc2b334/ext-d000040_EEG_and_MWM_CyclinD2-KO_vs_WT_pub/Raw_Data_Sleep/KO/gk-0999/gk-0999_baseline_epochs.txt\n",
      "file =  gk-0999_baseline_epochs.txt\n",
      "io =  <neo.io.asciisignalio.AsciiSignalIO object at 0x1288227f0>\n",
      "blocks =  [<neo.core.block.Block object at 0x1288228e0>]\n"
     ]
    }
   ],
   "source": [
    "import wget\n",
    "import glob\n",
    "\n",
    "url = 'https://object.cscs.ch/v1/AUTH_4791e0a3b3de43e2840fe46d9dc2b334/ext-d000040_EEG_and_MWM_CyclinD2-KO_vs_WT_pub/Raw_Data_Sleep/KO/gk-0999/gk-0999_baseline_epochs.txt'\n",
    "print(\"url = \", url)\n",
    "\n",
    "file = wget.download(url)\n",
    "print(\"file = \", file)\n",
    "\n",
    "#Read_file = wget.read(url)\n",
    "#print(\"Read_file = \", Read_file)\n",
    "\n",
    "test_file = '/Users/legouee/NWBwork/my_notebook/' + (\"%s\" % file)\n",
    "io = AsciiSignalIO(test_file, 'r')\n",
    "print(\"io = \", io)\n",
    "blocks = io.read()\n",
    "print(\"blocks = \", blocks)"
   ]
  },
  {
   "cell_type": "code",
   "execution_count": 5,
   "id": "596d5c95",
   "metadata": {},
   "outputs": [
    {
     "name": "stdout",
     "output_type": "stream",
     "text": [
      "blks =  <neo.core.block.Block object at 0x128c89610>\n",
      "seg =  <neo.core.segment.Segment object at 0x128e727c0>\n",
      "   \n",
      "metadata =  {}\n",
      "   \n",
      "segs2 =  <neo.core.segment.Segment object at 0x128c89a60>\n",
      "segs2.__dict__ =  {'annotations': {}, 'name': None, 'description': None, 'file_origin': 'gk-0999_baseline_epochs.txt', 'block': <neo.core.block.Block object at 0x128c89610>, 'analogsignals': [<AnalogSignal(array([[nan],\n",
      "       [nan],\n",
      "       [nan],\n",
      "       ...,\n",
      "       [nan],\n",
      "       [nan],\n",
      "       [nan]], dtype=float32) * V, [0.0 s, 21599.0 s], sampling rate: 1.0 Hz)>], 'epochs': [], 'events': [], 'irregularlysampledsignals': [], 'spiketrains': <neo.core.spiketrainlist.SpikeTrainList object at 0x128c89370>, 'imagesequences': [], 'file_datetime': None, 'rec_datetime': None, 'index': None}\n",
      "segs2.spiketrains =  []\n",
      "   \n",
      "segs2.analogsignals =  [<AnalogSignal(array([[nan],\n",
      "       [nan],\n",
      "       [nan],\n",
      "       ...,\n",
      "       [nan],\n",
      "       [nan],\n",
      "       [nan]], dtype=float32) * V, [0.0 s, 21599.0 s], sampling rate: 1.0 Hz)>]\n"
     ]
    }
   ],
   "source": [
    "blks = io.read_block()\n",
    "print(\"blks = \", blks)\n",
    "\n",
    "seg = io.read_segment()\n",
    "print(\"seg = \", seg)\n",
    "print(\"   \")\n",
    "\n",
    "metadata = io.read_metadata()\n",
    "print(\"metadata = \", metadata)\n",
    "print(\"   \")\n",
    "\n",
    "for segs2 in blks.segments:\n",
    "    print(\"segs2 = \", segs2)\n",
    "    print(\"segs2.__dict__ = \", segs2.__dict__)\n",
    "    print(\"segs2.spiketrains = \", segs2.spiketrains)\n",
    "    print(\"   \")\n",
    "    print(\"segs2.analogsignals = \", segs2.analogsignals)\n",
    "    for spks2 in segs2.spiketrains:\n",
    "        print(\"spks2 = \", spks2)\n"
   ]
  },
  {
   "cell_type": "code",
   "execution_count": null,
   "id": "71a7fb4f",
   "metadata": {},
   "outputs": [],
   "source": []
  }
 ],
 "metadata": {
  "kernelspec": {
   "display_name": "Python 3",
   "language": "python",
   "name": "python3"
  },
  "language_info": {
   "codemirror_mode": {
    "name": "ipython",
    "version": 3
   },
   "file_extension": ".py",
   "mimetype": "text/x-python",
   "name": "python",
   "nbconvert_exporter": "python",
   "pygments_lexer": "ipython3",
   "version": "3.8.0"
  }
 },
 "nbformat": 4,
 "nbformat_minor": 5
}
