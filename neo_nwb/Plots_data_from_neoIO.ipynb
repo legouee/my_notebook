{
 "cells": [
  {
   "cell_type": "code",
   "execution_count": 1,
   "metadata": {},
   "outputs": [],
   "source": [
    "# Requirements\n",
    "# python = 3.6.2\n",
    "# pynwb = 1.0.1\n",
    "# neo"
   ]
  },
  {
   "cell_type": "code",
   "execution_count": 2,
   "metadata": {},
   "outputs": [],
   "source": [
    "#################################\n",
    "# NWB Packages\n",
    "#################################\n",
    "\n",
    "import numpy\n",
    "import pynwb\n",
    "from pynwb import NWBFile, TimeSeries, get_manager\n",
    "from pynwb.spec import NWBGroupSpec, NWBDatasetSpec, NWBNamespace\n",
    "from pynwb.base import ProcessingModule\n",
    "from pynwb.ecephys import ElectrodeGroup, Device\n",
    "from pynwb.image import ImageSeries\n",
    "from pynwb.core import set_parents\n",
    "from pynwb import *\n",
    "from datetime import datetime\n",
    "from pynwb import NWBFile #, TimeSeries, get_manager"
   ]
  },
  {
   "cell_type": "code",
   "execution_count": 3,
   "metadata": {},
   "outputs": [
    {
     "name": "stdout",
     "output_type": "stream",
     "text": [
      "neo.__version__ =  0.8.0.dev\n",
      "one-file\n"
     ]
    }
   ],
   "source": [
    "#################################\n",
    "# neo Packages\n",
    "#################################\n",
    "\n",
    "import neo\n",
    "from neo import *\n",
    "\n",
    "print (\"neo.__version__ = \", neo.__version__)\n",
    "print(NWBIO.mode)\n",
    "\n",
    "import urllib\n",
    "import numpy as np\n",
    "import quantities as pq\n",
    "from matplotlib import pyplot\n",
    "import matplotlib.pyplot as plt"
   ]
  },
  {
   "cell_type": "code",
   "execution_count": 4,
   "metadata": {},
   "outputs": [],
   "source": [
    "#############\n",
    "# NWB File\n",
    "#############\n",
    "\n",
    "#filename = \"/home/elodie/NWB_Files/NWB_org/H19.29.141.11.21.01.nwb\"\n",
    "###filename = \"/home/elodie/NWB_Files/NWB_File_python_3_pynwb_101_ephys_data.nwb\"\n",
    "filename = \"/home/elodie/NWB_Files/NWB_File_python_3_pynwb_101_ephys_data_bis.nwb\""
   ]
  },
  {
   "cell_type": "code",
   "execution_count": 5,
   "metadata": {},
   "outputs": [
    {
     "name": "stdout",
     "output_type": "stream",
     "text": [
      "reader =  <neo.io.nwbio.NWBIO object at 0x7fab65dd9c88>\n"
     ]
    }
   ],
   "source": [
    "##################################\n",
    "# Read NWB file from neoIO class\n",
    "##################################\n",
    "\n",
    "reader = neo.io.NWBIO(filename)\n",
    "print(\"reader = \", reader)"
   ]
  },
  {
   "cell_type": "code",
   "execution_count": 6,
   "metadata": {},
   "outputs": [
    {
     "name": "stdout",
     "output_type": "stream",
     "text": [
      "block in read_block =  <neo.core.block.Block object at 0x7fab644a9390>\n",
      "   \n",
      "*** def _handle_general_group ***\n",
      "*** _handle_epochs_group ***\n",
      "*** _handle_acquisition_group ***\n",
      "*** _handle_stimulus_group ***\n",
      "*** def _handle_processing_group ***\n",
      "*** def _handle_analysis_group ***\n"
     ]
    }
   ],
   "source": [
    "bl = reader.read_block(lazy=False) # read() function is called read_block() in NWBIO class."
   ]
  },
  {
   "cell_type": "code",
   "execution_count": 7,
   "metadata": {},
   "outputs": [
    {
     "name": "stdout",
     "output_type": "stream",
     "text": [
      "bl =  <neo.core.block.Block object at 0x7fab644a9390>\n"
     ]
    }
   ],
   "source": [
    "# neo Block\n",
    "print(\"bl = \", bl)"
   ]
  },
  {
   "cell_type": "code",
   "execution_count": 8,
   "metadata": {},
   "outputs": [
    {
     "name": "stdout",
     "output_type": "stream",
     "text": [
      "segment =  <module 'neo.core.segment' from '/home/elodie/env_NWB_py3/python-neo/neo/core/segment.py'>\n",
      "   \n",
      "bl.segments =  []\n"
     ]
    }
   ],
   "source": [
    "print(\"segment = \", segment)\n",
    "print(\"   \")\n",
    "print(\"bl.segments = \", bl.segments)"
   ]
  },
  {
   "cell_type": "code",
   "execution_count": 9,
   "metadata": {},
   "outputs": [
    {
     "name": "stdout",
     "output_type": "stream",
     "text": [
      "*** _handle_epochs_group ***\n"
     ]
    }
   ],
   "source": [
    "seg_nwb = reader._handle_epochs_group(False, 'name')"
   ]
  },
  {
   "cell_type": "code",
   "execution_count": 10,
   "metadata": {},
   "outputs": [
    {
     "name": "stdout",
     "output_type": "stream",
     "text": [
      "seg_nwb =  (<neo.core.segment.Segment object at 0x7fabacb00f60>, <AnalogSignal(array([[0.95376875],\n",
      "       [0.82932243],\n",
      "       [0.31588623],\n",
      "       [0.85261922],\n",
      "       [0.62038077],\n",
      "       [0.72666677],\n",
      "       [0.89319377],\n",
      "       [0.69435603],\n",
      "       [0.1377899 ],\n",
      "       [0.59501954]]) * V, [0.0 s, 0.5 s], sampling rate: 20.0 Hz)>, array([0.  , 0.05, 0.1 , 0.15, 0.2 , 0.25, 0.3 , 0.35, 0.4 , 0.45]))\n",
      "   \n",
      "*** _handle_epochs_group ***\n",
      "reader._handle_epochs_group(True, bl)[0] =  <neo.core.segment.Segment object at 0x7fab64466f98>\n",
      "   \n",
      "*** _handle_epochs_group ***\n",
      "reader._handle_epochs_group(True, bl) =  (<neo.core.segment.Segment object at 0x7fab641c9400>, <AnalogSignal(array([[0.95376875],\n",
      "       [0.82932243],\n",
      "       [0.31588623],\n",
      "       [0.85261922],\n",
      "       [0.62038077],\n",
      "       [0.72666677],\n",
      "       [0.89319377],\n",
      "       [0.69435603],\n",
      "       [0.1377899 ],\n",
      "       [0.59501954]]) * V, [0.0 s, 0.5 s], sampling rate: 20.0 Hz)>, array([0.  , 0.05, 0.1 , 0.15, 0.2 , 0.25, 0.3 , 0.35, 0.4 , 0.45]))\n"
     ]
    }
   ],
   "source": [
    "print(\"seg_nwb = \", seg_nwb)\n",
    "print(\"   \")\n",
    "print(\"reader._handle_epochs_group(True, bl)[0] = \", reader._handle_epochs_group(True, bl)[0])\n",
    "print(\"   \")\n",
    "print(\"reader._handle_epochs_group(True, bl) = \", reader._handle_epochs_group(True, bl))"
   ]
  },
  {
   "cell_type": "code",
   "execution_count": 11,
   "metadata": {},
   "outputs": [
    {
     "name": "stdout",
     "output_type": "stream",
     "text": [
      "Ok\n",
      "Ok\n",
      "Ok\n"
     ]
    }
   ],
   "source": [
    "#for seg in bl.segments:\n",
    "for seg in seg_nwb: \n",
    "    print(\"Ok\")"
   ]
  },
  {
   "cell_type": "code",
   "execution_count": 12,
   "metadata": {},
   "outputs": [
    {
     "data": {
      "text/plain": [
       "numpy.ndarray"
      ]
     },
     "execution_count": 12,
     "metadata": {},
     "output_type": "execute_result"
    }
   ],
   "source": [
    "type(seg)"
   ]
  },
  {
   "cell_type": "code",
   "execution_count": 13,
   "metadata": {},
   "outputs": [
    {
     "data": {
      "text/plain": [
       "tuple"
      ]
     },
     "execution_count": 13,
     "metadata": {},
     "output_type": "execute_result"
    }
   ],
   "source": [
    "type(seg_nwb)"
   ]
  },
  {
   "cell_type": "code",
   "execution_count": null,
   "metadata": {},
   "outputs": [],
   "source": []
  },
  {
   "cell_type": "code",
   "execution_count": null,
   "metadata": {},
   "outputs": [],
   "source": []
  },
  {
   "cell_type": "code",
   "execution_count": 14,
   "metadata": {},
   "outputs": [
    {
     "data": {
      "text/plain": [
       "[neo.core.block.Block,\n",
       " neo.core.segment.Segment,\n",
       " neo.core.analogsignal.AnalogSignal,\n",
       " neo.core.irregularlysampledsignal.IrregularlySampledSignal,\n",
       " neo.core.spiketrain.SpikeTrain,\n",
       " neo.core.epoch.Epoch,\n",
       " neo.core.event.Event]"
      ]
     },
     "execution_count": 14,
     "metadata": {},
     "output_type": "execute_result"
    }
   ],
   "source": [
    "# Readable objects\n",
    "NWBIO.supported_objects"
   ]
  },
  {
   "cell_type": "code",
   "execution_count": 15,
   "metadata": {},
   "outputs": [
    {
     "name": "stdout",
     "output_type": "stream",
     "text": [
      "*** _handle_epochs_group ***\n"
     ]
    }
   ],
   "source": [
    "nwb_seg = reader._handle_epochs_group(False, 'name')"
   ]
  },
  {
   "cell_type": "code",
   "execution_count": 16,
   "metadata": {},
   "outputs": [
    {
     "name": "stdout",
     "output_type": "stream",
     "text": [
      "nwb_seg =  (<neo.core.segment.Segment object at 0x7fab641c96a0>, <AnalogSignal(array([[0.95376875],\n",
      "       [0.82932243],\n",
      "       [0.31588623],\n",
      "       [0.85261922],\n",
      "       [0.62038077],\n",
      "       [0.72666677],\n",
      "       [0.89319377],\n",
      "       [0.69435603],\n",
      "       [0.1377899 ],\n",
      "       [0.59501954]]) * V, [0.0 s, 0.5 s], sampling rate: 20.0 Hz)>, array([0.  , 0.05, 0.1 , 0.15, 0.2 , 0.25, 0.3 , 0.35, 0.4 , 0.45]))\n"
     ]
    }
   ],
   "source": [
    "print(\"nwb_seg = \", nwb_seg)"
   ]
  },
  {
   "cell_type": "code",
   "execution_count": 17,
   "metadata": {},
   "outputs": [
    {
     "name": "stdout",
     "output_type": "stream",
     "text": [
      "test_bl =  <neo.core.block.Block object at 0x7fab641c9b00>\n",
      "test_bl.segments =  []\n"
     ]
    }
   ],
   "source": [
    "# From neo documentation\n",
    "\n",
    "test_bl = Block()\n",
    "print(\"test_bl = \", test_bl)\n",
    "print(\"test_bl.segments = \", test_bl.segments)"
   ]
  },
  {
   "cell_type": "code",
   "execution_count": 18,
   "metadata": {},
   "outputs": [
    {
     "name": "stdout",
     "output_type": "stream",
     "text": [
      "seg =  <neo.core.segment.Segment object at 0x7fab641c9ef0>\n",
      "seg.analogsignals =  []\n"
     ]
    }
   ],
   "source": [
    "seg = Segment()\n",
    "print(\"seg = \", seg)\n",
    "print(\"seg.analogsignals = \", seg.analogsignals)"
   ]
  },
  {
   "cell_type": "code",
   "execution_count": 19,
   "metadata": {},
   "outputs": [
    {
     "name": "stdout",
     "output_type": "stream",
     "text": [
      "*** _handle_epochs_group ***\n",
      "<neo.core.segment.Segment object at 0x7fab64165438>\n"
     ]
    }
   ],
   "source": [
    "print(reader._handle_epochs_group(True, block)[0])"
   ]
  },
  {
   "cell_type": "code",
   "execution_count": 20,
   "metadata": {},
   "outputs": [
    {
     "name": "stdout",
     "output_type": "stream",
     "text": [
      "*** _handle_epochs_group ***\n"
     ]
    },
    {
     "data": {
      "text/plain": [
       "[AnalogSignal with 1 channels of length 10; units V; datatype float64 \n",
       " name: 'test_ephys_data'\n",
       " sampling rate: 20.0\n",
       " time: 0.0 to 0.5,\n",
       " AnalogSignal with 1 channels of length 10; units V; datatype float64 \n",
       " name: 'test_ephys_data'\n",
       " sampling rate: 20.0\n",
       " time: 0.0 to 0.5,\n",
       " AnalogSignal with 1 channels of length 10; units V; datatype float64 \n",
       " name: 'test_ephys_data'\n",
       " sampling rate: 20.0\n",
       " time: 0.0 to 0.5,\n",
       " AnalogSignal with 1 channels of length 10; units V; datatype float64 \n",
       " name: 'test_ephys_data'\n",
       " sampling rate: 20.0\n",
       " time: 0.0 to 0.5,\n",
       " AnalogSignal with 1 channels of length 10; units V; datatype float64 \n",
       " name: 'test_ephys_data'\n",
       " sampling rate: 20.0\n",
       " time: 0.0 to 0.5,\n",
       " AnalogSignal with 1 channels of length 10; units V; datatype float64 \n",
       " name: 'test_ephys_data'\n",
       " sampling rate: 20.0\n",
       " time: 0.0 to 0.5,\n",
       " AnalogSignal with 1 channels of length 10; units V; datatype float64 \n",
       " name: 'test_ephys_data'\n",
       " sampling rate: 20.0\n",
       " time: 0.0 to 0.5,\n",
       " AnalogSignal with 1 channels of length 10; units V; datatype float64 \n",
       " name: 'test_ephys_data'\n",
       " sampling rate: 20.0\n",
       " time: 0.0 to 0.5]"
      ]
     },
     "execution_count": 20,
     "metadata": {},
     "output_type": "execute_result"
    }
   ],
   "source": [
    "# segment.analogsignal\n",
    "reader._handle_epochs_group(True, block)[0].analogsignals"
   ]
  },
  {
   "cell_type": "code",
   "execution_count": null,
   "metadata": {},
   "outputs": [],
   "source": []
  },
  {
   "cell_type": "code",
   "execution_count": 21,
   "metadata": {},
   "outputs": [
    {
     "name": "stdout",
     "output_type": "stream",
     "text": [
      "*** _handle_epochs_group ***\n",
      "data =  <neo.core.segment.Segment object at 0x7fab6416e400>\n",
      "*** _handle_epochs_group ***\n",
      "data1 =  [[0.95376875]\n",
      " [0.82932243]\n",
      " [0.31588623]\n",
      " [0.85261922]\n",
      " [0.62038077]\n",
      " [0.72666677]\n",
      " [0.89319377]\n",
      " [0.69435603]\n",
      " [0.1377899 ]\n",
      " [0.59501954]] V\n",
      "   \n",
      "*** _handle_epochs_group ***\n",
      "   \n"
     ]
    }
   ],
   "source": [
    "###########################\n",
    "# plot a figure from neo\n",
    "###########################\n",
    "\n",
    "#data = segment\n",
    "###data = reader._handle_timeseries(True, 1, 1)\n",
    "data = reader._handle_epochs_group(False, '')[0] # segment.analogsignals\n",
    "print(\"data = \", data)\n",
    "data1 = reader._handle_epochs_group(False, '')[1] # segment.analogsignals\n",
    "print(\"data1 = \", data1)\n",
    "\n",
    "#print(\"data = \", data)\n",
    "print(\"   \")\n",
    "times = reader._handle_epochs_group(True, Block)[2]\n",
    "print(\"   \")"
   ]
  },
  {
   "cell_type": "code",
   "execution_count": 22,
   "metadata": {},
   "outputs": [
    {
     "data": {
      "image/png": "[encoded data removed]",
      "text/plain": [
       "<matplotlib.figure.Figure at 0x7fab64165f98>"
      ]
     },
     "metadata": {
      "needs_background": "light"
     },
     "output_type": "display_data"
    }
   ],
   "source": [
    "plt.plot(times, data1)\n",
    "#plt.plot(times)\n",
    "plt.xlabel('times [s]')\n",
    "#plt.ylabel('[%s]' %container.get_acquisition(i).unit) \n",
    "#plt.title('%s: %s' %(container.get_acquisition(i).neurodata_type, i))\n",
    "plt.grid(True)\n",
    "plt.show()"
   ]
  },
  {
   "cell_type": "code",
   "execution_count": 23,
   "metadata": {},
   "outputs": [
    {
     "name": "stdout",
     "output_type": "stream",
     "text": [
      "data1 =  [[0.95376875]\n",
      " [0.82932243]\n",
      " [0.31588623]\n",
      " [0.85261922]\n",
      " [0.62038077]\n",
      " [0.72666677]\n",
      " [0.89319377]\n",
      " [0.69435603]\n",
      " [0.1377899 ]\n",
      " [0.59501954]] V\n",
      "-----\n",
      "i =  [0.95376875] V\n",
      "i =  [0.82932243] V\n",
      "i =  [0.31588623] V\n",
      "i =  [0.85261922] V\n",
      "i =  [0.62038077] V\n",
      "i =  [0.72666677] V\n",
      "i =  [0.89319377] V\n",
      "i =  [0.69435603] V\n",
      "i =  [0.1377899] V\n",
      "i =  [0.59501954] V\n"
     ]
    },
    {
     "data": {
      "image/png": "[encoded data removed]",
      "text/plain": [
       "<matplotlib.figure.Figure at 0x7fab64165080>"
      ]
     },
     "metadata": {
      "needs_background": "light"
     },
     "output_type": "display_data"
    }
   ],
   "source": [
    "fig = plt.figure()\n",
    "print(\"data1 = \", data1)\n",
    "print(\"-----\")\n",
    "for i in data1:\n",
    "    print(\"i = \", i)\n",
    "    plt.subplot(2, 1, 1)    \n",
    "    #plt.plot(times, data)\n",
    "    plt.plot(times, data1[:])\n",
    "    \n",
    "    plt.grid(True)\n",
    "    \n",
    "    plt.subplot(2, 1, 2)\n",
    "    plt.plot(times, data1)\n",
    "    plt.grid(True)"
   ]
  },
  {
   "cell_type": "code",
   "execution_count": 24,
   "metadata": {},
   "outputs": [
    {
     "name": "stdout",
     "output_type": "stream",
     "text": [
      "ts =  [[0.95376875]\n",
      " [0.82932243]\n",
      " [0.31588623]\n",
      " [0.85261922]\n",
      " [0.62038077]\n",
      " [0.72666677]\n",
      " [0.89319377]\n",
      " [0.69435603]\n",
      " [0.1377899 ]\n",
      " [0.59501954]] V\n"
     ]
    }
   ],
   "source": [
    "# obj\n",
    "ts = reader._handle_timeseries(True, 1, 1)\n",
    "print(\"ts = \", ts)"
   ]
  },
  {
   "cell_type": "code",
   "execution_count": 25,
   "metadata": {},
   "outputs": [],
   "source": [
    "#data0 = reader._handle_epochs_group(True, '')[0]\n",
    "#\n",
    "#plt.plot(times, data0)\n",
    "#plt.xlabel('times [s]')\n",
    "#plt.grid(True)\n",
    "#plt.show()"
   ]
  },
  {
   "cell_type": "code",
   "execution_count": 26,
   "metadata": {},
   "outputs": [
    {
     "name": "stdout",
     "output_type": "stream",
     "text": [
      "test =  [[0.95376875]\n",
      " [0.82932243]\n",
      " [0.31588623]\n",
      " [0.85261922]\n",
      " [0.62038077]\n",
      " [0.72666677]\n",
      " [0.89319377]\n",
      " [0.69435603]\n",
      " [0.1377899 ]\n",
      " [0.59501954]] V\n"
     ]
    }
   ],
   "source": [
    "test = reader._handle_timeseries(True, 1, 1)\n",
    "print(\"test = \", test)"
   ]
  },
  {
   "cell_type": "code",
   "execution_count": 27,
   "metadata": {},
   "outputs": [
    {
     "name": "stdout",
     "output_type": "stream",
     "text": [
      "*** _handle_epochs_group ***\n",
      "irr =  []\n"
     ]
    }
   ],
   "source": [
    "irr = reader._handle_epochs_group(True, bl)[0].irregularlysampledsignals\n",
    "print(\"irr = \", irr)"
   ]
  },
  {
   "cell_type": "code",
   "execution_count": 28,
   "metadata": {},
   "outputs": [
    {
     "name": "stdout",
     "output_type": "stream",
     "text": [
      "*** _handle_stimulus_group ***\n"
     ]
    }
   ],
   "source": [
    "spiketrain = reader._handle_stimulus_group(True, bl)"
   ]
  },
  {
   "cell_type": "code",
   "execution_count": null,
   "metadata": {},
   "outputs": [],
   "source": []
  },
  {
   "cell_type": "code",
   "execution_count": null,
   "metadata": {},
   "outputs": [],
   "source": []
  }
 ],
 "metadata": {
  "kernelspec": {
   "display_name": "Python 3",
   "language": "python",
   "name": "python3"
  },
  "language_info": {
   "codemirror_mode": {
    "name": "ipython",
    "version": 3
   },
   "file_extension": ".py",
   "mimetype": "text/x-python",
   "name": "python",
   "nbconvert_exporter": "python",
   "pygments_lexer": "ipython3",
   "version": "3.6.2"
  }
 },
 "nbformat": 4,
 "nbformat_minor": 2
}
