{
 "cells": [
  {
   "cell_type": "code",
   "execution_count": 1,
   "metadata": {},
   "outputs": [],
   "source": [
    "# Requirements\n",
    "# python = 3.6.2\n",
    "# pynwb = 1.0.1"
   ]
  },
  {
   "cell_type": "markdown",
   "metadata": {},
   "source": [
    "# NWB Packages"
   ]
  },
  {
   "cell_type": "code",
   "execution_count": 2,
   "metadata": {},
   "outputs": [
    {
     "name": "stdout",
     "output_type": "stream",
     "text": [
      "pynwb.__version__ =  1.0.1\n"
     ]
    }
   ],
   "source": [
    "#################################\n",
    "# NWB Packages\n",
    "#################################\n",
    "\n",
    "import numpy\n",
    "import pynwb\n",
    "from pynwb import NWBFile, TimeSeries, get_manager\n",
    "from pynwb.spec import NWBGroupSpec, NWBDatasetSpec, NWBNamespace\n",
    "from pynwb.base import ProcessingModule\n",
    "from pynwb.ecephys import ElectrodeGroup, Device\n",
    "from pynwb.image import ImageSeries\n",
    "from pynwb.core import set_parents\n",
    "from pynwb import *\n",
    "from datetime import datetime\n",
    "from pynwb import NWBFile #, TimeSeries, get_manager\n",
    "\n",
    "print(\"pynwb.__version__ = \", pynwb.__version__)"
   ]
  },
  {
   "cell_type": "markdown",
   "metadata": {},
   "source": [
    "# neo Packages"
   ]
  },
  {
   "cell_type": "code",
   "execution_count": 3,
   "metadata": {},
   "outputs": [
    {
     "name": "stdout",
     "output_type": "stream",
     "text": [
      "mode\n",
      "neo.__version__ =  0.8.0.dev\n"
     ]
    }
   ],
   "source": [
    "#################################\n",
    "# neo Packages\n",
    "#################################\n",
    "\n",
    "import neo\n",
    "from neo import *\n",
    "print (\"neo.__version__ = \", neo.__version__)\n",
    "\n",
    "import urllib\n",
    "import numpy as np\n",
    "import quantities as pq\n",
    "from matplotlib import pyplot\n",
    "import matplotlib.pyplot as plt"
   ]
  },
  {
   "cell_type": "markdown",
   "metadata": {},
   "source": [
    "# Read the NWB file"
   ]
  },
  {
   "cell_type": "code",
   "execution_count": 4,
   "metadata": {},
   "outputs": [],
   "source": [
    "#################################\n",
    "# NWB File\n",
    "# http://download.alleninstitute.org/informatics-archive/prerelease/\n",
    "# H19.28.012.11.05-2.nwb\n",
    "#################################\n",
    "\n",
    "# Read the NWB File\n",
    "filename = \"/home/elodie/NWB_Files/NWB_org/H19.28.012.11.05-2.nwb\"\n",
    "io2 = pynwb.NWBHDF5IO(filename, mode='r')"
   ]
  },
  {
   "cell_type": "code",
   "execution_count": 5,
   "metadata": {},
   "outputs": [],
   "source": [
    "# An other way to read the NWB file\n",
    "container = io2.read()\n",
    "#print(\"container = \", container)"
   ]
  },
  {
   "cell_type": "code",
   "execution_count": 6,
   "metadata": {},
   "outputs": [
    {
     "name": "stdout",
     "output_type": "stream",
     "text": [
      "container_nwbfields =  ('help', 'timestamps_reference_time', 'file_create_date', 'experimenter', 'experiment_description', 'session_id', 'institution', 'keywords', 'notes', 'pharmacology', 'protocol', 'related_publications', 'slices', 'source_script', 'source_script_file_name', 'data_collection', 'surgery', 'virus', 'stimulus_notes', 'lab', 'electrodes', 'epochs', 'trials', 'units', 'subject', 'sweep_table', 'invalid_times', 'epoch_tags')\n"
     ]
    }
   ],
   "source": [
    "container_nwbfields = container.__nwbfields__\n",
    "print(\"container_nwbfields = \", container_nwbfields)"
   ]
  },
  {
   "cell_type": "markdown",
   "metadata": {},
   "source": [
    "# Times"
   ]
  },
  {
   "cell_type": "code",
   "execution_count": 7,
   "metadata": {},
   "outputs": [
    {
     "name": "stdout",
     "output_type": "stream",
     "text": [
      "current_shape =  70000\n",
      "current_shape =  70000\n",
      "current_shape =  70000\n",
      "current_shape =  300000\n",
      "current_shape =  300000\n",
      "current_shape =  300000\n",
      "current_shape =  300000\n",
      "current_shape =  300000\n",
      "current_shape =  300000\n",
      "current_shape =  300000\n",
      "current_shape =  300000\n",
      "current_shape =  300000\n",
      "current_shape =  300000\n",
      "current_shape =  300000\n",
      "current_shape =  300000\n",
      "current_shape =  300000\n",
      "current_shape =  300000\n",
      "current_shape =  300000\n",
      "current_shape =  60000\n",
      "current_shape =  60000\n",
      "current_shape =  60000\n",
      "current_shape =  40400\n",
      "current_shape =  40400\n",
      "current_shape =  40400\n",
      "current_shape =  40400\n",
      "current_shape =  40400\n",
      "current_shape =  40400\n",
      "current_shape =  40400\n",
      "current_shape =  40400\n",
      "current_shape =  40400\n",
      "current_shape =  40400\n",
      "current_shape =  40400\n",
      "current_shape =  40400\n",
      "current_shape =  40400\n",
      "current_shape =  40400\n",
      "current_shape =  40400\n",
      "current_shape =  40400\n",
      "current_shape =  40400\n",
      "current_shape =  40400\n",
      "current_shape =  40400\n",
      "current_shape =  40400\n",
      "current_shape =  40400\n",
      "current_shape =  40400\n",
      "current_shape =  40400\n",
      "current_shape =  40400\n",
      "current_shape =  40400\n",
      "current_shape =  40400\n",
      "current_shape =  40400\n",
      "current_shape =  40400\n",
      "current_shape =  40400\n",
      "current_shape =  40400\n",
      "current_shape =  40400\n",
      "current_shape =  40400\n",
      "current_shape =  156000\n",
      "current_shape =  1644000\n",
      "current_shape =  1644000\n",
      "current_shape =  1644000\n",
      "current_shape =  1644000\n",
      "current_shape =  1644000\n",
      "current_shape =  51000\n",
      "current_shape =  2000000\n",
      "current_shape =  2000000\n",
      "current_shape =  2000000\n",
      "times = times[current_shape] =  [13549.353719 13549.353739 13549.353759 ... 13589.353659 13589.353679\n",
      " 13589.353699]\n",
      "times[-1] = t_stop =  13589.353699000001\n",
      "times[0] = t_start =  13549.353719\n"
     ]
    }
   ],
   "source": [
    "###############\n",
    "# Times NWB\n",
    "###############\n",
    "\n",
    "from quantities import s\n",
    "\n",
    "for i in container.stimulus:\n",
    "    \n",
    "    #print(\"i = \", i)\n",
    "    \n",
    "    current_shape = container.get_acquisition(i).data.shape[0] # sample number\n",
    "    print(\"current_shape = \", current_shape)\n",
    "    times = np.zeros(current_shape)\n",
    "    for j in range(0, current_shape):\n",
    "        times[j]=1./container.get_acquisition(i).rate*j+container.get_acquisition(i).starting_time\n",
    "            # temps = 1./frequency [Hz] + t_start [s]\n",
    "\n",
    "\n",
    "# Times definitions\n",
    "print(\"times = times[current_shape] = \", times)    # times array\n",
    "t_stop = times[-1]\n",
    "print(\"times[-1] = t_stop = \", times[-1])    # t_stop\n",
    "t_start = times[0]\n",
    "print(\"times[0] = t_start = \", times[0]) # t_start # = container.get_acquisition(i).starting_time\n"
   ]
  },
  {
   "cell_type": "markdown",
   "metadata": {},
   "source": [
    "# neo - AnalogSignal"
   ]
  },
  {
   "cell_type": "code",
   "execution_count": 8,
   "metadata": {},
   "outputs": [
    {
     "name": "stdout",
     "output_type": "stream",
     "text": [
      "i =  index_000\n",
      "signal =  [-0. -0. -0. ... -0. -0. -0.]\n",
      "signal_units =  V\n",
      "sampling_rate_nwb =  1.0\n",
      "i =  index_001\n",
      "signal =  [-0.06 -0.06 -0.06 ... -0.06 -0.06 -0.06]\n",
      "signal_units =  V\n",
      "sampling_rate_nwb =  1.0\n",
      "i =  index_002\n",
      "signal =  [-0.06 -0.06 -0.06 ... -0.06 -0.06 -0.06]\n",
      "signal_units =  V\n",
      "sampling_rate_nwb =  1.0\n",
      "i =  index_003\n",
      "signal =  [ 0.04267508  0.04267508  0.04267508 ... -0.00732492 -0.00732492\n",
      " -0.00732492]\n",
      "signal_units =  A\n",
      "sampling_rate_nwb =  1.0\n",
      "i =  index_004\n",
      "signal =  [ 0.04267508  0.04267508  0.04267508 ... -0.00732492 -0.00732492\n",
      " -0.00732492]\n",
      "signal_units =  A\n",
      "sampling_rate_nwb =  1.0\n",
      "i =  index_005\n",
      "signal =  [ 0.04267508  0.04267508  0.04267508 ... -0.00732492 -0.00732492\n",
      " -0.00732492]\n",
      "signal_units =  A\n",
      "sampling_rate_nwb =  1.0\n",
      "i =  index_006\n",
      "signal =  [ 0.04267508  0.04267508  0.04267508 ... -0.00732492 -0.00732492\n",
      " -0.00732492]\n",
      "signal_units =  A\n",
      "sampling_rate_nwb =  1.0\n",
      "i =  index_007\n",
      "signal =  [ 0.04267508  0.04267508  0.04267508 ... -0.00732492 -0.00732492\n",
      " -0.00732492]\n",
      "signal_units =  A\n",
      "sampling_rate_nwb =  1.0\n",
      "i =  index_008\n",
      "signal =  [ 0.04267508  0.04267508  0.04267508 ... -0.00732492 -0.00732492\n",
      " -0.00732492]\n",
      "signal_units =  A\n",
      "sampling_rate_nwb =  1.0\n",
      "i =  index_009\n",
      "signal =  [ 0.04267508  0.04267508  0.04267508 ... -0.00732492 -0.00732492\n",
      " -0.00732492]\n",
      "signal_units =  A\n",
      "sampling_rate_nwb =  1.0\n",
      "i =  index_010\n",
      "signal =  [ 0.04267508  0.04267508  0.04267508 ... -0.00732492 -0.00732492\n",
      " -0.00732492]\n",
      "signal_units =  A\n",
      "sampling_rate_nwb =  1.0\n",
      "i =  index_011\n",
      "signal =  [ 0.04267508  0.04267508  0.04267508 ... -0.00732492 -0.00732492\n",
      " -0.00732492]\n",
      "signal_units =  A\n",
      "sampling_rate_nwb =  1.0\n",
      "i =  index_012\n",
      "signal =  [ 0.04267508  0.04267508  0.04267508 ... -0.00732492 -0.00732492\n",
      " -0.00732492]\n",
      "signal_units =  A\n",
      "sampling_rate_nwb =  1.0\n",
      "i =  index_013\n",
      "signal =  [ 0.04267508  0.04267508  0.04267508 ... -0.00732492 -0.00732492\n",
      " -0.00732492]\n",
      "signal_units =  A\n",
      "sampling_rate_nwb =  1.0\n",
      "i =  index_014\n",
      "signal =  [ 0.04267508  0.04267508  0.04267508 ... -0.00732492 -0.00732492\n",
      " -0.00732492]\n",
      "signal_units =  A\n",
      "sampling_rate_nwb =  1.0\n",
      "i =  index_015\n",
      "signal =  [ 0.04267508  0.04267508  0.04267508 ... -0.00732492 -0.00732492\n",
      " -0.00732492]\n",
      "signal_units =  A\n",
      "sampling_rate_nwb =  1.0\n",
      "i =  index_016\n",
      "signal =  [ 0.04267508  0.04267508  0.04267508 ... -0.00732492 -0.00732492\n",
      " -0.00732492]\n",
      "signal_units =  A\n",
      "sampling_rate_nwb =  1.0\n",
      "i =  index_017\n",
      "signal =  [ 0.04267508  0.04267508  0.04267508 ... -0.00732492 -0.00732492\n",
      " -0.00732492]\n",
      "signal_units =  A\n",
      "sampling_rate_nwb =  1.0\n",
      "i =  index_018\n",
      "signal =  [ 0.04267508  0.04267508  0.04267508 ... -0.00732492 -0.00732492\n",
      " -0.00732492]\n",
      "signal_units =  A\n",
      "sampling_rate_nwb =  1.0\n",
      "i =  index_019\n",
      "signal =  [ 0.04267508  0.04267508  0.04267508 ... -0.00732492 -0.00732492\n",
      " -0.00732492]\n",
      "signal_units =  A\n",
      "sampling_rate_nwb =  1.0\n",
      "i =  index_020\n",
      "signal =  [ 0.04267508  0.04267508  0.04267508 ... -0.00732492 -0.00732492\n",
      " -0.00732492]\n",
      "signal_units =  A\n",
      "sampling_rate_nwb =  1.0\n",
      "i =  index_021\n",
      "signal =  [ 0.04267508  0.04267508  0.04267508 ... -0.00732492 -0.00732492\n",
      " -0.00732492]\n",
      "signal_units =  A\n",
      "sampling_rate_nwb =  1.0\n",
      "i =  index_022\n",
      "signal =  [ 0.04267508  0.04267508  0.04267508 ... -0.00732492 -0.00732492\n",
      " -0.00732492]\n",
      "signal_units =  A\n",
      "sampling_rate_nwb =  1.0\n",
      "i =  index_023\n",
      "signal =  [ 0.04267508  0.04267508  0.04267508 ... -0.00732492 -0.00732492\n",
      " -0.00732492]\n",
      "signal_units =  A\n",
      "sampling_rate_nwb =  1.0\n",
      "i =  index_024\n",
      "signal =  [ 0.04267508  0.04267508  0.04267508 ... -0.00732492 -0.00732492\n",
      " -0.00732492]\n",
      "signal_units =  A\n",
      "sampling_rate_nwb =  1.0\n",
      "i =  index_025\n",
      "signal =  [ 0.04267508  0.04267508  0.04267508 ... -0.00732492 -0.00732492\n",
      " -0.00732492]\n",
      "signal_units =  A\n",
      "sampling_rate_nwb =  1.0\n",
      "i =  index_026\n",
      "signal =  [ 0.04267508  0.04267508  0.04267508 ... -0.00732492 -0.00732492\n",
      " -0.00732492]\n",
      "signal_units =  A\n",
      "sampling_rate_nwb =  1.0\n",
      "i =  index_027\n",
      "signal =  [ 0.04267508  0.04267508  0.04267508 ... -0.00732492 -0.00732492\n",
      " -0.00732492]\n",
      "signal_units =  A\n",
      "sampling_rate_nwb =  1.0\n",
      "i =  index_028\n",
      "signal =  [ 0.04267508  0.04267508  0.04267508 ... -0.00732492 -0.00732492\n",
      " -0.00732492]\n",
      "signal_units =  A\n",
      "sampling_rate_nwb =  1.0\n",
      "i =  index_029\n",
      "signal =  [ 0.04267508  0.04267508  0.04267508 ... -0.00732492 -0.00732492\n",
      " -0.00732492]\n",
      "signal_units =  A\n",
      "sampling_rate_nwb =  1.0\n",
      "i =  index_030\n",
      "signal =  [ 0.04267508  0.04267508  0.04267508 ... -0.00732492 -0.00732492\n",
      " -0.00732492]\n",
      "signal_units =  A\n",
      "sampling_rate_nwb =  1.0\n",
      "i =  index_031\n",
      "signal =  [ 0.04267508  0.04267508  0.04267508 ... -0.00732492 -0.00732492\n",
      " -0.00732492]\n",
      "signal_units =  A\n",
      "sampling_rate_nwb =  1.0\n",
      "i =  index_032\n",
      "signal =  [ 0.04267508  0.04267508  0.04267508 ... -0.00732492 -0.00732492\n",
      " -0.00732492]\n",
      "signal_units =  A\n",
      "sampling_rate_nwb =  1.0\n",
      "i =  index_033\n",
      "signal =  [ 0.04267508  0.04267508  0.04267508 ... -0.00732492 -0.00732492\n",
      " -0.00732492]\n",
      "signal_units =  A\n",
      "sampling_rate_nwb =  1.0\n",
      "i =  index_034\n",
      "signal =  [ 0.04267508  0.04267508  0.04267508 ... -0.00732492 -0.00732492\n",
      " -0.00732492]\n",
      "signal_units =  A\n",
      "sampling_rate_nwb =  1.0\n",
      "i =  index_035\n",
      "signal =  [ 0.04267508  0.04267508  0.04267508 ... -0.00732492 -0.00732492\n",
      " -0.00732492]\n",
      "signal_units =  A\n",
      "sampling_rate_nwb =  1.0\n",
      "i =  index_036\n",
      "signal =  [ 0.04267508  0.04267508  0.04267508 ... -0.00732492 -0.00732492\n",
      " -0.00732492]\n",
      "signal_units =  A\n",
      "sampling_rate_nwb =  1.0\n",
      "i =  index_037\n",
      "signal =  [ 0.04267508  0.04267508  0.04267508 ... -0.00732492 -0.00732492\n",
      " -0.00732492]\n",
      "signal_units =  A\n",
      "sampling_rate_nwb =  1.0\n",
      "i =  index_038\n",
      "signal =  [ 0.04267508  0.04267508  0.04267508 ... -0.00732492 -0.00732492\n",
      " -0.00732492]\n",
      "signal_units =  A\n",
      "sampling_rate_nwb =  1.0\n",
      "i =  index_039\n",
      "signal =  [ 0.04267508  0.04267508  0.04267508 ... -0.00732492 -0.00732492\n",
      " -0.00732492]\n",
      "signal_units =  A\n",
      "sampling_rate_nwb =  1.0\n",
      "i =  index_040\n",
      "signal =  [ 0.04267508  0.04267508  0.04267508 ... -0.00732492 -0.00732492\n",
      " -0.00732492]\n",
      "signal_units =  A\n",
      "sampling_rate_nwb =  1.0\n",
      "i =  index_041\n",
      "signal =  [ 0.04267508  0.04267508  0.04267508 ... -0.00732492 -0.00732492\n",
      " -0.00732492]\n",
      "signal_units =  A\n",
      "sampling_rate_nwb =  1.0\n",
      "i =  index_042\n",
      "signal =  [ 0.04267508  0.04267508  0.04267508 ... -0.00732492 -0.00732492\n",
      " -0.00732492]\n",
      "signal_units =  A\n",
      "sampling_rate_nwb =  1.0\n",
      "i =  index_043\n",
      "signal =  [ 0.04267508  0.04267508  0.04267508 ... -0.00732492 -0.00732492\n",
      " -0.00732492]\n",
      "signal_units =  A\n",
      "sampling_rate_nwb =  1.0\n",
      "i =  index_044\n",
      "signal =  [ 0.04267508  0.04267508  0.04267508 ... -0.00732492 -0.00732492\n",
      " -0.00732492]\n",
      "signal_units =  A\n",
      "sampling_rate_nwb =  1.0\n",
      "i =  index_045\n",
      "signal =  [ 0.04267508  0.04267508  0.04267508 ... -0.00732492 -0.00732492\n",
      " -0.00732492]\n",
      "signal_units =  A\n",
      "sampling_rate_nwb =  1.0\n",
      "i =  index_046\n",
      "signal =  [ 0.04267508  0.04267508  0.04267508 ... -0.00732492 -0.00732492\n",
      " -0.00732492]\n",
      "signal_units =  A\n",
      "sampling_rate_nwb =  1.0\n",
      "i =  index_047\n",
      "signal =  [ 0.04267508  0.04267508  0.04267508 ... -0.00732492 -0.00732492\n",
      " -0.00732492]\n",
      "signal_units =  A\n",
      "sampling_rate_nwb =  1.0\n",
      "i =  index_048\n",
      "signal =  [ 0.04267508  0.04267508  0.04267508 ... -0.00732492 -0.00732492\n",
      " -0.00732492]\n",
      "signal_units =  A\n",
      "sampling_rate_nwb =  1.0\n",
      "i =  index_049\n",
      "signal =  [ 0.04267508  0.04267508  0.04267508 ... -0.00732492 -0.00732492\n",
      " -0.00732492]\n",
      "signal_units =  A\n",
      "sampling_rate_nwb =  1.0\n",
      "i =  index_050\n",
      "signal =  [ 0.04267508  0.04267508  0.04267508 ... -0.00732492 -0.00732492\n",
      " -0.00732492]\n",
      "signal_units =  A\n",
      "sampling_rate_nwb =  1.0\n",
      "i =  index_051\n",
      "signal =  [ 0.04267508  0.04267508  0.04267508 ... -0.00732492 -0.00732492\n",
      " -0.00732492]\n",
      "signal_units =  A\n",
      "sampling_rate_nwb =  1.0\n",
      "i =  index_052\n",
      "signal =  [ 0.04267508  0.04267508  0.04267508 ... -0.00732492 -0.00732492\n",
      " -0.00732492]\n",
      "signal_units =  A\n",
      "sampling_rate_nwb =  1.0\n",
      "i =  index_053\n",
      "signal =  [0.04267508 0.04267508 0.04267508 ... 0.06034936 0.06034977 0.06035016]\n",
      "signal_units =  A\n",
      "sampling_rate_nwb =  1.0\n",
      "i =  index_054\n",
      "signal =  [0.05 0.05 0.05 ... 0.   0.   0.  ]\n",
      "signal_units =  A\n",
      "sampling_rate_nwb =  1.0\n",
      "i =  index_055\n",
      "signal =  [0.05 0.05 0.05 ... 0.   0.   0.  ]\n",
      "signal_units =  A\n",
      "sampling_rate_nwb =  1.0\n",
      "i =  index_056\n",
      "signal =  [0.05 0.05 0.05 ... 0.   0.   0.  ]\n",
      "signal_units =  A\n",
      "sampling_rate_nwb =  1.0\n",
      "i =  index_057\n",
      "signal =  [0.05 0.05 0.05 ... 0.   0.   0.  ]\n",
      "signal_units =  A\n",
      "sampling_rate_nwb =  1.0\n",
      "i =  index_058\n"
     ]
    },
    {
     "name": "stdout",
     "output_type": "stream",
     "text": [
      "signal =  [0.05 0.05 0.05 ... 0.   0.   0.  ]\n",
      "signal_units =  A\n",
      "sampling_rate_nwb =  1.0\n",
      "i =  index_059\n",
      "signal =  [0.04267508 0.04267508 0.04267508 ... 0.00289811 0.00291856 0.00293893]\n",
      "signal_units =  A\n",
      "sampling_rate_nwb =  1.0\n",
      "i =  index_060\n",
      "signal =  [0.04267508 0.04267508 0.04267508 ... 0.00017589 0.00015077 0.00012565]\n",
      "signal_units =  A\n",
      "sampling_rate_nwb =  1.0\n",
      "i =  index_061\n",
      "signal =  [0.04267508 0.04267508 0.04267508 ... 0.00017589 0.00015077 0.00012565]\n",
      "signal_units =  A\n",
      "sampling_rate_nwb =  1.0\n",
      "i =  index_062\n",
      "signal =  [0.04267508 0.04267508 0.04267508 ... 0.00017589 0.00015077 0.00012565]\n",
      "signal_units =  A\n",
      "sampling_rate_nwb =  1.0\n",
      "sig0 =  [[0.04267508]\n",
      " [0.04267508]\n",
      " [0.04267508]\n",
      " ...\n",
      " [0.00017589]\n",
      " [0.00015077]\n",
      " [0.00012565]] A\n"
     ]
    }
   ],
   "source": [
    "from neo.core import Segment, SpikeTrain, AnalogSignal\n",
    "from quantities import Hz, s\n",
    "import quantities as pq\n",
    "\n",
    "##################\n",
    "# Segment\n",
    "##################\n",
    "# AnalogSignal\n",
    "##################\n",
    "\n",
    "###############\n",
    "# AnalogSignal\n",
    "###############\n",
    "# Array of one or more continuous analog signal\n",
    "\n",
    "#sig0 = AnalogSignal(signal=[.01, 3.3, 9.3], units='uV', sampling_rate=1*Hz)\n",
    "#signal=[.01, 3.3, 9.3]\n",
    "\n",
    "for i in container.stimulus:\n",
    "#for i in container.acquisition:\n",
    "    print(\"i = \", i)\n",
    "    \n",
    "    signal = container.get_stimulus(i).data[:]/1000.\n",
    "#    voltage = container.get_acquisition(i).data[:]/1000.\n",
    "    print(\"signal = \", signal)\n",
    "    \n",
    "    signal_units = container.get_stimulus(i).unit\n",
    "    print(\"signal_units = \", signal_units)\n",
    "    \n",
    "    sampling_rate_nwb = container.get_stimulus(i).gain\n",
    "    print(\"sampling_rate_nwb = \", sampling_rate_nwb)\n",
    "    \n",
    "\n",
    "# AnalogSignal\n",
    "sig0 = AnalogSignal(signal, units=signal_units, sampling_rate=sampling_rate_nwb*Hz) # signal # units # 1*Hz\n",
    "print(\"sig0 = \", sig0)\n",
    "\n",
    "\n",
    "# Same for :\n",
    "#sig1 = AnalogSignal(signal=[100.01, 103.3, 109.3], units='nA', sampling_period=.1*s)\n",
    "#seg.analogsignals.append(sig1)"
   ]
  },
  {
   "cell_type": "markdown",
   "metadata": {},
   "source": [
    "# neo - Segment"
   ]
  },
  {
   "cell_type": "code",
   "execution_count": 9,
   "metadata": {},
   "outputs": [
    {
     "name": "stdout",
     "output_type": "stream",
     "text": [
      "seg =  <neo.core.segment.Segment object at 0x7f045d2e45f8>\n",
      "seg.analogsignals.append(sig0) =  None\n"
     ]
    }
   ],
   "source": [
    "#seg = Segment()\n",
    "seg = Segment(index=5)\n",
    "print(\"seg = \", seg)\n",
    "\n",
    "seg.analogsignals.append(sig0)\n",
    "print(\"seg.analogsignals.append(sig0) = \", seg.analogsignals.append(sig0))"
   ]
  },
  {
   "cell_type": "markdown",
   "metadata": {},
   "source": [
    "# neo - ChannelIndex"
   ]
  },
  {
   "cell_type": "code",
   "execution_count": 10,
   "metadata": {},
   "outputs": [
    {
     "name": "stdout",
     "output_type": "stream",
     "text": [
      "index =  index_000\n",
      "chx =  <neo.core.channelindex.ChannelIndex object at 0x7f045d272358>\n",
      "index =  index_001\n",
      "chx =  <neo.core.channelindex.ChannelIndex object at 0x7f045d272588>\n",
      "index =  index_002\n",
      "chx =  <neo.core.channelindex.ChannelIndex object at 0x7f045d272358>\n",
      "index =  index_003\n",
      "chx =  <neo.core.channelindex.ChannelIndex object at 0x7f045d6bfe80>\n",
      "index =  index_004\n",
      "chx =  <neo.core.channelindex.ChannelIndex object at 0x7f045d272358>\n",
      "index =  index_005\n",
      "chx =  <neo.core.channelindex.ChannelIndex object at 0x7f045d6bfe80>\n",
      "index =  index_006\n",
      "chx =  <neo.core.channelindex.ChannelIndex object at 0x7f045d272198>\n",
      "index =  index_007\n",
      "chx =  <neo.core.channelindex.ChannelIndex object at 0x7f045d6bfe80>\n",
      "index =  index_008\n",
      "chx =  <neo.core.channelindex.ChannelIndex object at 0x7f045d272198>\n",
      "index =  index_009\n",
      "chx =  <neo.core.channelindex.ChannelIndex object at 0x7f045d6bfe80>\n",
      "index =  index_010\n",
      "chx =  <neo.core.channelindex.ChannelIndex object at 0x7f045d272198>\n",
      "index =  index_011\n",
      "chx =  <neo.core.channelindex.ChannelIndex object at 0x7f045d6bfe80>\n",
      "index =  index_012\n",
      "chx =  <neo.core.channelindex.ChannelIndex object at 0x7f045d272198>\n",
      "index =  index_013\n",
      "chx =  <neo.core.channelindex.ChannelIndex object at 0x7f045d6bfe80>\n",
      "index =  index_014\n",
      "chx =  <neo.core.channelindex.ChannelIndex object at 0x7f045d272198>\n",
      "index =  index_015\n",
      "chx =  <neo.core.channelindex.ChannelIndex object at 0x7f045d6bfe80>\n",
      "index =  index_016\n",
      "chx =  <neo.core.channelindex.ChannelIndex object at 0x7f045d272198>\n",
      "index =  index_017\n",
      "chx =  <neo.core.channelindex.ChannelIndex object at 0x7f045d6bfe80>\n",
      "index =  index_018\n",
      "chx =  <neo.core.channelindex.ChannelIndex object at 0x7f045d272198>\n",
      "index =  index_019\n",
      "chx =  <neo.core.channelindex.ChannelIndex object at 0x7f045d6bfe80>\n",
      "index =  index_020\n",
      "chx =  <neo.core.channelindex.ChannelIndex object at 0x7f045d272198>\n",
      "index =  index_021\n",
      "chx =  <neo.core.channelindex.ChannelIndex object at 0x7f045d6bfe80>\n",
      "index =  index_022\n",
      "chx =  <neo.core.channelindex.ChannelIndex object at 0x7f045d272198>\n",
      "index =  index_023\n",
      "chx =  <neo.core.channelindex.ChannelIndex object at 0x7f045d6bfe80>\n",
      "index =  index_024\n",
      "chx =  <neo.core.channelindex.ChannelIndex object at 0x7f045d272198>\n",
      "index =  index_025\n",
      "chx =  <neo.core.channelindex.ChannelIndex object at 0x7f045d6bfe80>\n",
      "index =  index_026\n",
      "chx =  <neo.core.channelindex.ChannelIndex object at 0x7f045d272198>\n",
      "index =  index_027\n",
      "chx =  <neo.core.channelindex.ChannelIndex object at 0x7f045d6bfe80>\n",
      "index =  index_028\n",
      "chx =  <neo.core.channelindex.ChannelIndex object at 0x7f045d272198>\n",
      "index =  index_029\n",
      "chx =  <neo.core.channelindex.ChannelIndex object at 0x7f045d6bfe80>\n",
      "index =  index_030\n",
      "chx =  <neo.core.channelindex.ChannelIndex object at 0x7f045d272198>\n",
      "index =  index_031\n",
      "chx =  <neo.core.channelindex.ChannelIndex object at 0x7f045d6bfe80>\n",
      "index =  index_032\n",
      "chx =  <neo.core.channelindex.ChannelIndex object at 0x7f045d272198>\n",
      "index =  index_033\n",
      "chx =  <neo.core.channelindex.ChannelIndex object at 0x7f045d6bfe80>\n",
      "index =  index_034\n",
      "chx =  <neo.core.channelindex.ChannelIndex object at 0x7f045d272198>\n",
      "index =  index_035\n",
      "chx =  <neo.core.channelindex.ChannelIndex object at 0x7f045d6bfe80>\n",
      "index =  index_036\n",
      "chx =  <neo.core.channelindex.ChannelIndex object at 0x7f045d272198>\n",
      "index =  index_037\n",
      "chx =  <neo.core.channelindex.ChannelIndex object at 0x7f045d6bfe80>\n",
      "index =  index_038\n",
      "chx =  <neo.core.channelindex.ChannelIndex object at 0x7f045d272198>\n",
      "index =  index_039\n",
      "chx =  <neo.core.channelindex.ChannelIndex object at 0x7f045d6bfe80>\n",
      "index =  index_040\n",
      "chx =  <neo.core.channelindex.ChannelIndex object at 0x7f045d272198>\n",
      "index =  index_041\n",
      "chx =  <neo.core.channelindex.ChannelIndex object at 0x7f045d6bfe80>\n",
      "index =  index_042\n",
      "chx =  <neo.core.channelindex.ChannelIndex object at 0x7f045d272198>\n",
      "index =  index_043\n",
      "chx =  <neo.core.channelindex.ChannelIndex object at 0x7f045d6bfe80>\n",
      "index =  index_044\n",
      "chx =  <neo.core.channelindex.ChannelIndex object at 0x7f045d272198>\n",
      "index =  index_045\n",
      "chx =  <neo.core.channelindex.ChannelIndex object at 0x7f045d6bfe80>\n",
      "index =  index_046\n",
      "chx =  <neo.core.channelindex.ChannelIndex object at 0x7f045d272198>\n",
      "index =  index_047\n",
      "chx =  <neo.core.channelindex.ChannelIndex object at 0x7f045d6bfe80>\n",
      "index =  index_048\n",
      "chx =  <neo.core.channelindex.ChannelIndex object at 0x7f045d272198>\n",
      "index =  index_049\n",
      "chx =  <neo.core.channelindex.ChannelIndex object at 0x7f045d6bfe80>\n",
      "index =  index_050\n",
      "chx =  <neo.core.channelindex.ChannelIndex object at 0x7f045d272198>\n",
      "index =  index_051\n",
      "chx =  <neo.core.channelindex.ChannelIndex object at 0x7f045d6bfe80>\n",
      "index =  index_052\n",
      "chx =  <neo.core.channelindex.ChannelIndex object at 0x7f045d272198>\n",
      "index =  index_053\n",
      "chx =  <neo.core.channelindex.ChannelIndex object at 0x7f045d6bfe80>\n",
      "index =  index_054\n",
      "chx =  <neo.core.channelindex.ChannelIndex object at 0x7f045d272198>\n",
      "index =  index_055\n",
      "chx =  <neo.core.channelindex.ChannelIndex object at 0x7f045d6bfe80>\n",
      "index =  index_056\n",
      "chx =  <neo.core.channelindex.ChannelIndex object at 0x7f045d272198>\n",
      "index =  index_057\n",
      "chx =  <neo.core.channelindex.ChannelIndex object at 0x7f045d6bfe80>\n",
      "index =  index_058\n",
      "chx =  <neo.core.channelindex.ChannelIndex object at 0x7f045d272198>\n",
      "index =  index_059\n",
      "chx =  <neo.core.channelindex.ChannelIndex object at 0x7f045d6bfe80>\n",
      "index =  index_060\n",
      "chx =  <neo.core.channelindex.ChannelIndex object at 0x7f045d272198>\n",
      "index =  index_061\n",
      "chx =  <neo.core.channelindex.ChannelIndex object at 0x7f045d6bfe80>\n",
      "index =  index_062\n",
      "chx =  <neo.core.channelindex.ChannelIndex object at 0x7f045d272198>\n",
      "chx.analogsignals.append(seg.analogsignals[0]) =  None\n"
     ]
    }
   ],
   "source": [
    "#chx = ChannelIndex(channel_indexes=[0, 1, 2, 3])\n",
    "for k in container.acquisition:\n",
    "    index = container.get_acquisition(k).name\n",
    "    print(\"index = \", index)\n",
    "    chx = ChannelIndex(index, channel_indexes=[])\n",
    "    print(\"chx = \", chx)\n",
    "\n",
    "chx.analogsignals.append(seg.analogsignals[0])\n",
    "print(\"chx.analogsignals.append(seg.analogsignals[0]) = \", chx.analogsignals.append(seg.analogsignals[0]))"
   ]
  },
  {
   "cell_type": "markdown",
   "metadata": {},
   "source": [
    "# neo - SpikeTrain"
   ]
  },
  {
   "cell_type": "code",
   "execution_count": 11,
   "metadata": {},
   "outputs": [
    {
     "name": "stdout",
     "output_type": "stream",
     "text": [
      "train =  [13549.353719 13549.353739 13549.353759 ... 13589.353659 13589.353679\n",
      " 13589.353699] s\n",
      "   \n",
      "t_start =  13549.353719\n",
      "train.t_start =  0.0 s\n",
      "train.t_stop =  13589.353699000001 s\n",
      "   \n",
      "seg.spiketrains.append(train) =  None\n",
      "   ***   \n"
     ]
    }
   ],
   "source": [
    "from neo.core import SpikeTrain\n",
    "from quantities import s\n",
    "\n",
    "##############\n",
    "# SpikeTrain\n",
    "##############\n",
    "# SpikeTrain = It is an ensemble of action potentials (spikes) emitted by the same unit in a period of time.\n",
    "# A SpikeTrain is a segment\n",
    "\n",
    "#train = SpikeTrain([3, 4, 5]*s, t_stop) # train =  [3. 4. 5.] s\n",
    "#train0 = SpikeTrain(times=[.01, 3.3, 9.3], units='sec', t_stop=10)\n",
    "train = SpikeTrain(times*s, t_stop)\n",
    "print(\"train = \", train)\n",
    "print(\"   \")\n",
    "\n",
    "\n",
    "### Tests\n",
    "t_start = container.get_acquisition(i).starting_time\n",
    "print(\"t_start = \", t_start)\n",
    "\n",
    "train.t_start\n",
    "print(\"train.t_start = \", train.t_start) #array(0.0) * s          ### To test !\n",
    "\n",
    "train.t_stop\n",
    "print(\"train.t_stop = \", train.t_stop) #array(10.0) * s\n",
    "print(\"   \")\n",
    "\n",
    "\n",
    "# SpikeTrain - Segment\n",
    "seg.spiketrains.append(train)\n",
    "print(\"seg.spiketrains.append(train) = \", seg.spiketrains.append(train))\n",
    "print(\"   ***   \")\n"
   ]
  },
  {
   "cell_type": "markdown",
   "metadata": {},
   "source": [
    "# neo - Event"
   ]
  },
  {
   "cell_type": "code",
   "execution_count": 12,
   "metadata": {},
   "outputs": [
    {
     "name": "stdout",
     "output_type": "stream",
     "text": [
      "evt =  [ 0. 10. 20.] s\n",
      "evt.times =  [ 0. 10. 20.] s\n",
      "evt.labels =  [b'index_062' b'index_062' b'index_062']\n"
     ]
    }
   ],
   "source": [
    "from neo.core import Event\n",
    "from quantities import s\n",
    "import numpy as np\n",
    "\n",
    "########\n",
    "# Event\n",
    "########\n",
    "# The time of the events\n",
    "# Names or labels for the events\n",
    "# evt = Event(np.arange(0, 30, 10)*s, labels=np.array(['trig0', 'trig1', 'trig2'], dtype='S'))\n",
    "\n",
    "# numpy.arange([start, ]stop, [step, ]dtype=None)¶\n",
    "# Return evenly spaced values within a given interval.\n",
    "evt = Event(np.arange(0, 30, 10)*s, labels=np.array([i, i, i], dtype='S'))\n",
    "print(\"evt = \", evt)\n",
    "\n",
    "#evt.times\n",
    "print (\"evt.times = \", evt.times) #array([  0.,  10.,  20.]) * s\n",
    "#evt.labels\n",
    "print(\"evt.labels = \", evt.labels) #array(['trig0', 'trig1', 'trig2'], dtype='|S5')\n"
   ]
  },
  {
   "cell_type": "markdown",
   "metadata": {},
   "source": [
    "# neo - block"
   ]
  },
  {
   "cell_type": "code",
   "execution_count": 13,
   "metadata": {},
   "outputs": [
    {
     "name": "stdout",
     "output_type": "stream",
     "text": [
      "date =  [datetime.datetime(2019, 5, 13, 10, 51, 31, 69049, tzinfo=tzoffset(None, -25200))]\n"
     ]
    }
   ],
   "source": [
    "# A block = Entire file\n",
    "\n",
    "date = container.file_create_date\n",
    "print(\"date = \", date)"
   ]
  },
  {
   "cell_type": "code",
   "execution_count": 14,
   "metadata": {},
   "outputs": [
    {
     "name": "stdout",
     "output_type": "stream",
     "text": [
      "identifier =  1ed51563e8f0218c0270ee9fb6c27b0b1558c4b821c10be2756797a697b35ff3\n",
      "session_description =  PLACEHOLDER\n",
      "experiment_description =  PatchMaster v2x90.3, 19-Mar-2018\n"
     ]
    }
   ],
   "source": [
    "identifier = container.identifier\n",
    "print(\"identifier = \", identifier)\n",
    "\n",
    "session_description = container.session_description\n",
    "print(\"session_description = \", session_description)\n",
    "\n",
    "experiment_description = container.experiment_description\n",
    "print(\"experiment_description = \", experiment_description)"
   ]
  },
  {
   "cell_type": "code",
   "execution_count": 15,
   "metadata": {},
   "outputs": [
    {
     "name": "stdout",
     "output_type": "stream",
     "text": [
      "session_start_time =  2019-04-18 03:41:56.136000-07:00\n"
     ]
    }
   ],
   "source": [
    "session_start_time = container.session_start_time\n",
    "print(\"session_start_time = \", session_start_time)"
   ]
  },
  {
   "cell_type": "code",
   "execution_count": 16,
   "metadata": {},
   "outputs": [],
   "source": [
    "#nwb_version = container.nwb_version\n",
    "#print(\"nwb_version = \", nwb_version)"
   ]
  },
  {
   "cell_type": "markdown",
   "metadata": {},
   "source": [
    "# NWB Epoch corresponds to a Neo Segment"
   ]
  },
  {
   "cell_type": "code",
   "execution_count": 17,
   "metadata": {},
   "outputs": [
    {
     "name": "stdout",
     "output_type": "stream",
     "text": [
      "epochs =  None\n",
      "epoch_tags =  set()\n",
      "container_nwbfields =  ('help', 'timestamps_reference_time', 'file_create_date', 'experimenter', 'experiment_description', 'session_id', 'institution', 'keywords', 'notes', 'pharmacology', 'protocol', 'related_publications', 'slices', 'source_script', 'source_script_file_name', 'data_collection', 'surgery', 'virus', 'stimulus_notes', 'lab', 'electrodes', 'epochs', 'trials', 'units', 'subject', 'sweep_table', 'invalid_times', 'epoch_tags')\n"
     ]
    }
   ],
   "source": [
    "epochs = container.epochs\n",
    "print(\"epochs = \", epochs)\n",
    "\n",
    "epoch_tags = container.epoch_tags\n",
    "print(\"epoch_tags = \", epoch_tags)\n",
    "\n",
    "container_nwbfields = container.__nwbfields__\n",
    "print(\"container_nwbfields = \", container_nwbfields)\n"
   ]
  },
  {
   "cell_type": "code",
   "execution_count": 18,
   "metadata": {},
   "outputs": [
    {
     "name": "stdout",
     "output_type": "stream",
     "text": [
      "units =  None\n"
     ]
    }
   ],
   "source": [
    "units = container.units\n",
    "print(\"units = \", units)"
   ]
  },
  {
   "cell_type": "code",
   "execution_count": 19,
   "metadata": {},
   "outputs": [
    {
     "name": "stdout",
     "output_type": "stream",
     "text": [
      "unitTimes =  None\n"
     ]
    }
   ],
   "source": [
    "unitTimes2 = container.invalid_times\n",
    "print(\"unitTimes = \", unitTimes2)"
   ]
  },
  {
   "cell_type": "markdown",
   "metadata": {},
   "source": [
    "# NWB - Processing Modules "
   ]
  },
  {
   "cell_type": "code",
   "execution_count": 20,
   "metadata": {},
   "outputs": [],
   "source": [
    "#processing = container.processing\n",
    "#print(\"processing = \", processing)"
   ]
  },
  {
   "cell_type": "code",
   "execution_count": 21,
   "metadata": {},
   "outputs": [
    {
     "name": "stdout",
     "output_type": "stream",
     "text": [
      "i =  index_000\n",
      "i.unit_description =  A\n",
      "i =  index_001\n",
      "i.unit_description =  A\n",
      "i =  index_002\n",
      "i.unit_description =  A\n",
      "i =  index_003\n",
      "i.unit_description =  V\n",
      "i =  index_004\n",
      "i.unit_description =  V\n",
      "i =  index_005\n",
      "i.unit_description =  V\n",
      "i =  index_006\n",
      "i.unit_description =  V\n",
      "i =  index_007\n",
      "i.unit_description =  V\n",
      "i =  index_008\n",
      "i.unit_description =  V\n",
      "i =  index_009\n",
      "i.unit_description =  V\n",
      "i =  index_010\n",
      "i.unit_description =  V\n",
      "i =  index_011\n",
      "i.unit_description =  V\n",
      "i =  index_012\n",
      "i.unit_description =  V\n",
      "i =  index_013\n",
      "i.unit_description =  V\n",
      "i =  index_014\n",
      "i.unit_description =  V\n",
      "i =  index_015\n",
      "i.unit_description =  V\n",
      "i =  index_016\n",
      "i.unit_description =  V\n",
      "i =  index_017\n",
      "i.unit_description =  V\n",
      "i =  index_018\n",
      "i.unit_description =  V\n",
      "i =  index_019\n",
      "i.unit_description =  V\n",
      "i =  index_020\n",
      "i.unit_description =  V\n",
      "i =  index_021\n",
      "i.unit_description =  V\n",
      "i =  index_022\n",
      "i.unit_description =  V\n",
      "i =  index_023\n",
      "i.unit_description =  V\n",
      "i =  index_024\n",
      "i.unit_description =  V\n",
      "i =  index_025\n",
      "i.unit_description =  V\n",
      "i =  index_026\n",
      "i.unit_description =  V\n",
      "i =  index_027\n",
      "i.unit_description =  V\n",
      "i =  index_028\n",
      "i.unit_description =  V\n",
      "i =  index_029\n",
      "i.unit_description =  V\n",
      "i =  index_030\n",
      "i.unit_description =  V\n",
      "i =  index_031\n",
      "i.unit_description =  V\n",
      "i =  index_032\n",
      "i.unit_description =  V\n",
      "i =  index_033\n",
      "i.unit_description =  V\n",
      "i =  index_034\n",
      "i.unit_description =  V\n",
      "i =  index_035\n",
      "i.unit_description =  V\n",
      "i =  index_036\n",
      "i.unit_description =  V\n",
      "i =  index_037\n",
      "i.unit_description =  V\n",
      "i =  index_038\n",
      "i.unit_description =  V\n",
      "i =  index_039\n",
      "i.unit_description =  V\n",
      "i =  index_040\n",
      "i.unit_description =  V\n",
      "i =  index_041\n",
      "i.unit_description =  V\n",
      "i =  index_042\n",
      "i.unit_description =  V\n",
      "i =  index_043\n",
      "i.unit_description =  V\n",
      "i =  index_044\n",
      "i.unit_description =  V\n",
      "i =  index_045\n",
      "i.unit_description =  V\n",
      "i =  index_046\n",
      "i.unit_description =  V\n",
      "i =  index_047\n",
      "i.unit_description =  V\n",
      "i =  index_048\n",
      "i.unit_description =  V\n",
      "i =  index_049\n",
      "i.unit_description =  V\n",
      "i =  index_050\n",
      "i.unit_description =  V\n",
      "i =  index_051\n",
      "i.unit_description =  V\n",
      "i =  index_052\n",
      "i.unit_description =  V\n",
      "i =  index_053\n",
      "i.unit_description =  V\n",
      "i =  index_054\n",
      "i.unit_description =  V\n",
      "i =  index_055\n",
      "i.unit_description =  V\n",
      "i =  index_056\n",
      "i.unit_description =  V\n",
      "i =  index_057\n",
      "i.unit_description =  V\n",
      "i =  index_058\n",
      "i.unit_description =  V\n",
      "i =  index_059\n",
      "i.unit_description =  V\n",
      "i =  index_060\n",
      "i.unit_description =  V\n",
      "i =  index_061\n",
      "i.unit_description =  V\n",
      "i =  index_062\n",
      "i.unit_description =  V\n"
     ]
    }
   ],
   "source": [
    "#for i in ['index_000', 'index_001']: # To only have the first two\n",
    "for i in container.acquisition:\n",
    "    print(\"i = \", i)\n",
    "    print(\"i.unit_description = \", container.get_acquisition(i).unit)\n"
   ]
  },
  {
   "cell_type": "code",
   "execution_count": 22,
   "metadata": {},
   "outputs": [
    {
     "name": "stdout",
     "output_type": "stream",
     "text": [
      "timestamps =  None\n"
     ]
    }
   ],
   "source": [
    "timestamps = container.get_acquisition(i).timestamps\n",
    "print(\"timestamps = \", timestamps)"
   ]
  },
  {
   "cell_type": "code",
   "execution_count": 25,
   "metadata": {},
   "outputs": [
    {
     "name": "stdout",
     "output_type": "stream",
     "text": [
      "duration =  2e-05\n"
     ]
    }
   ],
   "source": [
    "duration = 1/container.get_acquisition(i).rate\n",
    "print(\"duration = \", duration)"
   ]
  },
  {
   "cell_type": "code",
   "execution_count": 132,
   "metadata": {},
   "outputs": [
    {
     "name": "stdout",
     "output_type": "stream",
     "text": [
      "read().__nwbfields__ =  ('help', 'timestamps_reference_time', 'file_create_date', 'experimenter', 'experiment_description', 'session_id', 'institution', 'keywords', 'notes', 'pharmacology', 'protocol', 'related_publications', 'slices', 'source_script', 'source_script_file_name', 'data_collection', 'surgery', 'virus', 'stimulus_notes', 'lab', 'electrodes', 'epochs', 'trials', 'units', 'subject', 'sweep_table', 'invalid_times', 'epoch_tags')\n",
      "   \n",
      "timestamps_reference_time =  2019-04-18 03:41:56.136000-07:00\n",
      "keywords =  None\n",
      "notes =  None\n",
      "source_script_file_name =  run_x_to_nwb_conversion.py\n",
      "stimulus_notes =  None\n"
     ]
    }
   ],
   "source": [
    "print(\"read().__nwbfields__ = \", io2.read().__nwbfields__)\n",
    "print(\"   \")\n",
    "print(\"timestamps_reference_time = \", container.timestamps_reference_time)\n",
    "print(\"keywords = \", container.keywords)\n",
    "print(\"notes = \", container.notes)\n",
    "print(\"source_script_file_name = \", container.source_script_file_name)\n",
    "print(\"stimulus_notes = \", container.stimulus_notes)"
   ]
  },
  {
   "cell_type": "code",
   "execution_count": 133,
   "metadata": {},
   "outputs": [
    {
     "name": "stdout",
     "output_type": "stream",
     "text": [
      "description acquisition =  {\n",
      "    \"cycle_id\": 2012003,\n",
      "    \"file\": \"H19.28.012.11.05.dat\",\n",
      "    \"group_label\": \"PGS4_190418_701_A01\",\n",
      "    \"series_label\": \"Chirp\",\n",
      "    \"sweep_label\": \"\"\n",
      "}\n"
     ]
    }
   ],
   "source": [
    "print(\"description acquisition = \", container.get_acquisition(i).description)"
   ]
  },
  {
   "cell_type": "code",
   "execution_count": 144,
   "metadata": {},
   "outputs": [
    {
     "name": "stdout",
     "output_type": "stream",
     "text": [
      "identifier =  1ed51563e8f0218c0270ee9fb6c27b0b1558c4b821c10be2756797a697b35ff3\n"
     ]
    }
   ],
   "source": [
    "print(\"identifier = \", container.identifier)"
   ]
  },
  {
   "cell_type": "code",
   "execution_count": null,
   "metadata": {},
   "outputs": [],
   "source": []
  },
  {
   "cell_type": "code",
   "execution_count": null,
   "metadata": {},
   "outputs": [],
   "source": []
  }
 ],
 "metadata": {
  "kernelspec": {
   "display_name": "Python 3",
   "language": "python",
   "name": "python3"
  },
  "language_info": {
   "codemirror_mode": {
    "name": "ipython",
    "version": 3
   },
   "file_extension": ".py",
   "mimetype": "text/x-python",
   "name": "python",
   "nbconvert_exporter": "python",
   "pygments_lexer": "ipython3",
   "version": "3.6.2"
  }
 },
 "nbformat": 4,
 "nbformat_minor": 2
}
