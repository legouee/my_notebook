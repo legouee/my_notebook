{
 "cells": [
  {
   "cell_type": "code",
   "execution_count": 1,
   "metadata": {},
   "outputs": [],
   "source": [
    "import neo\n",
    "from neo import *\n",
    "import pynwb\n",
    "from pynwb import *"
   ]
  },
  {
   "cell_type": "code",
   "execution_count": 2,
   "metadata": {},
   "outputs": [],
   "source": [
    "filename = '/Users/legouee/NWBwork/my_notebook/My_first_dataset_neo9.nwb'\n",
    "#filename = '/Users/legouee/NWBwork/my_notebook/my_first_test_neo_to_nwb_test_NWBIO.nwb'"
   ]
  },
  {
   "cell_type": "code",
   "execution_count": 3,
   "metadata": {},
   "outputs": [],
   "source": [
    "io = pynwb.NWBHDF5IO(filename, mode='r')"
   ]
  },
  {
   "cell_type": "code",
   "execution_count": 4,
   "metadata": {},
   "outputs": [
    {
     "name": "stdout",
     "output_type": "stream",
     "text": [
      "i =  signal0\n",
      "i =  signal1\n",
      "i =  signal2\n"
     ]
    }
   ],
   "source": [
    "for i in io.read().acquisition:\n",
    "    print(\"i = \", i)"
   ]
  },
  {
   "cell_type": "code",
   "execution_count": 5,
   "metadata": {},
   "outputs": [
    {
     "data": {
      "text/plain": [
       "root pynwb.file.NWBFile at 0x4771318992\n",
       "Fields:\n",
       "  acquisition: {\n",
       "    signal0 <class 'pynwb.base.TimeSeries'>,\n",
       "    signal1 <class 'pynwb.base.TimeSeries'>,\n",
       "    signal2 <class 'pynwb.base.TimeSeries'>\n",
       "  }\n",
       "  epochs: epochs <class 'pynwb.epoch.TimeIntervals'>\n",
       "  file_create_date: [datetime.datetime(2019, 12, 2, 14, 33, 49, 861050, tzinfo=tzoffset(None, 3600))]\n",
       "  intervals: {\n",
       "    epochs <class 'pynwb.epoch.TimeIntervals'>\n",
       "  }\n",
       "  session_description: My_first_dataset_neo9.nwb\n",
       "  session_start_time: 2019-12-02 14:33:49.859165+01:00\n",
       "  timestamps_reference_time: 2019-12-02 14:33:49.859165+01:00"
      ]
     },
     "execution_count": 5,
     "metadata": {},
     "output_type": "execute_result"
    }
   ],
   "source": [
    "io.read()"
   ]
  },
  {
   "cell_type": "code",
   "execution_count": 6,
   "metadata": {},
   "outputs": [],
   "source": [
    "#for j in io.read().epochs:\n",
    "#    print(\"j = \", j)"
   ]
  },
  {
   "cell_type": "code",
   "execution_count": 7,
   "metadata": {},
   "outputs": [
    {
     "data": {
      "text/plain": [
       "{'acquisition': {'signal0': {'data': {'attributes': {'conversion': 1.0,\n",
       "     'resolution': -1.0},\n",
       "    'data': <HDF5 dataset \"data\": shape (3, 44), type \"<f8\">},\n",
       "   'starting_time': {'attributes': {'rate': 10000.0, 'unit': 'seconds'},\n",
       "    'data': 0.0},\n",
       "   'comments': 'no comments',\n",
       "   'description': 'no description',\n",
       "   'namespace': 'core',\n",
       "   'neurodata_type': 'TimeSeries',\n",
       "   'object_id': '22180fc4-fc8c-45d4-90ae-4fbe69f301b6'},\n",
       "  'signal1': {'data': {'attributes': {'conversion': 1.0, 'resolution': -1.0},\n",
       "    'data': <HDF5 dataset \"data\": shape (3, 64), type \"<f8\">},\n",
       "   'starting_time': {'attributes': {'rate': 10000.0, 'unit': 'seconds'},\n",
       "    'data': 0.0},\n",
       "   'comments': 'no comments',\n",
       "   'description': 'no description',\n",
       "   'namespace': 'core',\n",
       "   'neurodata_type': 'TimeSeries',\n",
       "   'object_id': '19e69cc6-23e7-4b72-9d5c-df76e5ead720'},\n",
       "  'signal2': {'data': {'attributes': {'conversion': 1.0, 'resolution': -1.0},\n",
       "    'data': <HDF5 dataset \"data\": shape (3, 33), type \"<f8\">},\n",
       "   'starting_time': {'attributes': {'rate': 10000.0, 'unit': 'seconds'},\n",
       "    'data': 0.0},\n",
       "   'comments': 'no comments',\n",
       "   'description': 'no description',\n",
       "   'namespace': 'core',\n",
       "   'neurodata_type': 'TimeSeries',\n",
       "   'object_id': '59e465c1-7826-4f91-87fb-8b7dc7cce321'}},\n",
       " 'analysis': {},\n",
       " 'general': {},\n",
       " 'intervals': {'epochs': {'id': {'attributes': {'namespace': 'hdmf-common',\n",
       "     'neurodata_type': 'ElementIdentifiers',\n",
       "     'object_id': 'eb10fa44-36eb-4e14-8163-d0e31bc2b03c'},\n",
       "    'data': <HDF5 dataset \"id\": shape (4,), type \"<i8\">},\n",
       "   'start_time': {'attributes': {'description': 'Start time of epoch, in seconds',\n",
       "     'namespace': 'hdmf-common',\n",
       "     'neurodata_type': 'VectorData',\n",
       "     'object_id': '517c87ee-02d0-4b7b-b90e-0cecc0b7ae1f'},\n",
       "    'data': <HDF5 dataset \"start_time\": shape (4,), type \"<f8\">},\n",
       "   'stop_time': {'attributes': {'description': 'Stop time of epoch, in seconds',\n",
       "     'namespace': 'hdmf-common',\n",
       "     'neurodata_type': 'VectorData',\n",
       "     'object_id': 'd5c6c3fa-9572-4ce1-aa1b-9e582acd8dad'},\n",
       "    'data': <HDF5 dataset \"stop_time\": shape (4,), type \"<f8\">},\n",
       "   'colnames': array([b'start_time', b'stop_time'], dtype='|S13'),\n",
       "   'description': 'experimental epochs',\n",
       "   'namespace': 'core',\n",
       "   'neurodata_type': 'TimeIntervals',\n",
       "   'object_id': '2756fe46-46d9-4880-be61-8dd7d486a470'}},\n",
       " 'processing': {},\n",
       " 'stimulus': {'presentation': {}, 'templates': {}},\n",
       " 'units': {'id': {'attributes': {'namespace': 'hdmf-common',\n",
       "    'neurodata_type': 'ElementIdentifiers',\n",
       "    'object_id': 'df011ffe-13b6-4e30-842d-cb6d7ba2cc7b'},\n",
       "   'data': <HDF5 dataset \"id\": shape (0,), type \"<i4\">},\n",
       "  'colnames': array([], dtype=float64),\n",
       "  'description': 'Autogenerated by NWBFile',\n",
       "  'namespace': 'core',\n",
       "  'neurodata_type': 'Units',\n",
       "  'object_id': '5f2d4578-dbe3-43a0-a0e4-bda9efe56a64'},\n",
       " 'file_create_date': {'attributes': {},\n",
       "  'data': <HDF5 dataset \"file_create_date\": shape (1,), type \"|O\">},\n",
       " 'identifier': {'attributes': {}, 'data': ''},\n",
       " 'session_description': {'attributes': {},\n",
       "  'data': 'My_first_dataset_neo9.nwb'},\n",
       " 'session_start_time': {'attributes': {},\n",
       "  'data': '2019-12-02T14:33:49.859165+01:00'},\n",
       " 'timestamps_reference_time': {'attributes': {},\n",
       "  'data': '2019-12-02T14:33:49.859165+01:00'},\n",
       " 'namespace': 'core',\n",
       " 'neurodata_type': 'NWBFile',\n",
       " 'nwb_version': '2.1.0',\n",
       " 'object_id': '16e54d9e-3a3d-41e7-bbf5-5cc772e88ad8'}"
      ]
     },
     "execution_count": 7,
     "metadata": {},
     "output_type": "execute_result"
    }
   ],
   "source": [
    "io.read_builder()"
   ]
  },
  {
   "cell_type": "code",
   "execution_count": null,
   "metadata": {},
   "outputs": [],
   "source": []
  }
 ],
 "metadata": {
  "kernelspec": {
   "display_name": "Python 3",
   "language": "python",
   "name": "python3"
  },
  "language_info": {
   "codemirror_mode": {
    "name": "ipython",
    "version": 3
   },
   "file_extension": ".py",
   "mimetype": "text/x-python",
   "name": "python",
   "nbconvert_exporter": "python",
   "pygments_lexer": "ipython3",
   "version": "3.7.5"
  }
 },
 "nbformat": 4,
 "nbformat_minor": 2
}
