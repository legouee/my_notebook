{
 "cells": [
  {
   "cell_type": "code",
   "execution_count": 1,
   "metadata": {},
   "outputs": [
    {
     "name": "stdout",
     "output_type": "stream",
     "text": [
      "neo =  0.9.0.dev\n",
      "pynwb =  1.1.2\n"
     ]
    }
   ],
   "source": [
    "import neo\n",
    "from neo import *\n",
    "import pynwb\n",
    "from pynwb import *\n",
    "from quantities import s, ms, kHz, Hz, uV\n",
    "import numpy as np\n",
    "print(\"neo = \", neo.__version__)\n",
    "print(\"pynwb = \", pynwb.__version__)"
   ]
  },
  {
   "cell_type": "code",
   "execution_count": 2,
   "metadata": {},
   "outputs": [
    {
     "data": {
      "text/plain": [
       "[array(5.) * s, array(13.) * s]"
      ]
     },
     "execution_count": 2,
     "metadata": {},
     "output_type": "execute_result"
    }
   ],
   "source": [
    "#num_segment = 1 #2 ######################################\n",
    "segment_durations = [5*s, 13*s]\n",
    "segment_durations"
   ]
  },
  {
   "cell_type": "code",
   "execution_count": 3,
   "metadata": {},
   "outputs": [
    {
     "data": {
      "text/plain": [
       "Block with  name: 'A two part recordings' # segments (N=0)"
      ]
     },
     "execution_count": 3,
     "metadata": {},
     "output_type": "execute_result"
    }
   ],
   "source": [
    "block = neo.Block(name='A two part recordings')\n",
    "block"
   ]
  },
  {
   "cell_type": "markdown",
   "metadata": {},
   "source": [
    "# Create one Block with two Segment"
   ]
  },
  {
   "cell_type": "code",
   "execution_count": 4,
   "metadata": {},
   "outputs": [
    {
     "data": {
      "text/plain": [
       "Block with 1 segments\n",
       "name: 'A two part recordings'\n",
       "# segments (N=1)\n",
       "0: Segment with  name: 'Seg 0' # analogsignals (N=0)"
      ]
     },
     "execution_count": 4,
     "metadata": {},
     "output_type": "execute_result"
    }
   ],
   "source": [
    "num_segment = 1 ######################################\n",
    "#block = neo.Block(name='A two part recordings')\n",
    "for seg_num in range(num_segment):\n",
    "    seg = neo.Segment(name=f'Seg {seg_num}')\n",
    "    block.segments.append(seg)\n",
    "block"
   ]
  },
  {
   "cell_type": "markdown",
   "metadata": {},
   "source": [
    "# Create two Block with two Segment"
   ]
  },
  {
   "cell_type": "code",
   "execution_count": 5,
   "metadata": {},
   "outputs": [],
   "source": [
    "#num_segment = 2 ######################################\n",
    "#blocks = []\n",
    "#for ind in range(2): # 2 blocks\n",
    "#    blk = neo.Block(name='%s' %ind)\n",
    "#    print(\"blk = \", blk)\n",
    "#\n",
    "#    for seg_num in range(num_segment):\n",
    "#        seg = neo.Segment(name=f'Seg {seg_num}')\n",
    "#        blk.segments.append(seg)\n",
    "#        blocks.append(blk)\n",
    "#blocks"
   ]
  },
  {
   "cell_type": "markdown",
   "metadata": {},
   "source": [
    "# Create for each segment a signals with 2 channels at 80 Hz (=tracking position)"
   ]
  },
  {
   "cell_type": "code",
   "execution_count": 19,
   "metadata": {},
   "outputs": [
    {
     "data": {
      "text/plain": [
       "Block with 1 segments\n",
       "name: 'A two part recordings'\n",
       "# segments (N=1)\n",
       "0: Segment with 2 analogsignals\n",
       "   name: 'Seg 0'\n",
       "   # analogsignals (N=2)\n",
       "   0: AnalogSignal with 2 channels of length 400; units cm; datatype float32 \n",
       "      annotations: {'data_type': 'tracking'}\n",
       "      sampling rate: 80.0\n",
       "      time: 0.0 to 5.0\n",
       "   1: AnalogSignal with 2 channels of length 400; units cm; datatype float32 \n",
       "      annotations: {'data_type': 'tracking'}\n",
       "      sampling rate: 80.0\n",
       "      time: 0.0 to 5.0"
      ]
     },
     "execution_count": 19,
     "metadata": {},
     "output_type": "execute_result"
    }
   ],
   "source": [
    "for seg_index in range(num_segment):\n",
    "    \n",
    "    sampling_rate = 80*Hz\n",
    "    num_channel = 2\n",
    "    duration = segment_durations[seg_index]\n",
    "    length = int((sampling_rate*duration).simplified)\n",
    "    np_sig = np.random.randn(length, num_channel).astype('float32')\n",
    "    \n",
    "    anasig = neo.AnalogSignal(np_sig, units='cm', sampling_rate=sampling_rate)\n",
    "    anasig.annotate(data_type='tracking')\n",
    "    anasig.array_annotate(channel_names=['lfp_{}'.format(ch) for ch in range(num_channel)])\n",
    "    block.segments[seg_index].analogsignals.append(anasig)  \n",
    "\n",
    "block"
   ]
  },
  {
   "cell_type": "markdown",
   "metadata": {},
   "source": [
    "# Write a nwb file"
   ]
  },
  {
   "cell_type": "code",
   "execution_count": 7,
   "metadata": {},
   "outputs": [
    {
     "data": {
      "text/plain": [
       "<neo.io.nwbio.NWBIO at 0x7f54434fd320>"
      ]
     },
     "execution_count": 7,
     "metadata": {},
     "output_type": "execute_result"
    }
   ],
   "source": [
    "#with NWBIO('My_first_dataset.nwb', mode='w') as writer:\n",
    "#    writer.write_block(block)\n",
    "\n",
    "writer = NWBIO(filename='My_first_dataset.nwb', mode='w')\n",
    "writer"
   ]
  },
  {
   "cell_type": "code",
   "execution_count": 8,
   "metadata": {
    "collapsed": true
   },
   "outputs": [],
   "source": [
    "#writer.write(block)\n",
    "\n",
    "#w_file = NWBIO(filename=filename, mode='w')\n",
    "#blocks = w_file.write(blk)"
   ]
  },
  {
   "cell_type": "code",
   "execution_count": 9,
   "metadata": {},
   "outputs": [
    {
     "name": "stdout",
     "output_type": "stream",
     "text": [
      "blocks =  [<neo.core.block.Block object at 0x7f54434e2d30>, <neo.core.block.Block object at 0x7f54434fd4e0>]\n"
     ]
    }
   ],
   "source": [
    "blocks = []\n",
    "for ind in range(2): # 2 blocks\n",
    "    blk = neo.Block(name='%s' %ind)\n",
    "\n",
    "    for seg_num in range(num_segment):\n",
    "        seg = neo.Segment(name=f'Seg {seg_num}')\n",
    "        blk.segments.append(seg)\n",
    "        blocks.append(blk)\n",
    "#blocks\n",
    "print(\"blocks = \", blocks)"
   ]
  },
  {
   "cell_type": "code",
   "execution_count": 10,
   "metadata": {},
   "outputs": [],
   "source": [
    "#blocks = []\n",
    "#\n",
    "#for num_blk in range(2):\n",
    "#\n",
    "#        blk = Block(name='%s' %num_blk)\n",
    "#        for ind in range(1):\n",
    "#            seg = Segment(name='segment_%d' % ind, index=ind)\n",
    "#            blk.segments.append(seg)\n",
    "#            blocks.append(blk)\n",
    "#blocks"
   ]
  },
  {
   "cell_type": "code",
   "execution_count": null,
   "metadata": {
    "collapsed": true
   },
   "outputs": [],
   "source": []
  },
  {
   "cell_type": "code",
   "execution_count": 11,
   "metadata": {},
   "outputs": [],
   "source": [
    "#blocks = []\n",
    "#num_segment = 2\n",
    "#\n",
    "#for ind in range(2): # 2 blocks \n",
    "#    blk = neo.Block(name='block_%s' %ind)\n",
    "#    print(\"blk = \", blk)\n",
    "#    \n",
    "#    #    for seg_num in range(num_segment):\n",
    "#    for seg_num in range(2):\n",
    "#        seg = neo.Segment(name=f'Seg {seg_num}')\n",
    "#        blk.segments.append(seg)\n",
    "##        blocks.append(blk)\n",
    "#\n",
    "#        for seg_index in range(num_segment):\n",
    "#            sampling_rate = 80*Hz\n",
    "#            num_channel = 2\n",
    "#            duration = segment_durations[seg_index]\n",
    "#            length = int((sampling_rate*duration).simplified)\n",
    "#            np_sig = np.random.randn(length, num_channel).astype('float32')\n",
    "#\n",
    "#            anasig = neo.AnalogSignal(np_sig, units='cm', sampling_rate=sampling_rate)\n",
    "#            anasig.annotate(data_type='tracking')\n",
    "#            anasig.array_annotate(channel_names=['lfp_{}'.format(ch) for ch in range(num_channel)])\n",
    "#            #block.segments[seg_index].analogsignals.append(anasig)\n",
    "#            blk.segments[seg_index].analogsignals.append(anasig)  \n",
    "#    blocks.append(blk) \n",
    "#\n",
    "#blocks"
   ]
  },
  {
   "cell_type": "code",
   "execution_count": 12,
   "metadata": {},
   "outputs": [
    {
     "name": "stdout",
     "output_type": "stream",
     "text": [
      "*** def write_all_blocks ***\n",
      "block in write_all_blocks =  <neo.core.block.Block object at 0x7f54434e2a58>\n",
      "*** def write_block ***\n"
     ]
    },
    {
     "name": "stderr",
     "output_type": "stream",
     "text": [
      "/home/elodie/miniconda2/envs/env_NWB_py3_pynwb_1_1_2/lib/python3.6/site-packages/pynwb/file.py:691: UserWarning: Date is missing timezone information. Updating to local timezone.\n",
      "  warn(\"Date is missing timezone information. Updating to local timezone.\")\n",
      "/home/elodie/miniconda2/envs/env_NWB_py3_pynwb_1_1_2/lib/python3.6/site-packages/hdmf/build/map.py:949: MissingRequiredWarning: attribute 'unit' for 'data' (TimeSeries)\n",
      "  warnings.warn(msg, MissingRequiredWarning)\n"
     ]
    }
   ],
   "source": [
    "filename='My_first_dataset.nwb'\n",
    "writer = NWBIO(filename, mode='ow')\n",
    "#writer.write(block)\n",
    "writer.write_all_blocks(block)"
   ]
  },
  {
   "cell_type": "code",
   "execution_count": 13,
   "metadata": {
    "collapsed": true
   },
   "outputs": [],
   "source": [
    "reader = NWBIO(filename, mode='r')"
   ]
  },
  {
   "cell_type": "code",
   "execution_count": 14,
   "metadata": {},
   "outputs": [
    {
     "data": {
      "text/plain": [
       "<neo.io.nwbio.NWBIO at 0x7f544348d7b8>"
      ]
     },
     "execution_count": 14,
     "metadata": {},
     "output_type": "execute_result"
    }
   ],
   "source": [
    "reader"
   ]
  },
  {
   "cell_type": "code",
   "execution_count": 15,
   "metadata": {},
   "outputs": [
    {
     "name": "stdout",
     "output_type": "stream",
     "text": [
      "*** def read_block ***\n"
     ]
    },
    {
     "data": {
      "text/plain": [
       "Block with 1 segments\n",
       "description: 'My_first_dataset.nwb'\n",
       "annotations: {'file_access_dates': [datetime.datetime(2019, 11, 19, 15, 15, 32, 385214, tzinfo=tzoffset(None, 3600))],\n",
       "  'file_read_log': ''}\n",
       "file_origin: 'My_first_dataset.nwb'\n",
       "file_datetime: [datetime.datetime(2019, 11, 19, 15, 15, 32, 385214, tzinfo=tzoffset(None, 3600))]\n",
       "rec_datetime: datetime.datetime(2019, 11, 19, 15, 15, 32, 383237, tzinfo=tzoffset(None, 3600))\n",
       "# segments (N=1)\n",
       "0: Segment with  name: 'NWB' # analogsignals (N=0)"
      ]
     },
     "execution_count": 15,
     "metadata": {},
     "output_type": "execute_result"
    }
   ],
   "source": [
    "reader.read_block()"
   ]
  },
  {
   "cell_type": "code",
   "execution_count": 16,
   "metadata": {},
   "outputs": [
    {
     "name": "stdout",
     "output_type": "stream",
     "text": [
      "*** def read_all_blocks ***\n",
      "block =  0\n",
      "*** def read_block ***\n",
      "blocks =  [<neo.core.block.Block object at 0x7f54434fd7b8>]\n",
      "block =  1\n",
      "*** def read_block ***\n",
      "blocks =  [<neo.core.block.Block object at 0x7f54434fd7b8>, <neo.core.block.Block object at 0x7f5443508198>]\n",
      "block =  2\n",
      "*** def read_block ***\n",
      "blocks =  [<neo.core.block.Block object at 0x7f54434fd7b8>, <neo.core.block.Block object at 0x7f5443508198>, <neo.core.block.Block object at 0x7f549c387e10>]\n",
      "END def read_all_blocks\n"
     ]
    }
   ],
   "source": [
    "all_blocks = reader.read_all_blocks()\n",
    "#print(\"all_blocks = \", all_blocks)"
   ]
  },
  {
   "cell_type": "code",
   "execution_count": 17,
   "metadata": {
    "collapsed": true
   },
   "outputs": [],
   "source": [
    "io = pynwb.NWBHDF5IO(filename, mode='r') # Open a file with NWBHDF5IO   \n",
    "_file = io.read()"
   ]
  },
  {
   "cell_type": "code",
   "execution_count": 18,
   "metadata": {},
   "outputs": [
    {
     "name": "stdout",
     "output_type": "stream",
     "text": [
      "root pynwb.file.NWBFile at 0x139999882546984\n",
      "Fields:\n",
      "  acquisition: {\n",
      "    signal0 <class 'pynwb.base.TimeSeries'>\n",
      "  }\n",
      "  epochs: epochs <class 'pynwb.epoch.TimeIntervals'>\n",
      "  file_create_date: [datetime.datetime(2019, 11, 19, 15, 15, 32, 385214, tzinfo=tzoffset(None, 3600))]\n",
      "  intervals: {\n",
      "    epochs <class 'pynwb.epoch.TimeIntervals'>\n",
      "  }\n",
      "  session_description: My_first_dataset.nwb\n",
      "  session_start_time: 2019-11-19 15:15:32.383237+01:00\n",
      "  timestamps_reference_time: 2019-11-19 15:15:32.383237+01:00\n",
      "\n"
     ]
    }
   ],
   "source": [
    "print(_file)"
   ]
  },
  {
   "cell_type": "code",
   "execution_count": null,
   "metadata": {
    "collapsed": true
   },
   "outputs": [],
   "source": []
  }
 ],
 "metadata": {
  "kernelspec": {
   "display_name": "Python 3",
   "language": "python",
   "name": "python3"
  },
  "language_info": {
   "codemirror_mode": {
    "name": "ipython",
    "version": 3
   },
   "file_extension": ".py",
   "mimetype": "text/x-python",
   "name": "python",
   "nbconvert_exporter": "python",
   "pygments_lexer": "ipython3",
   "version": "3.6.0"
  }
 },
 "nbformat": 4,
 "nbformat_minor": 2
}
