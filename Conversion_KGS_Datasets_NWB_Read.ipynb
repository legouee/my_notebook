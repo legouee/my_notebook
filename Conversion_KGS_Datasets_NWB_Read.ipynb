{
 "cells": [
  {
   "cell_type": "code",
   "execution_count": 1,
   "metadata": {},
   "outputs": [],
   "source": [
    "from neo import *\n",
    "from pynwb import *"
   ]
  },
  {
   "cell_type": "code",
   "execution_count": 2,
   "metadata": {},
   "outputs": [],
   "source": [
    "# abf files\n",
    "#test_file_name = '/Users/legouee/Desktop/Converting_Datasets_KGS_Neo/EPSC/hbp-00810/EPSC/sub2r/samp3/hbp-00810_ESPC_sub2r_samp3__22118_0004-EPSC-70.nwb'\n",
    "test_file_name = '/Users/legouee/Desktop/Converting_Datasets_KGS_Neo/VC-ramp/hbp-00810/VC-ramp/sub1vc/samp1/hbp-00810_VC-ramp_sub1vc_samp1__ramp15715b.nwb'\n",
    "\n",
    "# hdf5 files\n",
    "#test_file_name = '/Users/legouee/Desktop/Datasets_KGS/hdf5/2020_09_29_hOc5.hdf5'\n",
    "\n",
    "# txt files\n",
    "#test_file_name = '/Users/legouee/Desktop/Datasets_KGS/json/test.nwb'\n",
    "\n",
    "# dat files\n",
    "#test_file_name = '/Users/legouee/Desktop/Datasets_KGS/dat/ECalllong_IV_ch2_657.nwb'\n",
    "\n",
    "# smr files\n",
    "#test_file_name = '/Users/legouee/Desktop/Datasets_KGS/smr/20170119_cell1_CA.nwb'"
   ]
  },
  {
   "cell_type": "code",
   "execution_count": 3,
   "metadata": {},
   "outputs": [],
   "source": [
    "ior = NWBIO(filename=test_file_name, mode='r')"
   ]
  },
  {
   "cell_type": "code",
   "execution_count": 4,
   "metadata": {},
   "outputs": [
    {
     "name": "stdout",
     "output_type": "stream",
     "text": [
      "ior =  <neo.io.nwbio.NWBIO object at 0x126f877f0>\n"
     ]
    }
   ],
   "source": [
    "print(\"ior = \", ior)"
   ]
  },
  {
   "cell_type": "code",
   "execution_count": 5,
   "metadata": {},
   "outputs": [
    {
     "name": "stdout",
     "output_type": "stream",
     "text": [
      "--- No processing module\n"
     ]
    }
   ],
   "source": [
    "read = ior.read()"
   ]
  },
  {
   "cell_type": "code",
   "execution_count": 6,
   "metadata": {},
   "outputs": [
    {
     "data": {
      "text/plain": [
       "[Block with 3 segments\n",
       " name: 'block0'\n",
       " description: '/Users/legouee/Desktop/Converting_Datasets_KGS_Neo/VC-ramp/hbp-00810/VC-ramp/sub1vc/samp1/hbp-00810_VC-ramp_sub1vc_samp1__ramp15715b.nwb'\n",
       " annotations: {'session_start_time': datetime.datetime(2015, 7, 15, 19, 17, 27, 31000, tzinfo=tzoffset(None, 7200)),\n",
       "   'identifier': '/Users/legouee/Desktop/Converting_Datasets_KGS_Neo/VC-ramp/hbp-00810/VC-ramp/sub1vc/samp1/hbp-00810_VC-ramp_sub1vc_samp1__ramp15715b.nwb',\n",
       "   'timestamps_reference_time': datetime.datetime(2015, 7, 15, 19, 17, 27, 31000, tzinfo=tzoffset(None, 7200)),\n",
       "   'session_description': '/Users/legouee/Desktop/Converting_Datasets_KGS_Neo/VC-ramp/hbp-00810/VC-ramp/sub1vc/samp1/hbp-00810_VC-ramp_sub1vc_samp1__ramp15715b.nwb'}\n",
       " file_origin: '/Users/legouee/Desktop/Converting_Datasets_KGS_Neo/VC-ramp/hbp-00810/VC-ramp/sub1vc/samp1/hbp-00810_VC-ramp_sub1vc_samp1__ramp15715b.nwb'\n",
       " rec_datetime: datetime.datetime(2015, 7, 15, 19, 17, 27, 31000, tzinfo=tzoffset(None, 7200))\n",
       " # segments (N=3)\n",
       " 0: Segment with 1 analogsignals, 1 events\n",
       "    name: 'block0 : segment0'\n",
       "    # analogsignals (N=1)\n",
       "    0: AnalogSignal with 1 channels of length 54000; units pA; datatype float32 \n",
       "       name: 'Signals block0 : segment0'\n",
       "       description: 'no description'\n",
       "       annotations: {'sweep_number': None,\n",
       "         'nwb_group': 'acquisition',\n",
       "         'nwb:resolution': -1.0,\n",
       "         'nwb:conversion': 1.0,\n",
       "         'nwb_neurodata_type': ('pynwb.base', 'TimeSeries')}\n",
       "       sampling rate: 20000.0 Hz\n",
       "       time: 0.0 s to 2.7 s\n",
       "    # imagesequences (N=0)\n",
       " 1: Segment with 1 analogsignals, 1 events\n",
       "    name: 'block0 : segment1'\n",
       "    # analogsignals (N=1)\n",
       "    0: AnalogSignal with 1 channels of length 54000; units pA; datatype float32 \n",
       "       name: 'Signals block0 : segment1'\n",
       "       description: 'no description'\n",
       "       annotations: {'sweep_number': None,\n",
       "         'nwb_group': 'acquisition',\n",
       "         'nwb:resolution': -1.0,\n",
       "         'nwb:conversion': 1.0,\n",
       "         'nwb_neurodata_type': ('pynwb.base', 'TimeSeries')}\n",
       "       sampling rate: 20000.0 Hz\n",
       "       time: 5.0 s to 7.7 s\n",
       "    # imagesequences (N=0)\n",
       " 2: Segment with 1 analogsignals, 1 events\n",
       "    name: 'block0 : segment2'\n",
       "    # analogsignals (N=1)\n",
       "    0: AnalogSignal with 1 channels of length 54000; units pA; datatype float32 \n",
       "       name: 'Signals block0 : segment2'\n",
       "       description: 'no description'\n",
       "       annotations: {'sweep_number': None,\n",
       "         'nwb_group': 'acquisition',\n",
       "         'nwb:resolution': -1.0,\n",
       "         'nwb:conversion': 1.0,\n",
       "         'nwb_neurodata_type': ('pynwb.base', 'TimeSeries')}\n",
       "       sampling rate: 20000.0 Hz\n",
       "       time: 10.0 s to 12.7 s\n",
       "    # imagesequences (N=0)]"
      ]
     },
     "execution_count": 6,
     "metadata": {},
     "output_type": "execute_result"
    }
   ],
   "source": [
    "read"
   ]
  },
  {
   "cell_type": "code",
   "execution_count": 7,
   "metadata": {},
   "outputs": [
    {
     "name": "stdout",
     "output_type": "stream",
     "text": [
      "--- No processing module\n"
     ]
    },
    {
     "data": {
      "text/plain": [
       "[Block with 3 segments\n",
       " name: 'block0'\n",
       " description: '/Users/legouee/Desktop/Converting_Datasets_KGS_Neo/VC-ramp/hbp-00810/VC-ramp/sub1vc/samp1/hbp-00810_VC-ramp_sub1vc_samp1__ramp15715b.nwb'\n",
       " annotations: {'session_start_time': datetime.datetime(2015, 7, 15, 19, 17, 27, 31000, tzinfo=tzoffset(None, 7200)),\n",
       "   'identifier': '/Users/legouee/Desktop/Converting_Datasets_KGS_Neo/VC-ramp/hbp-00810/VC-ramp/sub1vc/samp1/hbp-00810_VC-ramp_sub1vc_samp1__ramp15715b.nwb',\n",
       "   'timestamps_reference_time': datetime.datetime(2015, 7, 15, 19, 17, 27, 31000, tzinfo=tzoffset(None, 7200)),\n",
       "   'session_description': '/Users/legouee/Desktop/Converting_Datasets_KGS_Neo/VC-ramp/hbp-00810/VC-ramp/sub1vc/samp1/hbp-00810_VC-ramp_sub1vc_samp1__ramp15715b.nwb'}\n",
       " file_origin: '/Users/legouee/Desktop/Converting_Datasets_KGS_Neo/VC-ramp/hbp-00810/VC-ramp/sub1vc/samp1/hbp-00810_VC-ramp_sub1vc_samp1__ramp15715b.nwb'\n",
       " rec_datetime: datetime.datetime(2015, 7, 15, 19, 17, 27, 31000, tzinfo=tzoffset(None, 7200))\n",
       " # segments (N=3)\n",
       " 0: Segment with 1 analogsignals, 1 events\n",
       "    name: 'block0 : segment0'\n",
       "    # analogsignals (N=1)\n",
       "    0: AnalogSignal with 1 channels of length 54000; units pA; datatype float32 \n",
       "       name: 'Signals block0 : segment0'\n",
       "       description: 'no description'\n",
       "       annotations: {'sweep_number': None,\n",
       "         'nwb_group': 'acquisition',\n",
       "         'nwb:resolution': -1.0,\n",
       "         'nwb:conversion': 1.0,\n",
       "         'nwb_neurodata_type': ('pynwb.base', 'TimeSeries')}\n",
       "       sampling rate: 20000.0 Hz\n",
       "       time: 0.0 s to 2.7 s\n",
       "    # imagesequences (N=0)\n",
       " 1: Segment with 1 analogsignals, 1 events\n",
       "    name: 'block0 : segment1'\n",
       "    # analogsignals (N=1)\n",
       "    0: AnalogSignal with 1 channels of length 54000; units pA; datatype float32 \n",
       "       name: 'Signals block0 : segment1'\n",
       "       description: 'no description'\n",
       "       annotations: {'sweep_number': None,\n",
       "         'nwb_group': 'acquisition',\n",
       "         'nwb:resolution': -1.0,\n",
       "         'nwb:conversion': 1.0,\n",
       "         'nwb_neurodata_type': ('pynwb.base', 'TimeSeries')}\n",
       "       sampling rate: 20000.0 Hz\n",
       "       time: 5.0 s to 7.7 s\n",
       "    # imagesequences (N=0)\n",
       " 2: Segment with 1 analogsignals, 1 events\n",
       "    name: 'block0 : segment2'\n",
       "    # analogsignals (N=1)\n",
       "    0: AnalogSignal with 1 channels of length 54000; units pA; datatype float32 \n",
       "       name: 'Signals block0 : segment2'\n",
       "       description: 'no description'\n",
       "       annotations: {'sweep_number': None,\n",
       "         'nwb_group': 'acquisition',\n",
       "         'nwb:resolution': -1.0,\n",
       "         'nwb:conversion': 1.0,\n",
       "         'nwb_neurodata_type': ('pynwb.base', 'TimeSeries')}\n",
       "       sampling rate: 20000.0 Hz\n",
       "       time: 10.0 s to 12.7 s\n",
       "    # imagesequences (N=0)]"
      ]
     },
     "execution_count": 7,
     "metadata": {},
     "output_type": "execute_result"
    }
   ],
   "source": [
    "ior.read_all_blocks()"
   ]
  },
  {
   "cell_type": "code",
   "execution_count": 8,
   "metadata": {},
   "outputs": [
    {
     "name": "stdout",
     "output_type": "stream",
     "text": [
      "End\n"
     ]
    }
   ],
   "source": [
    "print(\"End\")"
   ]
  },
  {
   "cell_type": "code",
   "execution_count": null,
   "metadata": {},
   "outputs": [],
   "source": []
  }
 ],
 "metadata": {
  "kernelspec": {
   "display_name": "Python 3",
   "language": "python",
   "name": "python3"
  },
  "language_info": {
   "codemirror_mode": {
    "name": "ipython",
    "version": 3
   },
   "file_extension": ".py",
   "mimetype": "text/x-python",
   "name": "python",
   "nbconvert_exporter": "python",
   "pygments_lexer": "ipython3",
   "version": "3.8.0"
  }
 },
 "nbformat": 4,
 "nbformat_minor": 2
}
