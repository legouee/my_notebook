{
 "cells": [
  {
   "cell_type": "code",
   "execution_count": 1,
   "metadata": {},
   "outputs": [],
   "source": [
    "# Requirements\n",
    "# python = 3.6.2\n",
    "# pynwb = 1.0.1"
   ]
  },
  {
   "cell_type": "code",
   "execution_count": 2,
   "metadata": {},
   "outputs": [],
   "source": [
    "#################################\n",
    "# Creating and Writing NWB files\n",
    "#################################\n",
    "\n",
    "# Packages\n",
    "import numpy\n",
    "import pynwb\n",
    "from pynwb import NWBFile, TimeSeries, get_manager\n",
    "from pynwb.spec import NWBGroupSpec, NWBDatasetSpec, NWBNamespace\n",
    "from pynwb.base import ProcessingModule\n",
    "from pynwb.ecephys import ElectrodeGroup, Device\n",
    "from pynwb.image import ImageSeries\n",
    "from pynwb.core import set_parents\n",
    "from pynwb import *\n",
    "from datetime import datetime\n",
    "from pynwb import NWBFile #, TimeSeries, get_manager"
   ]
  },
  {
   "cell_type": "code",
   "execution_count": 3,
   "metadata": {},
   "outputs": [
    {
     "name": "stderr",
     "output_type": "stream",
     "text": [
      "/home/elodie/miniconda2/envs/env_NWB_py3/lib/python3.6/site-packages/pynwb/file.py:615: UserWarning: Date is missing timezone information. Updating to local timezone.\n",
      "  warn(\"Date is missing timezone information. Updating to local timezone.\")\n"
     ]
    }
   ],
   "source": [
    "# pyNWB\n",
    "import datetime\n",
    "from pynwb import TimeSeries, NWBFile\n",
    "import numpy as np\n",
    "\n",
    "# File\n",
    "nwbfile2 = NWBFile(identifier='identifier', session_start_time=datetime.datetime.now(), session_description='description')"
   ]
  },
  {
   "cell_type": "code",
   "execution_count": 4,
   "metadata": {},
   "outputs": [],
   "source": [
    "# Filename\n",
    "filename = \"/home/elodie/NWB_Files/NWB_File_python_3_pynwb_101_ephys_data_ter.nwb\"\n",
    "io2 = NWBHDF5IO(filename, manager=get_manager(), mode='w')"
   ]
  },
  {
   "cell_type": "code",
   "execution_count": 5,
   "metadata": {},
   "outputs": [],
   "source": [
    "io2.write(nwbfile2)"
   ]
  },
  {
   "cell_type": "code",
   "execution_count": 6,
   "metadata": {},
   "outputs": [],
   "source": [
    "io2.close()"
   ]
  },
  {
   "cell_type": "code",
   "execution_count": 7,
   "metadata": {},
   "outputs": [
    {
     "name": "stdout",
     "output_type": "stream",
     "text": [
      "test_ts =  \n",
      "test_timeseries <class 'pynwb.base.TimeSeries'>\n",
      "Fields:\n",
      "  comments: no comments\n",
      "  conversion: 1.0\n",
      "  data: [100 110 120 130 140 150 160 170 180 190]\n",
      "  description: no description\n",
      "  interval: 1\n",
      "  num_samples: 10\n",
      "  resolution: 0.0\n",
      "  timestamps: [0 1 2 3 4 5 6 7 8 9]\n",
      "  timestamps_unit: Seconds\n",
      "  unit: m\n",
      "\n"
     ]
    }
   ],
   "source": [
    "# Epochs\n",
    "\n",
    "data = list(range(100, 200, 10))\n",
    "timestamps = list(range(10))\n",
    "test_ts = TimeSeries(name='test_timeseries', data=data, unit='m', timestamps=timestamps)\n",
    "print(\"test_ts = \", test_ts)\n",
    "\n",
    "nwbfile2.add_epoch(2.0, 4.0, ['first', 'example'], [test_ts, ])"
   ]
  },
  {
   "cell_type": "code",
   "execution_count": 8,
   "metadata": {},
   "outputs": [
    {
     "name": "stdout",
     "output_type": "stream",
     "text": [
      "nwbfile2.epoch_tags =  {'first', 'example'}\n",
      "   \n",
      "nwbfile2.epochs =  \n",
      "epochs <class 'pynwb.epoch.TimeIntervals'>\n",
      "Fields:\n",
      "  colnames: ('start_time', 'stop_time', 'tags', 'timeseries')\n",
      "  columns: (\n",
      "start_time <class 'pynwb.core.VectorData'>\n",
      "Fields:\n",
      "  description: Start time of epoch, in seconds\n",
      ", \n",
      "stop_time <class 'pynwb.core.VectorData'>\n",
      "Fields:\n",
      "  description: Stop time of epoch, in seconds\n",
      ", \n",
      "tags_index <class 'pynwb.core.VectorIndex'>\n",
      "Fields:\n",
      "  target: tags <class 'pynwb.core.VectorData'>\n",
      ", \n",
      "tags <class 'pynwb.core.VectorData'>\n",
      "Fields:\n",
      "  description: user-defined tags\n",
      ", \n",
      "timeseries_index <class 'pynwb.core.VectorIndex'>\n",
      "Fields:\n",
      "  target: timeseries <class 'pynwb.core.VectorData'>\n",
      ", \n",
      "timeseries <class 'pynwb.core.VectorData'>\n",
      "Fields:\n",
      "  description: index into a TimeSeries object\n",
      ")\n",
      "  description: experimental epochs\n",
      "  id: id <class 'pynwb.core.ElementIdentifiers'>\n",
      "\n"
     ]
    }
   ],
   "source": [
    "print(\"nwbfile2.epoch_tags = \", nwbfile2.epoch_tags)\n",
    "print(\"   \")\n",
    "print(\"nwbfile2.epochs = \", nwbfile2.epochs)"
   ]
  },
  {
   "cell_type": "code",
   "execution_count": 9,
   "metadata": {},
   "outputs": [
    {
     "name": "stdout",
     "output_type": "stream",
     "text": [
      "nwbfile2.epochs[0] =  (0, 2.0, 4.0, ['first', 'example'], [(2, 2, \n",
      "test_timeseries <class 'pynwb.base.TimeSeries'>\n",
      "Fields:\n",
      "  comments: no comments\n",
      "  conversion: 1.0\n",
      "  data: [100 110 120 130 140 150 160 170 180 190]\n",
      "  description: no description\n",
      "  interval: 1\n",
      "  num_samples: 10\n",
      "  resolution: 0.0\n",
      "  timestamps: [0 1 2 3 4 5 6 7 8 9]\n",
      "  timestamps_unit: Seconds\n",
      "  unit: m\n",
      ")])\n"
     ]
    }
   ],
   "source": [
    "print(\"nwbfile2.epochs[0] = \", nwbfile2.epochs[0])"
   ]
  },
  {
   "cell_type": "code",
   "execution_count": 10,
   "metadata": {},
   "outputs": [
    {
     "name": "stdout",
     "output_type": "stream",
     "text": [
      "nwbfile2.epochs[0][0] =  0\n",
      "   \n",
      "nwbfile2.epochs[0][1] =  2.0\n",
      "   \n",
      "nwbfile2.epochs[0][2] =  4.0\n",
      "   \n",
      "nwbfile2.epochs[0][3] =  ['first', 'example']\n",
      "   \n",
      "nwbfile2.epochs[0][4] =  [(2, 2, \n",
      "test_timeseries <class 'pynwb.base.TimeSeries'>\n",
      "Fields:\n",
      "  comments: no comments\n",
      "  conversion: 1.0\n",
      "  data: [100 110 120 130 140 150 160 170 180 190]\n",
      "  description: no description\n",
      "  interval: 1\n",
      "  num_samples: 10\n",
      "  resolution: 0.0\n",
      "  timestamps: [0 1 2 3 4 5 6 7 8 9]\n",
      "  timestamps_unit: Seconds\n",
      "  unit: m\n",
      ")]\n"
     ]
    }
   ],
   "source": [
    "print(\"nwbfile2.epochs[0][0] = \", nwbfile2.epochs[0][0]) # \n",
    "print(\"   \")\n",
    "print(\"nwbfile2.epochs[0][1] = \", nwbfile2.epochs[0][1]) # start_time\n",
    "print(\"   \")\n",
    "print(\"nwbfile2.epochs[0][2] = \", nwbfile2.epochs[0][2]) #stop_time\n",
    "print(\"   \")\n",
    "print(\"nwbfile2.epochs[0][3] = \", nwbfile2.epochs[0][3]) # decription\n",
    "print(\"   \")\n",
    "print(\"nwbfile2.epochs[0][4] = \", nwbfile2.epochs[0][4]) # TimeIntervals"
   ]
  },
  {
   "cell_type": "code",
   "execution_count": 50,
   "metadata": {},
   "outputs": [
    {
     "name": "stdout",
     "output_type": "stream",
     "text": [
      "j =  (0, 2.0, 4.0, ['first', 'example'], [(2, 2, \n",
      "test_timeseries <class 'pynwb.base.TimeSeries'>\n",
      "Fields:\n",
      "  comments: no comments\n",
      "  conversion: 1.0\n",
      "  data: [100 110 120 130 140 150 160 170 180 190]\n",
      "  description: no description\n",
      "  interval: 1\n",
      "  num_samples: 10\n",
      "  resolution: 0.0\n",
      "  timestamps: [0 1 2 3 4 5 6 7 8 9]\n",
      "  timestamps_unit: Seconds\n",
      "  unit: m\n",
      ")])\n",
      "   \n",
      "j =  [(2, 2, \n",
      "test_timeseries <class 'pynwb.base.TimeSeries'>\n",
      "Fields:\n",
      "  comments: no comments\n",
      "  conversion: 1.0\n",
      "  data: [100 110 120 130 140 150 160 170 180 190]\n",
      "  description: no description\n",
      "  interval: 1\n",
      "  num_samples: 10\n",
      "  resolution: 0.0\n",
      "  timestamps: [0 1 2 3 4 5 6 7 8 9]\n",
      "  timestamps_unit: Seconds\n",
      "  unit: m\n",
      ")]\n",
      "   \n"
     ]
    }
   ],
   "source": [
    "for j in nwbfile2.epochs:\n",
    "    print(\"j = \", j)\n",
    "    print(\"   \")\n",
    "    print(\"j = \", j[4])\n",
    "    print(\"   \")\n",
    "    for w in nwbfile2.acquisition:\n",
    "        print(\"w.data = \", w.data)"
   ]
  },
  {
   "cell_type": "code",
   "execution_count": null,
   "metadata": {},
   "outputs": [],
   "source": []
  }
 ],
 "metadata": {
  "kernelspec": {
   "display_name": "Python 3",
   "language": "python",
   "name": "python3"
  },
  "language_info": {
   "codemirror_mode": {
    "name": "ipython",
    "version": 3
   },
   "file_extension": ".py",
   "mimetype": "text/x-python",
   "name": "python",
   "nbconvert_exporter": "python",
   "pygments_lexer": "ipython3",
   "version": "3.6.2"
  }
 },
 "nbformat": 4,
 "nbformat_minor": 2
}
