{
 "cells": [
  {
   "cell_type": "code",
   "execution_count": 1,
   "metadata": {},
   "outputs": [
    {
     "name": "stdout",
     "output_type": "stream",
     "text": [
      "neo =  0.9.0.dev\n",
      "pynwb =  1.1.2\n"
     ]
    }
   ],
   "source": [
    "import neo\n",
    "from neo import *\n",
    "import pynwb\n",
    "from pynwb import *\n",
    "import quantities as pq\n",
    "from quantities import s, ms, kHz, Hz, uV\n",
    "import numpy as np\n",
    "print(\"neo = \", neo.__version__)\n",
    "print(\"pynwb = \", pynwb.__version__)"
   ]
  },
  {
   "cell_type": "code",
   "execution_count": 2,
   "metadata": {},
   "outputs": [],
   "source": [
    "#filename='/Users/legouee/NWBwork/my_notebook/My_first_dataset_neo6.nwb'\n",
    "filename = '/Users/legouee/NWBwork/H19.29.141.11.21.01.nwb'"
   ]
  },
  {
   "cell_type": "markdown",
   "metadata": {},
   "source": [
    "## Using Neo NWBIO"
   ]
  },
  {
   "cell_type": "code",
   "execution_count": 3,
   "metadata": {},
   "outputs": [],
   "source": [
    "# create a reader\n",
    "reader = NWBIO(filename, mode='r')"
   ]
  },
  {
   "cell_type": "code",
   "execution_count": 4,
   "metadata": {},
   "outputs": [
    {
     "data": {
      "text/plain": [
       "<neo.io.nwbio.NWBIO at 0x105e9eb50>"
      ]
     },
     "execution_count": 4,
     "metadata": {},
     "output_type": "execute_result"
    }
   ],
   "source": [
    "reader"
   ]
  },
  {
   "cell_type": "code",
   "execution_count": 5,
   "metadata": {},
   "outputs": [
    {
     "name": "stdout",
     "output_type": "stream",
     "text": [
      "**** def read_block ****\n",
      "--- block in read_block() =  <neo.core.block.Block object at 0x118553ad0>\n",
      "END def read_block\n",
      "   \n",
      "blks =  <neo.core.block.Block object at 0x118553ad0>\n"
     ]
    }
   ],
   "source": [
    "# read the blocks\n",
    "blocks=[]\n",
    "#blks = reader.read(blocks)\n",
    "#blks = reader.read(lazy=False)\n",
    "blks = reader.read_block(lazy=False)\n",
    "\n",
    "print(\"blks = \", blks)"
   ]
  },
  {
   "cell_type": "code",
   "execution_count": 6,
   "metadata": {},
   "outputs": [],
   "source": [
    "# access to segments\n",
    "#for blk in blks:\n",
    "#    print(\"blk in loop = \", blk)\n",
    "#    for seg in blk.segments:\n",
    "#        print(\"seg = \", seg)\n",
    "#        for asig in seg.analogsignals:\n",
    "#            print(\"asig = \", asig)\n",
    "#        for st in seg.spiketrains:\n",
    "#            print(\"st = \", st)"
   ]
  },
  {
   "cell_type": "code",
   "execution_count": 7,
   "metadata": {},
   "outputs": [
    {
     "name": "stdout",
     "output_type": "stream",
     "text": [
      "seg =  <neo.core.segment.Segment object at 0x105e88d90>\n",
      "asig =  [[1.9897459e-11]\n",
      " [2.5268553e-11]\n",
      " [2.8076170e-11]\n",
      " ...\n",
      " [2.9907226e-11]\n",
      " [2.8930662e-11]\n",
      " [3.0273437e-11]] A\n"
     ]
    }
   ],
   "source": [
    "# Only 1 block\n",
    "for seg in blks.segments:\n",
    "    print(\"seg = \", seg)\n",
    "    for asig in seg.analogsignals:\n",
    "        print(\"asig = \", asig)\n",
    "    for st in seg.spiketrains:\n",
    "        print(\"st = \", st)"
   ]
  },
  {
   "cell_type": "code",
   "execution_count": null,
   "metadata": {},
   "outputs": [],
   "source": []
  },
  {
   "cell_type": "code",
   "execution_count": 8,
   "metadata": {},
   "outputs": [],
   "source": [
    "#all_blocks = reader.read()"
   ]
  },
  {
   "cell_type": "code",
   "execution_count": 9,
   "metadata": {},
   "outputs": [],
   "source": [
    "#all_blocks"
   ]
  }
 ],
 "metadata": {
  "kernelspec": {
   "display_name": "Python 3",
   "language": "python",
   "name": "python3"
  },
  "language_info": {
   "codemirror_mode": {
    "name": "ipython",
    "version": 3
   },
   "file_extension": ".py",
   "mimetype": "text/x-python",
   "name": "python",
   "nbconvert_exporter": "python",
   "pygments_lexer": "ipython3",
   "version": "3.7.5"
  }
 },
 "nbformat": 4,
 "nbformat_minor": 2
}
