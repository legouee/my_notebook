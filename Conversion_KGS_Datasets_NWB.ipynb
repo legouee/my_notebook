{
 "cells": [
  {
   "cell_type": "code",
   "execution_count": 1,
   "metadata": {},
   "outputs": [],
   "source": [
    "import neo\n",
    "from neo import *\n",
    "from pynwb import *\n",
    "from neo import io"
   ]
  },
  {
   "cell_type": "code",
   "execution_count": 2,
   "metadata": {},
   "outputs": [
    {
     "name": "stdout",
     "output_type": "stream",
     "text": [
      "files =  /Users/legouee/Desktop/Converting_Datasets_KGS_Neo/VC-ramp/hbp-00810/VC-ramp/sub1vc/samp1/hbp-00810_VC-ramp_sub1vc_samp1__ramp15715b.abf\n"
     ]
    },
    {
     "name": "stderr",
     "output_type": "stream",
     "text": [
      "/Users/legouee/miniconda3/envs/test_nwb/lib/python3.8/site-packages/pynwb/file.py:801: UserWarning: Date is missing timezone information. Updating to local timezone.\n",
      "  warn(\"Date is missing timezone information. Updating to local timezone.\")\n"
     ]
    },
    {
     "name": "stdout",
     "output_type": "stream",
     "text": [
      "files =  /Users/legouee/Desktop/Converting_Datasets_KGS_Neo/VC-ramp/hbp-00810/VC-ramp/sub2vc/samp1/hbp-00810_VC-ramp_sub2vc_samp1__VC-ramp.abf\n"
     ]
    }
   ],
   "source": [
    "# Loop multiple files on the same directory\n",
    "import glob\n",
    "\n",
    "#directory = '/Users/legouee/Desktop/Converting_Datasets_KGS_Neo/GapFree/hbp-00810/GapFree/GF1/samp1'\n",
    "##directory = '/Users/legouee/Desktop/Converting_Datasets_KGS_Neo/GapFree/hbp-00810/GapFree/*/*'\n",
    "\n",
    "#directory = '/Users/legouee/Desktop/Converting_Datasets_KGS_Neo/IV/hbp-00810/IV/IV1m/samp1'\n",
    "##directory = '/Users/legouee/Desktop/Converting_Datasets_KGS_Neo/IV/hbp-00810/IV/*/*'\n",
    "\n",
    "#directory = '/Users/legouee/Desktop/Converting_Datasets_KGS_Neo/EPSP/hbp-00810/EPSP/sub1epsp/samp1'\n",
    "#directory = '/Users/legouee/Desktop/Converting_Datasets_KGS_Neo/EPSP/hbp-00810/EPSP/*/*'\n",
    "\n",
    "#directory = '/Users/legouee/Desktop/Converting_Datasets_KGS_Neo/EPSC/hbp-00810/EPSC/sub1m/samp1'\n",
    "###directory = '/Users/legouee/Desktop/Converting_Datasets_KGS_Neo/EPSC/hbp-00810/EPSC/*/*'\n",
    "#directory = '/Users/legouee/Desktop/Converting_Datasets_KGS_Neo/EPSC/hbp-00810/EPSC/sub2r/samp3'\n",
    "\n",
    "#directory = '/Users/legouee/Desktop/Converting_Datasets_KGS_Neo/CC-step/hbp-00810/CC-step/sub1/samp1'\n",
    "#directory = '/Users/legouee/Desktop/Converting_Datasets_KGS_Neo/CC-step/hbp-00810/CC-step/*/*'\n",
    "\n",
    "#directory = '/Users/legouee/Desktop/Converting_Datasets_KGS_Neo/VC-ramp/hbp-00810/VC-ramp/sub1vc/samp1'\n",
    "directory = '/Users/legouee/Desktop/Converting_Datasets_KGS_Neo/VC-ramp/hbp-00810/VC-ramp/*/*'\n",
    "\n",
    "#directory = '/Users/legouee/Desktop/Converting_Datasets_KGS_Neo/cell-att/hbp-00810/cell-att/sub1-ca/samp1'\n",
    "#directory = '/Users/legouee/Desktop/Converting_Datasets_KGS_Neo/cell-att/hbp-00810/cell-att/*/*'\n",
    "\n",
    "\n",
    "\n",
    "for files in glob.glob(os.path.join(directory,\"*.abf\")):\n",
    "    print(\"files = \", files)\n",
    "    \n",
    "    # Read with Neo\n",
    "    ior = AxonIO(filename=files) # .abf files\n",
    "    \n",
    "    blk = ior.read_block()\n",
    "\n",
    "    # Change the name of the file\n",
    "    test_file_name_NWB = files  + '.nwb'\n",
    "    #new_test_file_name_NWB = test_file_name_NWB.split('.')[0] + '_abf.nwb' # For .abf files\n",
    "    new_test_file_name_NWB = test_file_name_NWB.split('.')[0] + '.nwb'    \n",
    "    \n",
    "    # Write the file as .nwb\n",
    "    iow = NWBIO(filename=new_test_file_name_NWB, mode='w')\n",
    "    w = iow.write_all_blocks([blk])"
   ]
  },
  {
   "cell_type": "code",
   "execution_count": 3,
   "metadata": {},
   "outputs": [
    {
     "data": {
      "text/plain": [
       "Block with 1 segments, 1 groups\n",
       "name: 'block0'\n",
       "annotations: {'abf_version': 2.6}\n",
       "file_origin: '/Users/legouee/Desktop/Converting_Datasets_KGS_Neo/VC-ramp/hbp-00810/VC-ramp/sub2vc/samp1/hbp-00810_VC-ramp_sub2vc_samp1__VC-ramp.abf'\n",
       "rec_datetime: datetime.datetime(2015, 7, 15, 19, 17, 27, 31000)\n",
       "# segments (N=1)\n",
       "0: Segment with 1 analogsignals, 1 events\n",
       "   name: 'block0 : segment0'\n",
       "   annotations: {'abf_version': 2.6}\n",
       "   # analogsignals (N=1)\n",
       "   0: AnalogSignal with 1 channels of length 54000; units pA; datatype float32 \n",
       "      name: 'Signals block0 : segment0'\n",
       "      annotations: {'stream_id': '0'}\n",
       "      sampling rate: 20000.0 Hz\n",
       "      time: 10.0 s to 12.7 s\n",
       "   # imagesequences (N=0)"
      ]
     },
     "execution_count": 3,
     "metadata": {},
     "output_type": "execute_result"
    }
   ],
   "source": [
    "blk"
   ]
  },
  {
   "cell_type": "code",
   "execution_count": 4,
   "metadata": {},
   "outputs": [
    {
     "name": "stdout",
     "output_type": "stream",
     "text": [
      "End\n"
     ]
    }
   ],
   "source": [
    "print(\"End\")"
   ]
  },
  {
   "cell_type": "code",
   "execution_count": null,
   "metadata": {},
   "outputs": [],
   "source": []
  }
 ],
 "metadata": {
  "kernelspec": {
   "display_name": "Python 3",
   "language": "python",
   "name": "python3"
  },
  "language_info": {
   "codemirror_mode": {
    "name": "ipython",
    "version": 3
   },
   "file_extension": ".py",
   "mimetype": "text/x-python",
   "name": "python",
   "nbconvert_exporter": "python",
   "pygments_lexer": "ipython3",
   "version": "3.8.0"
  }
 },
 "nbformat": 4,
 "nbformat_minor": 2
}
