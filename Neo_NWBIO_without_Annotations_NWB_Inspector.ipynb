{
 "cells": [
  {
   "cell_type": "code",
   "execution_count": 1,
   "metadata": {},
   "outputs": [],
   "source": [
    "from pynwb import NWBFile\n",
    "from neo import *\n",
    "import pynwb\n",
    "from pynwb import *\n",
    "import quantities as pq\n",
    "from quantities import s, ms,kHz, Hz, uV, nA\n",
    "import numpy as np\n",
    "from datetime import datetime\n",
    "import nwbinspector"
   ]
  },
  {
   "cell_type": "markdown",
   "metadata": {},
   "source": [
    "## Define Neo structure"
   ]
  },
  {
   "cell_type": "code",
   "execution_count": 2,
   "metadata": {
    "slideshow": {
     "slide_type": "slide"
    }
   },
   "outputs": [],
   "source": [
    "annotations = {\n",
    "            \"session_start_time\": datetime.now()\n",
    "        }\n",
    "# Define Neo blocks\n",
    "bl0 = Block(name='First block', \n",
    "                    experimenter=\"Experimenter's name\", \n",
    "                    experiment_description=\"Experiment description\",\n",
    "                    institution=\"Institution\", \n",
    "                    **annotations)\n",
    "bl1 = Block(name='Second block', \n",
    "                    experimenter=\"Experimenter's name\", \n",
    "                    experiment_description=\"Experiment description\",\n",
    "                    institution=\"Institution\", \n",
    "                    **annotations)\n",
    "bl2 = Block(name='Third block', \n",
    "                    experimenter=\"Experimenter's name\", \n",
    "                    experiment_description=\"Experiment description\",\n",
    "                    institution=\"Institution\", \n",
    "                    **annotations)\n",
    "#original_blocks = [bl0, bl1, bl2]\n",
    "original_blocks = [bl0]\n",
    "\n",
    "num_seg = 2 # number of segments\n",
    "num_chan = 3 # number of channels\n",
    "\n",
    "#for blk in original_blocks: # original\n",
    "for j, blk in enumerate(original_blocks):\n",
    "\n",
    "    for ind in range(num_seg):  # number of Segments\n",
    "        seg = Segment(index=ind)\n",
    "        seg.block = blk\n",
    "        blk.segments.append(seg)\n",
    "\n",
    "#    for seg in blk.segments:  # AnalogSignal objects # original\n",
    "    for i, seg in enumerate(blk.segments):\n",
    "\n",
    "        # 3 Neo AnalogSignals\n",
    "        a = AnalogSignal(name='Signal_a %s' % (seg.name),\n",
    "                                 signal=np.random.randn(44, num_chan) * pq.nA,\n",
    "                                 sampling_rate=10 * pq.kHz,\n",
    "                                 t_start=50 * pq.ms\n",
    "                        )\n",
    "        b = AnalogSignal(name='Signal_b %s' % (seg.name),\n",
    "                                 signal=np.random.randn(64, num_chan) * pq.mV,\n",
    "                                 sampling_rate=8 * pq.kHz,\n",
    "                                 t_start=40 * pq.ms)\n",
    "        c = AnalogSignal(name='Signal_c %s' % (seg.name),\n",
    "                                signal=np.random.randn(33, num_chan) * pq.uA,\n",
    "                                 sampling_rate=10 * pq.kHz,\n",
    "                                t_start=120 * pq.ms)\n",
    "        \n",
    "        # 2 Neo IrregularlySampledSignals\n",
    "        d = IrregularlySampledSignal([0.0, 1.23, 6.78], [1, 2, 3], units='mV', time_units='ms')    \n",
    "\n",
    "        # 2 Neo SpikeTrains\n",
    "        train = SpikeTrain(times=[1, 2, 3] * pq.s, t_start=1.0, t_stop=10.0)\n",
    "        train2 = SpikeTrain(times=[4, 5, 6] * pq.s, t_stop=10.0)\n",
    " \n",
    "        # 1 Neo Event\n",
    "        #evt = Event(name='Event',\n",
    "        #                   times=[0.01 + i*ind, 11 + i*ind, 33 + i*ind]*pq.s,\n",
    "        #                   labels=np.array(['ev0', 'ev1', 'ev2']))\n",
    "        \n",
    "        evt = Event(name='Event', # original\n",
    "                    times=np.arange(0, 30, 10) * pq.ms,\n",
    "                    labels=np.array(['ev0', 'ev1', 'ev2']))\n",
    "        \n",
    "\n",
    "        # 2 Neo Epochs                \n",
    "        epc = Epoch(times=[0 + i*ind, 10 + i*ind, 33 + i*ind]*pq.s,\n",
    "                    durations=[10, 5, 7]*pq.s,\n",
    "                    labels=np.array(['btn0', 'btn1', 'btn2'], dtype='U')\n",
    "                   )\n",
    "\n",
    "        \"\"\"\n",
    "        # Test for specific epoch:\n",
    "        if i==0:\n",
    "            epc = Epoch(times=[0 + i*ind, 10 + i*ind, 33 + i*ind]*pq.s,\n",
    "                    durations=[10, 5, 7]*pq.s, # original\n",
    "                    labels=np.array(['btn0', 'btn1', 'btn2'], dtype='U')\n",
    "                   )\n",
    "        if i==1:\n",
    "            epc = Epoch(times=[0 + i*ind, 10 + i*ind, 33 + i*ind]*pq.s,\n",
    "                    durations=[10, 5, 1]*pq.s, # original\n",
    "                    labels=np.array(['btn0', 'btn1', 'btn2'], dtype='U')\n",
    "                   )\n",
    "        \"\"\" \n",
    "\n",
    "        epc2 = Epoch(times=[0.1 + i*ind, 30 + i*ind, 61 + i*ind]*pq.s,\n",
    "                     durations=[10, 5, 7]*pq.s,\n",
    "                     labels=np.array(['btn4', 'btn5', 'btn6']))\n",
    "\n",
    "\n",
    "        seg.spiketrains.append(train)\n",
    "        seg.spiketrains.append(train2)\n",
    "\n",
    "        seg.epochs.append(epc)\n",
    "        seg.epochs.append(epc2)\n",
    "\n",
    "        seg.analogsignals.append(a)\n",
    "        seg.analogsignals.append(b)\n",
    "        seg.analogsignals.append(c)\n",
    "        seg.irregularlysampledsignals.append(d)\n",
    "        seg.events.append(evt)\n",
    "        a.segment = seg\n",
    "        b.segment = seg\n",
    "        c.segment = seg\n",
    "        d.segment = seg\n",
    "        evt.segment = seg\n",
    "        train.segment = seg\n",
    "        train2.segment = seg\n",
    "        epc.segment = seg\n",
    "        epc2.segment = seg"
   ]
  },
  {
   "cell_type": "markdown",
   "metadata": {},
   "source": [
    "## Write a NWB file using Neo NWBIO"
   ]
  },
  {
   "cell_type": "code",
   "execution_count": 3,
   "metadata": {},
   "outputs": [
    {
     "name": "stderr",
     "output_type": "stream",
     "text": [
      "/Users/legouee/miniconda3/envs/Brainhack/lib/python3.8/site-packages/pynwb/file.py:1037: UserWarning: Date is missing timezone information. Updating to local timezone.\n",
      "  warn(\"Date is missing timezone information. Updating to local timezone.\")\n"
     ]
    },
    {
     "name": "stdout",
     "output_type": "stream",
     "text": [
      "iow =  <neo.io.nwbio.NWBIO object at 0x12c236a00>\n"
     ]
    }
   ],
   "source": [
    "test_file_name = \"test_NWB_Inspector_File_without_Annotations.nwb\"\n",
    "iow = NWBIO(filename=test_file_name, mode='w')\n",
    "iow.write_all_blocks(original_blocks)\n",
    "print(\"iow = \", iow)"
   ]
  },
  {
   "cell_type": "markdown",
   "metadata": {},
   "source": [
    "## Read this file using Neo NWBIO"
   ]
  },
  {
   "cell_type": "code",
   "execution_count": 4,
   "metadata": {},
   "outputs": [
    {
     "name": "stdout",
     "output_type": "stream",
     "text": [
      "retrieved_block =  [<neo.core.block.Block object at 0x12c8cf4f0>]\n"
     ]
    }
   ],
   "source": [
    "ior = NWBIO(filename=test_file_name, mode='r')\n",
    "retrieved_block = ior.read_all_blocks()\n",
    "print(\"retrieved_block = \", retrieved_block)"
   ]
  },
  {
   "cell_type": "markdown",
   "metadata": {},
   "source": [
    "## Validating NWB file using PyNWB"
   ]
  },
  {
   "cell_type": "code",
   "execution_count": 5,
   "metadata": {},
   "outputs": [
    {
     "name": "stdout",
     "output_type": "stream",
     "text": [
      "Validating test_NWB_Inspector_File_without_Annotations.nwb against cached namespace information using namespace 'core'.\n",
      " - no errors found.\n"
     ]
    }
   ],
   "source": [
    "!python -m pynwb.validate test_NWB_Inspector_File_without_Annotations.nwb"
   ]
  },
  {
   "cell_type": "markdown",
   "metadata": {},
   "source": [
    "## NWB Inspector\n",
    "### Inspect NWB files for compliance with NWB Best Practices. "
   ]
  },
  {
   "cell_type": "markdown",
   "metadata": {},
   "source": [
    "### Quick check"
   ]
  },
  {
   "cell_type": "code",
   "execution_count": 6,
   "metadata": {},
   "outputs": [],
   "source": [
    "!nwbinspector /Users/legouee/NWBwork/my_notebook/test_NWB_Inspector_File_Without_Annotations.nwb"
   ]
  },
  {
   "cell_type": "markdown",
   "metadata": {},
   "source": [
    "## Common flags"
   ]
  },
  {
   "cell_type": "markdown",
   "metadata": {},
   "source": [
    "### Save the report for future reference"
   ]
  },
  {
   "cell_type": "code",
   "execution_count": 7,
   "metadata": {},
   "outputs": [],
   "source": [
    "#!nwbinspector /Users/legouee/NWBwork/my_notebook/test_NWB_Inspector.nwb -o --log-file /Users/legouee/NWBwork/my_notebook/nwbinspector_report.txt\n",
    "!nwbinspector /Users/legouee/NWBwork/my_notebook/test_NWB_Inspector_File_without_Annotations.nwb -o --json-file-path /Users/legouee/NWBwork/my_notebook/nwbinspector_report_File_without_Annotations.txt"
   ]
  },
  {
   "cell_type": "markdown",
   "metadata": {},
   "source": [
    "## Inspect a single NWBFile"
   ]
  },
  {
   "cell_type": "code",
   "execution_count": 8,
   "metadata": {},
   "outputs": [
    {
     "name": "stdout",
     "output_type": "stream",
     "text": [
      "results =  []\n"
     ]
    }
   ],
   "source": [
    "from nwbinspector import inspect_nwb\n",
    "\n",
    "results = list(inspect_nwb(nwbfile_path=\"test_NWB_Inspector_File_without_Annotations.nwb\"))\n",
    "print(\"results = \", results)"
   ]
  },
  {
   "cell_type": "markdown",
   "metadata": {},
   "source": [
    "## Yielding and Iterating"
   ]
  },
  {
   "cell_type": "code",
   "execution_count": 9,
   "metadata": {},
   "outputs": [
    {
     "name": "stdout",
     "output_type": "stream",
     "text": [
      "results_generator =  <generator object inspect_nwb at 0x12c96e5f0>\n"
     ]
    }
   ],
   "source": [
    "results_generator = inspect_nwb(nwbfile_path=\"test_NWB_Inspector_File_without_Annotations.nwb\")\n",
    "print(\"results_generator = \", results_generator)"
   ]
  },
  {
   "cell_type": "code",
   "execution_count": 10,
   "metadata": {},
   "outputs": [],
   "source": [
    "#first_message = next(results_generator)\n",
    "#print(\"first_message = \", first_message)"
   ]
  },
  {
   "cell_type": "code",
   "execution_count": 11,
   "metadata": {},
   "outputs": [],
   "source": [
    "results_generator = inspect_nwb(nwbfile_path=\"test_NWB_Inspector_File_without_Annotations.nwb\")\n",
    "\n",
    "for message in results_generator:\n",
    "    print(message.message)\n",
    "    print(\"  \")\n",
    "    print(message)\n",
    "    print(\"   \")\n",
    "    print(\"message.importance=\", message.importance)\n",
    "    print(\"message.importance.__dict__=\", message.importance.__dict__)\n",
    "    \n",
    "    print(\"message.severity=\", message.severity)\n",
    "    print(\"message.severity.__dict__=\", message.severity.__dict__)\n",
    "    print(\"message.severity=\", message.severity)\n",
    "    \n",
    "    \n",
    "    if message.importance._name_==\"BEST_PRACTICE_SUGGESTION\":\n",
    "        print(\"ok\")\n",
    "    if message.severity._name_==\"LOW\":\n",
    "        print(\"OKok\")\n",
    "    print(\"----\")"
   ]
  },
  {
   "cell_type": "code",
   "execution_count": null,
   "metadata": {},
   "outputs": [],
   "source": []
  },
  {
   "cell_type": "code",
   "execution_count": null,
   "metadata": {},
   "outputs": [],
   "source": []
  }
 ],
 "metadata": {
  "kernelspec": {
   "display_name": "Python 3 (ipykernel)",
   "language": "python",
   "name": "python3"
  },
  "language_info": {
   "codemirror_mode": {
    "name": "ipython",
    "version": 3
   },
   "file_extension": ".py",
   "mimetype": "text/x-python",
   "name": "python",
   "nbconvert_exporter": "python",
   "pygments_lexer": "ipython3",
   "version": "3.8.0"
  }
 },
 "nbformat": 4,
 "nbformat_minor": 2
}
