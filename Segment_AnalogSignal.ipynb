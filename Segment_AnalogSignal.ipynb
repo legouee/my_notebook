{
 "cells": [
  {
   "cell_type": "code",
   "execution_count": 1,
   "metadata": {},
   "outputs": [],
   "source": [
    "import neo\n",
    "from neo import *"
   ]
  },
  {
   "cell_type": "code",
   "execution_count": 2,
   "metadata": {},
   "outputs": [
    {
     "data": {
      "text/plain": [
       "Segment with  # analogsignals (N=0)"
      ]
     },
     "execution_count": 2,
     "metadata": {},
     "output_type": "execute_result"
    }
   ],
   "source": [
    "seg = Segment()\n",
    "seg"
   ]
  },
  {
   "cell_type": "code",
   "execution_count": 3,
   "metadata": {},
   "outputs": [
    {
     "data": {
      "text/plain": [
       "Segment with  name: 3 # analogsignals (N=0)"
      ]
     },
     "execution_count": 3,
     "metadata": {},
     "output_type": "execute_result"
    }
   ],
   "source": [
    "seg = Segment(3)\n",
    "seg"
   ]
  },
  {
   "cell_type": "code",
   "execution_count": 4,
   "metadata": {},
   "outputs": [],
   "source": [
    "import pynwb\n",
    "from pynwb import *"
   ]
  },
  {
   "cell_type": "code",
   "execution_count": 5,
   "metadata": {},
   "outputs": [
    {
     "name": "stderr",
     "output_type": "stream",
     "text": [
      "/home/elodie/miniconda2/envs/env_NWB_py3/lib/python3.6/site-packages/pynwb/file.py:615: UserWarning: Date is missing timezone information. Updating to local timezone.\n",
      "  warn(\"Date is missing timezone information. Updating to local timezone.\")\n"
     ]
    }
   ],
   "source": [
    "# File\n",
    "import datetime\n",
    "nwbfile2 = NWBFile(identifier='identifier', session_start_time=datetime.datetime.now(), session_description='description')\n",
    "\n",
    "filename = \"/home/elodie/NWB_Files/NWB_File_python_3_pynwb_101_ephys_data_bis.nwb\"\n",
    "#filename='/home/elodie/NWB_Files/NWB_org/H19.29.141.11.21.01.nwb'\n",
    "\n",
    "io2 = NWBHDF5IO(filename, manager=get_manager(), mode='r')\n",
    "\n",
    "container = io2.read()"
   ]
  },
  {
   "cell_type": "code",
   "execution_count": 6,
   "metadata": {},
   "outputs": [
    {
     "name": "stdout",
     "output_type": "stream",
     "text": [
      "i =  test_ephys_data\n",
      "unit =  volt\n",
      "timestamps =  20.0\n",
      "rate =  20.0\n",
      "num_samples =  10\n",
      "starting_time_unit =  Seconds\n",
      "timestamps_unit =  None\n",
      "Segment(i) =  <neo.core.segment.Segment object at 0x7f78fdb0dc88>\n",
      "i =  test_ephys_data\n"
     ]
    }
   ],
   "source": [
    "# NWB Epochs\n",
    "for i in container.acquisition:\n",
    "    print(\"i = \", i)\n",
    "    data = container.get_acquisition(i).data\n",
    "    unit = container.get_acquisition(i).unit\n",
    "    print(\"unit = \", unit)\n",
    "    name = container.get_acquisition(i).name\n",
    "    comments = container.get_acquisition(i).comments\n",
    "    timestamps = container.get_acquisition(i).rate\n",
    "    print(\"timestamps = \", timestamps)\n",
    "    start_time = container.get_acquisition(i).starting_time\n",
    "    rate = container.get_acquisition(i).rate\n",
    "    print(\"rate = \", rate)\n",
    "    num_samples = container.get_acquisition(i).num_samples\n",
    "    print(\"num_samples = \", num_samples)\n",
    "    starting_time_unit = container.get_acquisition(i).starting_time_unit\n",
    "    print(\"starting_time_unit = \", starting_time_unit)\n",
    "    timestamps_unit = container.get_acquisition(i).timestamps_unit\n",
    "    print(\"timestamps_unit = \", timestamps_unit)\n",
    "    print(\"Segment(i) = \", Segment(container.acquisition))\n",
    "print(\"i = \", i)\n"
   ]
  },
  {
   "cell_type": "code",
   "execution_count": 7,
   "metadata": {},
   "outputs": [
    {
     "data": {
      "text/plain": [
       "Segment with  name: 10 # analogsignals (N=0)"
      ]
     },
     "execution_count": 7,
     "metadata": {},
     "output_type": "execute_result"
    }
   ],
   "source": [
    "# Segment\n",
    "#seg = Segment(timestamps)\n",
    "seg = Segment(num_samples)\n",
    "seg"
   ]
  },
  {
   "cell_type": "code",
   "execution_count": 8,
   "metadata": {},
   "outputs": [
    {
     "name": "stdout",
     "output_type": "stream",
     "text": [
      "container.acquisition =  {'test_ephys_data': \n",
      "test_ephys_data <class 'pynwb.ecephys.ElectricalSeries'>\n",
      "Fields:\n",
      "  comments: no comments\n",
      "  conversion: 1.0\n",
      "  data: <HDF5 dataset \"data\": shape (10,), type \"<f8\">\n",
      "  description: no description\n",
      "  electrodes: electrodes <class 'pynwb.core.DynamicTableRegion'>\n",
      "  num_samples: 10\n",
      "  rate: 20.0\n",
      "  resolution: 0.0\n",
      "  starting_time: 0.0\n",
      "  starting_time_unit: Seconds\n",
      "  unit: volt\n",
      "}\n"
     ]
    }
   ],
   "source": [
    "print(\"container.acquisition = \", container.acquisition)"
   ]
  },
  {
   "cell_type": "code",
   "execution_count": 9,
   "metadata": {},
   "outputs": [
    {
     "name": "stdout",
     "output_type": "stream",
     "text": [
      "data[:] =  [0.95376875 0.82932243 0.31588623 0.85261922 0.62038077 0.72666677\n",
      " 0.89319377 0.69435603 0.1377899  0.59501954]\n",
      "sig0 =  [[0.95376875]\n",
      " [0.82932243]\n",
      " [0.31588623]\n",
      " [0.85261922]\n",
      " [0.62038077]\n",
      " [0.72666677]\n",
      " [0.89319377]\n",
      " [0.69435603]\n",
      " [0.1377899 ]\n",
      " [0.59501954]] V\n"
     ]
    }
   ],
   "source": [
    "import quantities as pq\n",
    "from quantities import s, Hz\n",
    "starting_time_unit\n",
    "\n",
    "print(\"data[:] = \", data[:])\n",
    "#sig0 = AnalogSignal(signal=data, units=unit, sampling_rate=rate*Hz)\n",
    "sig0 = AnalogSignal(signal=data[:], units=unit, sampling_rate=rate*Hz)\n",
    "print(\"sig0 = \", sig0)"
   ]
  },
  {
   "cell_type": "code",
   "execution_count": 10,
   "metadata": {},
   "outputs": [
    {
     "name": "stdout",
     "output_type": "stream",
     "text": [
      "seg.analogsignals.append(sig0) =  None\n"
     ]
    }
   ],
   "source": [
    "seg.analogsignals.append(sig0)\n",
    "print(\"seg.analogsignals.append(sig0) = \", seg.analogsignals.append(sig0))"
   ]
  },
  {
   "cell_type": "code",
   "execution_count": 11,
   "metadata": {},
   "outputs": [
    {
     "name": "stdout",
     "output_type": "stream",
     "text": [
      "seg_doc =  <neo.core.segment.Segment object at 0x7f78fdb93780>\n",
      "sig0 =  [[0.01]\n",
      " [3.3 ]\n",
      " [9.3 ]] uV\n",
      "seg_doc.analogsignals.append(sig0) =  None\n"
     ]
    }
   ],
   "source": [
    "# ex in documentation\n",
    "seg_doc = Segment(index=5)\n",
    "print(\"seg_doc = \", seg_doc)\n",
    "sig0 = AnalogSignal(signal=[.01, 3.3, 9.3], units='uV', sampling_rate=1*Hz)\n",
    "print(\"sig0 = \", sig0)\n",
    "seg_doc.analogsignals.append(sig0)\n",
    "print(\"seg_doc.analogsignals.append(sig0) = \", seg_doc.analogsignals.append(sig0))"
   ]
  },
  {
   "cell_type": "code",
   "execution_count": 12,
   "metadata": {},
   "outputs": [
    {
     "name": "stdout",
     "output_type": "stream",
     "text": [
      "trtain0 =  [0.01 3.3  9.3 ] s\n",
      "seg_doc.spiketrains.append(train0) =  None\n"
     ]
    }
   ],
   "source": [
    "# ex in documentation\n",
    "train0 = SpikeTrain(times=[.01, 3.3, 9.3], units='sec', t_stop=10)\n",
    "print(\"trtain0 = \", train0)\n",
    "seg_doc.spiketrains.append(train0)\n",
    "print(\"seg_doc.spiketrains.append(train0) = \", seg_doc.spiketrains.append(train0))"
   ]
  },
  {
   "cell_type": "code",
   "execution_count": 13,
   "metadata": {},
   "outputs": [
    {
     "ename": "ValueError",
     "evalue": "Unable to convert between units of \"s\" and \"V\"",
     "output_type": "error",
     "traceback": [
      "\u001b[0;31m---------------------------------------------------------------------------\u001b[0m",
      "\u001b[0;31mAssertionError\u001b[0m                            Traceback (most recent call last)",
      "\u001b[0;32m~/.local/lib/python3.6/site-packages/quantities/quantity.py\u001b[0m in \u001b[0;36mrescale\u001b[0;34m(self, units)\u001b[0m\n\u001b[1;32m    207\u001b[0m         \u001b[0;32mtry\u001b[0m\u001b[0;34m:\u001b[0m\u001b[0;34m\u001b[0m\u001b[0m\n\u001b[0;32m--> 208\u001b[0;31m             \u001b[0mcf\u001b[0m \u001b[0;34m=\u001b[0m \u001b[0mget_conversion_factor\u001b[0m\u001b[0;34m(\u001b[0m\u001b[0mfrom_u\u001b[0m\u001b[0;34m,\u001b[0m \u001b[0mto_u\u001b[0m\u001b[0;34m)\u001b[0m\u001b[0;34m\u001b[0m\u001b[0m\n\u001b[0m\u001b[1;32m    209\u001b[0m         \u001b[0;32mexcept\u001b[0m \u001b[0mAssertionError\u001b[0m\u001b[0;34m:\u001b[0m\u001b[0;34m\u001b[0m\u001b[0m\n",
      "\u001b[0;32m~/.local/lib/python3.6/site-packages/quantities/quantity.py\u001b[0m in \u001b[0;36mget_conversion_factor\u001b[0;34m(from_u, to_u)\u001b[0m\n\u001b[1;32m     52\u001b[0m     \u001b[0mto_u\u001b[0m \u001b[0;34m=\u001b[0m \u001b[0mto_u\u001b[0m\u001b[0;34m.\u001b[0m\u001b[0m_reference\u001b[0m\u001b[0;34m\u001b[0m\u001b[0m\n\u001b[0;32m---> 53\u001b[0;31m     \u001b[0;32massert\u001b[0m \u001b[0mfrom_u\u001b[0m\u001b[0;34m.\u001b[0m\u001b[0mdimensionality\u001b[0m \u001b[0;34m==\u001b[0m \u001b[0mto_u\u001b[0m\u001b[0;34m.\u001b[0m\u001b[0mdimensionality\u001b[0m\u001b[0;34m\u001b[0m\u001b[0m\n\u001b[0m\u001b[1;32m     54\u001b[0m     \u001b[0;32mreturn\u001b[0m \u001b[0mfrom_u\u001b[0m\u001b[0;34m.\u001b[0m\u001b[0mmagnitude\u001b[0m \u001b[0;34m/\u001b[0m \u001b[0mto_u\u001b[0m\u001b[0;34m.\u001b[0m\u001b[0mmagnitude\u001b[0m\u001b[0;34m\u001b[0m\u001b[0m\n",
      "\u001b[0;31mAssertionError\u001b[0m: ",
      "\nDuring handling of the above exception, another exception occurred:\n",
      "\u001b[0;31mValueError\u001b[0m                                Traceback (most recent call last)",
      "\u001b[0;32m<ipython-input-13-063f627290e6>\u001b[0m in \u001b[0;36m<module>\u001b[0;34m\u001b[0m\n\u001b[0;32m----> 1\u001b[0;31m \u001b[0mtrain_nwb\u001b[0m \u001b[0;34m=\u001b[0m \u001b[0mSpikeTrain\u001b[0m\u001b[0;34m(\u001b[0m\u001b[0mtimes\u001b[0m\u001b[0;34m=\u001b[0m\u001b[0mdata\u001b[0m\u001b[0;34m,\u001b[0m \u001b[0munits\u001b[0m\u001b[0;34m=\u001b[0m\u001b[0munit\u001b[0m\u001b[0;34m,\u001b[0m \u001b[0mt_stop\u001b[0m\u001b[0;34m=\u001b[0m\u001b[0;36m10\u001b[0m\u001b[0;34m)\u001b[0m\u001b[0;34m\u001b[0m\u001b[0m\n\u001b[0m\u001b[1;32m      2\u001b[0m \u001b[0mprint\u001b[0m\u001b[0;34m(\u001b[0m\u001b[0;34m\"trtain_nwb = \"\u001b[0m\u001b[0;34m,\u001b[0m \u001b[0mtrain_nwb\u001b[0m\u001b[0;34m)\u001b[0m\u001b[0;34m\u001b[0m\u001b[0m\n\u001b[1;32m      3\u001b[0m \u001b[0mseg\u001b[0m\u001b[0;34m.\u001b[0m\u001b[0mspiketrains\u001b[0m\u001b[0;34m.\u001b[0m\u001b[0mappend\u001b[0m\u001b[0;34m(\u001b[0m\u001b[0mtrain_nwb\u001b[0m\u001b[0;34m)\u001b[0m\u001b[0;34m\u001b[0m\u001b[0m\n\u001b[1;32m      4\u001b[0m \u001b[0mprint\u001b[0m\u001b[0;34m(\u001b[0m\u001b[0;34m\"seg.spiketrains.append(train_nwb) = \"\u001b[0m\u001b[0;34m,\u001b[0m \u001b[0mseg\u001b[0m\u001b[0;34m.\u001b[0m\u001b[0mspiketrains\u001b[0m\u001b[0;34m.\u001b[0m\u001b[0mappend\u001b[0m\u001b[0;34m(\u001b[0m\u001b[0mtrain_nwb\u001b[0m\u001b[0;34m)\u001b[0m\u001b[0;34m)\u001b[0m\u001b[0;34m\u001b[0m\u001b[0m\n",
      "\u001b[0;32m~/env_NWB_py3/python-neo/neo/core/spiketrain.py\u001b[0m in \u001b[0;36m__new__\u001b[0;34m(cls, times, t_stop, units, dtype, copy, sampling_rate, t_start, waveforms, left_sweep, name, file_origin, description, array_annotations, **annotations)\u001b[0m\n\u001b[1;32m    282\u001b[0m             \u001b[0mobj\u001b[0m\u001b[0;34m.\u001b[0m\u001b[0mt_start\u001b[0m \u001b[0;34m=\u001b[0m \u001b[0mt_start\u001b[0m\u001b[0;34m.\u001b[0m\u001b[0mcopy\u001b[0m\u001b[0;34m(\u001b[0m\u001b[0;34m)\u001b[0m\u001b[0;34m\u001b[0m\u001b[0m\n\u001b[1;32m    283\u001b[0m         \u001b[0;32melse\u001b[0m\u001b[0;34m:\u001b[0m\u001b[0;34m\u001b[0m\u001b[0m\n\u001b[0;32m--> 284\u001b[0;31m             \u001b[0mobj\u001b[0m\u001b[0;34m.\u001b[0m\u001b[0mt_start\u001b[0m \u001b[0;34m=\u001b[0m \u001b[0mpq\u001b[0m\u001b[0;34m.\u001b[0m\u001b[0mQuantity\u001b[0m\u001b[0;34m(\u001b[0m\u001b[0mt_start\u001b[0m\u001b[0;34m,\u001b[0m \u001b[0munits\u001b[0m\u001b[0;34m=\u001b[0m\u001b[0mdim\u001b[0m\u001b[0;34m,\u001b[0m \u001b[0mdtype\u001b[0m\u001b[0;34m=\u001b[0m\u001b[0mobj\u001b[0m\u001b[0;34m.\u001b[0m\u001b[0mdtype\u001b[0m\u001b[0;34m)\u001b[0m\u001b[0;34m\u001b[0m\u001b[0m\n\u001b[0m\u001b[1;32m    285\u001b[0m \u001b[0;34m\u001b[0m\u001b[0m\n\u001b[1;32m    286\u001b[0m         if (hasattr(t_stop, 'dtype') and t_stop.dtype == obj.dtype\n",
      "\u001b[0;32m~/.local/lib/python3.6/site-packages/quantities/quantity.py\u001b[0m in \u001b[0;36m__new__\u001b[0;34m(cls, data, units, dtype, copy)\u001b[0m\n\u001b[1;32m    119\u001b[0m         \u001b[0;32mif\u001b[0m \u001b[0misinstance\u001b[0m\u001b[0;34m(\u001b[0m\u001b[0mdata\u001b[0m\u001b[0;34m,\u001b[0m \u001b[0mQuantity\u001b[0m\u001b[0;34m)\u001b[0m\u001b[0;34m:\u001b[0m\u001b[0;34m\u001b[0m\u001b[0m\n\u001b[1;32m    120\u001b[0m             \u001b[0;32mif\u001b[0m \u001b[0munits\u001b[0m\u001b[0;34m:\u001b[0m\u001b[0;34m\u001b[0m\u001b[0m\n\u001b[0;32m--> 121\u001b[0;31m                 \u001b[0mdata\u001b[0m \u001b[0;34m=\u001b[0m \u001b[0mdata\u001b[0m\u001b[0;34m.\u001b[0m\u001b[0mrescale\u001b[0m\u001b[0;34m(\u001b[0m\u001b[0munits\u001b[0m\u001b[0;34m)\u001b[0m\u001b[0;34m\u001b[0m\u001b[0m\n\u001b[0m\u001b[1;32m    122\u001b[0m             \u001b[0;32mif\u001b[0m \u001b[0misinstance\u001b[0m\u001b[0;34m(\u001b[0m\u001b[0mdata\u001b[0m\u001b[0;34m,\u001b[0m \u001b[0munit_registry\u001b[0m\u001b[0;34m[\u001b[0m\u001b[0;34m'UnitQuantity'\u001b[0m\u001b[0;34m]\u001b[0m\u001b[0;34m)\u001b[0m\u001b[0;34m:\u001b[0m\u001b[0;34m\u001b[0m\u001b[0m\n\u001b[1;32m    123\u001b[0m                 \u001b[0;32mreturn\u001b[0m \u001b[0;36m1\u001b[0m\u001b[0;34m*\u001b[0m\u001b[0mdata\u001b[0m\u001b[0;34m\u001b[0m\u001b[0m\n",
      "\u001b[0;32m~/.local/lib/python3.6/site-packages/quantities/quantity.py\u001b[0m in \u001b[0;36mrescale\u001b[0;34m(self, units)\u001b[0m\n\u001b[1;32m    210\u001b[0m             raise ValueError(\n\u001b[1;32m    211\u001b[0m                 \u001b[0;34m'Unable to convert between units of \"%s\" and \"%s\"'\u001b[0m\u001b[0;34m\u001b[0m\u001b[0m\n\u001b[0;32m--> 212\u001b[0;31m                 \u001b[0;34m%\u001b[0m\u001b[0;34m(\u001b[0m\u001b[0mfrom_u\u001b[0m\u001b[0;34m.\u001b[0m\u001b[0m_dimensionality\u001b[0m\u001b[0;34m,\u001b[0m \u001b[0mto_u\u001b[0m\u001b[0;34m.\u001b[0m\u001b[0m_dimensionality\u001b[0m\u001b[0;34m)\u001b[0m\u001b[0;34m\u001b[0m\u001b[0m\n\u001b[0m\u001b[1;32m    213\u001b[0m             )\n\u001b[1;32m    214\u001b[0m         \u001b[0;32mreturn\u001b[0m \u001b[0mQuantity\u001b[0m\u001b[0;34m(\u001b[0m\u001b[0mcf\u001b[0m\u001b[0;34m*\u001b[0m\u001b[0mself\u001b[0m\u001b[0;34m.\u001b[0m\u001b[0mmagnitude\u001b[0m\u001b[0;34m,\u001b[0m \u001b[0mto_u\u001b[0m\u001b[0;34m)\u001b[0m\u001b[0;34m\u001b[0m\u001b[0m\n",
      "\u001b[0;31mValueError\u001b[0m: Unable to convert between units of \"s\" and \"V\""
     ]
    }
   ],
   "source": [
    "train_nwb = SpikeTrain(times=data, units=unit, t_stop=10)\n",
    "print(\"trtain_nwb = \", train_nwb)\n",
    "seg.spiketrains.append(train_nwb)\n",
    "print(\"seg.spiketrains.append(train_nwb) = \", seg.spiketrains.append(train_nwb))"
   ]
  },
  {
   "cell_type": "code",
   "execution_count": null,
   "metadata": {},
   "outputs": [],
   "source": []
  }
 ],
 "metadata": {
  "kernelspec": {
   "display_name": "Python 3",
   "language": "python",
   "name": "python3"
  },
  "language_info": {
   "codemirror_mode": {
    "name": "ipython",
    "version": 3
   },
   "file_extension": ".py",
   "mimetype": "text/x-python",
   "name": "python",
   "nbconvert_exporter": "python",
   "pygments_lexer": "ipython3",
   "version": "3.6.2"
  }
 },
 "nbformat": 4,
 "nbformat_minor": 2
}
