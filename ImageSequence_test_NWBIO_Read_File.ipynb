{
 "cells": [
  {
   "cell_type": "code",
   "execution_count": 1,
   "metadata": {},
   "outputs": [],
   "source": [
    "from pynwb import NWBFile\n",
    "from neo import *\n",
    "import pynwb\n",
    "from pynwb import *\n",
    "import quantities as pq\n",
    "from quantities import s, ms,kHz, Hz, uV\n",
    "import numpy as np\n",
    "import random"
   ]
  },
  {
   "cell_type": "code",
   "execution_count": 2,
   "metadata": {},
   "outputs": [],
   "source": [
    "#test_file_name = \"test_write_Fluorescence_NWB.nwb\"\n",
    "test_file_name = '/Users/legouee/Desktop/ophys_tutorial.nwb' # Real NWB file"
   ]
  },
  {
   "cell_type": "code",
   "execution_count": 3,
   "metadata": {},
   "outputs": [],
   "source": [
    "ior = NWBIO(filename=test_file_name, mode='r')"
   ]
  },
  {
   "cell_type": "code",
   "execution_count": 4,
   "metadata": {},
   "outputs": [
    {
     "name": "stdout",
     "output_type": "stream",
     "text": [
      "ior =  <neo.io.nwbio.NWBIO object at 0x108756580>\n"
     ]
    }
   ],
   "source": [
    "print(\"ior = \", ior)"
   ]
  },
  {
   "cell_type": "code",
   "execution_count": 5,
   "metadata": {},
   "outputs": [],
   "source": [
    "retrieved_block = ior.read_all_blocks()"
   ]
  },
  {
   "cell_type": "code",
   "execution_count": 6,
   "metadata": {},
   "outputs": [
    {
     "name": "stdout",
     "output_type": "stream",
     "text": [
      "retrieved_block =  [<neo.core.block.Block object at 0x108756850>]\n"
     ]
    }
   ],
   "source": [
    "print(\"retrieved_block = \", retrieved_block)"
   ]
  },
  {
   "cell_type": "code",
   "execution_count": 7,
   "metadata": {},
   "outputs": [
    {
     "name": "stdout",
     "output_type": "stream",
     "text": [
      "i =  {'annotations': {'session_start_time': datetime.datetime(2018, 4, 25, 2, 30, 3, tzinfo=tzoffset(None, -25200)), 'identifier': 'Mouse5_Day3', 'timestamps_reference_time': datetime.datetime(2018, 4, 25, 2, 30, 3, tzinfo=tzoffset(None, -25200)), 'experimenter': ('My Name',), 'session_id': 'session_1234', 'institution': 'University of My Institution', 'related_publications': ('DOI:10.1016/j.neuron.2016.12.011',), 'lab': 'My Lab Name', 'session_description': 'Mouse exploring an open field'}, 'name': 'default', 'description': 'Mouse exploring an open field', 'file_origin': '/Users/legouee/Desktop/ophys_tutorial.nwb', 'segments': [<neo.core.segment.Segment object at 0x11effea00>], 'groups': [], 'file_datetime': None, 'rec_datetime': datetime.datetime(2018, 4, 25, 2, 30, 3, tzinfo=tzoffset(None, -25200)), 'index': None, 'regionsofinterest': []}\n",
      "   \n",
      "i.segments =  [<neo.core.segment.Segment object at 0x11effea00>]\n",
      "j.imagesequences =  [array([[[ 0,  1,  2, ..., 97, 98, 99],\n",
      "        [ 0,  1,  2, ..., 97, 98, 99],\n",
      "        [ 0,  1,  2, ..., 97, 98, 99],\n",
      "        ...,\n",
      "        [ 0,  1,  2, ..., 97, 98, 99],\n",
      "        [ 0,  1,  2, ..., 97, 98, 99],\n",
      "        [ 0,  1,  2, ..., 97, 98, 99]],\n",
      "\n",
      "       [[ 0,  1,  2, ..., 97, 98, 99],\n",
      "        [ 0,  1,  2, ..., 97, 98, 99],\n",
      "        [ 0,  1,  2, ..., 97, 98, 99],\n",
      "        ...,\n",
      "        [ 0,  1,  2, ..., 97, 98, 99],\n",
      "        [ 0,  1,  2, ..., 97, 98, 99],\n",
      "        [ 0,  1,  2, ..., 97, 98, 99]],\n",
      "\n",
      "       [[ 0,  1,  2, ..., 97, 98, 99],\n",
      "        [ 0,  1,  2, ..., 97, 98, 99],\n",
      "        [ 0,  1,  2, ..., 97, 98, 99],\n",
      "        ...,\n",
      "        [ 0,  1,  2, ..., 97, 98, 99],\n",
      "        [ 0,  1,  2, ..., 97, 98, 99],\n",
      "        [ 0,  1,  2, ..., 97, 98, 99]],\n",
      "\n",
      "       ...,\n",
      "\n",
      "       [[ 0,  1,  2, ..., 97, 98, 99],\n",
      "        [ 0,  1,  2, ..., 97, 98, 99],\n",
      "        [ 0,  1,  2, ..., 97, 98, 99],\n",
      "        ...,\n",
      "        [ 0,  1,  2, ..., 97, 98, 99],\n",
      "        [ 0,  1,  2, ..., 97, 98, 99],\n",
      "        [ 0,  1,  2, ..., 97, 98, 99]],\n",
      "\n",
      "       [[ 0,  1,  2, ..., 97, 98, 99],\n",
      "        [ 0,  1,  2, ..., 97, 98, 99],\n",
      "        [ 0,  1,  2, ..., 97, 98, 99],\n",
      "        ...,\n",
      "        [ 0,  1,  2, ..., 97, 98, 99],\n",
      "        [ 0,  1,  2, ..., 97, 98, 99],\n",
      "        [ 0,  1,  2, ..., 97, 98, 99]],\n",
      "\n",
      "       [[ 0,  1,  2, ..., 97, 98, 99],\n",
      "        [ 0,  1,  2, ..., 97, 98, 99],\n",
      "        [ 0,  1,  2, ..., 97, 98, 99],\n",
      "        ...,\n",
      "        [ 0,  1,  2, ..., 97, 98, 99],\n",
      "        [ 0,  1,  2, ..., 97, 98, 99],\n",
      "        [ 0,  1,  2, ..., 97, 98, 99]]]) * m, <neo.core.regionofinterest.RectangularRegionOfInterest object at 0x11f04e1f0>, Fluorescence pynwb.ophys.Fluorescence at 0x4815383520\n",
      "Fields:\n",
      "  roi_response_series: {\n",
      "    RoiResponseSeries <class 'pynwb.ophys.RoiResponseSeries'>\n",
      "  }\n",
      "]\n",
      "   \n",
      "j.__dict__ =  {'annotations': {}, 'name': 'default', 'description': None, 'file_origin': None, 'block': <neo.core.block.Block object at 0x108756850>, 'analogsignals': [], 'epochs': [], 'events': [], 'irregularlysampledsignals': [], 'spiketrains': <neo.core.spiketrainlist.SpikeTrainList object at 0x11f03b520>, 'imagesequences': [array([[[ 0,  1,  2, ..., 97, 98, 99],\n",
      "        [ 0,  1,  2, ..., 97, 98, 99],\n",
      "        [ 0,  1,  2, ..., 97, 98, 99],\n",
      "        ...,\n",
      "        [ 0,  1,  2, ..., 97, 98, 99],\n",
      "        [ 0,  1,  2, ..., 97, 98, 99],\n",
      "        [ 0,  1,  2, ..., 97, 98, 99]],\n",
      "\n",
      "       [[ 0,  1,  2, ..., 97, 98, 99],\n",
      "        [ 0,  1,  2, ..., 97, 98, 99],\n",
      "        [ 0,  1,  2, ..., 97, 98, 99],\n",
      "        ...,\n",
      "        [ 0,  1,  2, ..., 97, 98, 99],\n",
      "        [ 0,  1,  2, ..., 97, 98, 99],\n",
      "        [ 0,  1,  2, ..., 97, 98, 99]],\n",
      "\n",
      "       [[ 0,  1,  2, ..., 97, 98, 99],\n",
      "        [ 0,  1,  2, ..., 97, 98, 99],\n",
      "        [ 0,  1,  2, ..., 97, 98, 99],\n",
      "        ...,\n",
      "        [ 0,  1,  2, ..., 97, 98, 99],\n",
      "        [ 0,  1,  2, ..., 97, 98, 99],\n",
      "        [ 0,  1,  2, ..., 97, 98, 99]],\n",
      "\n",
      "       ...,\n",
      "\n",
      "       [[ 0,  1,  2, ..., 97, 98, 99],\n",
      "        [ 0,  1,  2, ..., 97, 98, 99],\n",
      "        [ 0,  1,  2, ..., 97, 98, 99],\n",
      "        ...,\n",
      "        [ 0,  1,  2, ..., 97, 98, 99],\n",
      "        [ 0,  1,  2, ..., 97, 98, 99],\n",
      "        [ 0,  1,  2, ..., 97, 98, 99]],\n",
      "\n",
      "       [[ 0,  1,  2, ..., 97, 98, 99],\n",
      "        [ 0,  1,  2, ..., 97, 98, 99],\n",
      "        [ 0,  1,  2, ..., 97, 98, 99],\n",
      "        ...,\n",
      "        [ 0,  1,  2, ..., 97, 98, 99],\n",
      "        [ 0,  1,  2, ..., 97, 98, 99],\n",
      "        [ 0,  1,  2, ..., 97, 98, 99]],\n",
      "\n",
      "       [[ 0,  1,  2, ..., 97, 98, 99],\n",
      "        [ 0,  1,  2, ..., 97, 98, 99],\n",
      "        [ 0,  1,  2, ..., 97, 98, 99],\n",
      "        ...,\n",
      "        [ 0,  1,  2, ..., 97, 98, 99],\n",
      "        [ 0,  1,  2, ..., 97, 98, 99],\n",
      "        [ 0,  1,  2, ..., 97, 98, 99]]]) * m, <neo.core.regionofinterest.RectangularRegionOfInterest object at 0x11f04e1f0>, Fluorescence pynwb.ophys.Fluorescence at 0x4815383520\n",
      "Fields:\n",
      "  roi_response_series: {\n",
      "    RoiResponseSeries <class 'pynwb.ophys.RoiResponseSeries'>\n",
      "  }\n",
      "], 'file_datetime': None, 'rec_datetime': None, 'index': None}\n"
     ]
    }
   ],
   "source": [
    "for i in retrieved_block:\n",
    "    print(\"i = \", i.__dict__)\n",
    "    print(\"   \")\n",
    "    print(\"i.segments = \", i.segments)\n",
    "    for j in i.segments:\n",
    "        print(\"j.imagesequences = \", j.imagesequences)\n",
    "        print(\"   \")\n",
    "        print(\"j.__dict__ = \", j.__dict__)"
   ]
  },
  {
   "cell_type": "code",
   "execution_count": 8,
   "metadata": {},
   "outputs": [],
   "source": [
    "read = ior.read()"
   ]
  },
  {
   "cell_type": "code",
   "execution_count": 9,
   "metadata": {},
   "outputs": [
    {
     "data": {
      "text/plain": [
       "[Block with 1 segments\n",
       " name: 'default'\n",
       " description: 'Mouse exploring an open field'\n",
       " annotations: {'session_start_time': datetime.datetime(2018, 4, 25, 2, 30, 3, tzinfo=tzoffset(None, -25200)),\n",
       "   'identifier': 'Mouse5_Day3',\n",
       "   'timestamps_reference_time': datetime.datetime(2018, 4, 25, 2, 30, 3, tzinfo=tzoffset(None, -25200)),\n",
       "   'experimenter': ('My Name',),\n",
       "   'session_id': 'session_1234',\n",
       "   'institution': 'University of My Institution',\n",
       "   'related_publications': ('DOI:10.1016/j.neuron.2016.12.011',),\n",
       "   'lab': 'My Lab Name',\n",
       "   'session_description': 'Mouse exploring an open field'}\n",
       " file_origin: '/Users/legouee/Desktop/ophys_tutorial.nwb'\n",
       " rec_datetime: datetime.datetime(2018, 4, 25, 2, 30, 3, tzinfo=tzoffset(None, -25200))\n",
       " # segments (N=1)\n",
       " 0: Segment with 3 imagesequences\n",
       "    name: 'default'\n",
       "    # analogsignals (N=0)\n",
       "    # imagesequences (N=3)\n",
       "    0: ImageSequence 1000 frames with width 100 px and height 100 px; units m; datatype int64 \n",
       "       sampling rate: 30.0 Hz\n",
       "       spatial_scale: No spatial_scale\n",
       "    1: <neo.core.regionofinterest.RectangularRegionOfInterest at 0x11f04ed90>\n",
       "    2: Fluorescence pynwb.ophys.Fluorescence at 0x4822198496\n",
       "       Fields:\n",
       "         roi_response_series: {\n",
       "           RoiResponseSeries <class 'pynwb.ophys.RoiResponseSeries'>\n",
       "         }]"
      ]
     },
     "execution_count": 9,
     "metadata": {},
     "output_type": "execute_result"
    }
   ],
   "source": [
    "read"
   ]
  },
  {
   "cell_type": "code",
   "execution_count": null,
   "metadata": {},
   "outputs": [],
   "source": []
  }
 ],
 "metadata": {
  "kernelspec": {
   "display_name": "Python 3",
   "language": "python",
   "name": "python3"
  },
  "language_info": {
   "codemirror_mode": {
    "name": "ipython",
    "version": 3
   },
   "file_extension": ".py",
   "mimetype": "text/x-python",
   "name": "python",
   "nbconvert_exporter": "python",
   "pygments_lexer": "ipython3",
   "version": "3.8.0"
  }
 },
 "nbformat": 4,
 "nbformat_minor": 2
}
