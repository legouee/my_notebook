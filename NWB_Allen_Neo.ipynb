{
 "cells": [
  {
   "cell_type": "markdown",
   "metadata": {},
   "source": [
    "## Write a file with PyNWB"
   ]
  },
  {
   "cell_type": "code",
   "execution_count": 1,
   "metadata": {},
   "outputs": [
    {
     "name": "stdout",
     "output_type": "stream",
     "text": [
      "root pynwb.file.NWBFile at 0x4378067408\n",
      "Fields:\n",
      "  file_create_date: [datetime.datetime(2021, 3, 29, 14, 33, 28, 96016, tzinfo=tzlocal())]\n",
      "  identifier: Mouse\n",
      "  session_description: Description\n",
      "  session_start_time: 2021-03-29 14:33:28.094479+02:00\n",
      "  timestamps_reference_time: 2021-03-29 14:33:28.094479+02:00\n",
      "\n"
     ]
    },
    {
     "name": "stderr",
     "output_type": "stream",
     "text": [
      "/Users/legouee/miniconda3/lib/python3.7/site-packages/pynwb/file.py:753: UserWarning: Date is missing timezone information. Updating to local timezone.\n",
      "  warn(\"Date is missing timezone information. Updating to local timezone.\")\n"
     ]
    }
   ],
   "source": [
    "from pynwb import NWBFile\n",
    "from datetime import datetime\n",
    "from dateutil import tz\n",
    "\n",
    "session_start_time = datetime.now()\n",
    "\n",
    "nwbfile = NWBFile(\n",
    "    session_description='Description',\n",
    "    identifier='Mouse',\n",
    "    session_start_time=session_start_time,\n",
    ")\n",
    "print(nwbfile)"
   ]
  },
  {
   "cell_type": "code",
   "execution_count": 2,
   "metadata": {},
   "outputs": [],
   "source": [
    "from pynwb.device import Device\n",
    "from pynwb.ophys import OpticalChannel\n",
    "\n",
    "device = nwbfile.create_device(\n",
    "    name='Microscope', \n",
    "    description='My two-photon microscope',\n",
    "    manufacturer='The best microscope manufacturer'\n",
    ")\n",
    "optical_channel = OpticalChannel(\n",
    "    name='OpticalChannel', \n",
    "    description='an optical channel', \n",
    "    emission_lambda=500.\n",
    ")\n",
    "imaging_plane = nwbfile.create_imaging_plane(\n",
    "    name='ImagingPlane',\n",
    "    optical_channel=optical_channel,\n",
    "    imaging_rate=30.,\n",
    "    description='a very interesting part of the brain',\n",
    "    device=device,\n",
    "    excitation_lambda=600.,\n",
    "    indicator='GFP',\n",
    "    location='V1',\n",
    "    grid_spacing=[.01, .01],\n",
    "    grid_spacing_unit='meters',\n",
    "    origin_coords=[1., 2., 3.],\n",
    "    origin_coords_unit='meters'\n",
    ")"
   ]
  },
  {
   "cell_type": "code",
   "execution_count": 3,
   "metadata": {},
   "outputs": [
    {
     "name": "stdout",
     "output_type": "stream",
     "text": [
      "TwoPhotonSeries1 pynwb.ophys.TwoPhotonSeries at 0x4590349136\n",
      "Fields:\n",
      "  comments: no comments\n",
      "  conversion: 1.0\n",
      "  data: [[[1. 1. 1. 1.]\n",
      "  [1. 1. 1. 1.]\n",
      "  [1. 1. 1. 1.]]\n",
      "\n",
      " [[1. 1. 1. 1.]\n",
      "  [1. 1. 1. 1.]\n",
      "  [1. 1. 1. 1.]]]\n",
      "  description: no description\n",
      "  imaging_plane: ImagingPlane pynwb.ophys.ImagingPlane at 0x4590350288\n",
      "Fields:\n",
      "  conversion: 1.0\n",
      "  description: a very interesting part of the brain\n",
      "  device: Microscope pynwb.device.Device at 0x4590349712\n",
      "Fields:\n",
      "  description: My two-photon microscope\n",
      "  manufacturer: The best microscope manufacturer\n",
      "\n",
      "  excitation_lambda: 600.0\n",
      "  imaging_rate: 30.0\n",
      "  indicator: GFP\n",
      "  location: V1\n",
      "  optical_channel: (\n",
      "    OpticalChannel <class 'pynwb.ophys.OpticalChannel'>\n",
      "  )\n",
      "  unit: meters\n",
      "\n",
      "  rate: 1.0\n",
      "  resolution: -1.0\n",
      "  starting_time: 0.0\n",
      "  starting_time_unit: seconds\n",
      "  unit: normalized amplitude\n",
      "\n"
     ]
    }
   ],
   "source": [
    "from pynwb.ophys import TwoPhotonSeries\n",
    "import numpy as np\n",
    "\n",
    "image_series = TwoPhotonSeries(\n",
    "    name='TwoPhotonSeries1',\n",
    "    data=np.ones((2,3,4)),\n",
    "    imaging_plane=imaging_plane,\n",
    "    rate=1.0,\n",
    "    unit='normalized amplitude'\n",
    ")\n",
    "\n",
    "print(image_series)"
   ]
  },
  {
   "cell_type": "code",
   "execution_count": 4,
   "metadata": {},
   "outputs": [],
   "source": [
    "nwbfile.add_acquisition(image_series)"
   ]
  },
  {
   "cell_type": "code",
   "execution_count": 5,
   "metadata": {},
   "outputs": [],
   "source": [
    "from pynwb import NWBHDF5IO\n",
    "\n",
    "with NWBHDF5IO('Example_NWB_File.nwb', 'w') as io:\n",
    "    io.write(nwbfile)"
   ]
  },
  {
   "cell_type": "markdown",
   "metadata": {},
   "source": [
    "## Read this file with Neo NWBIO"
   ]
  },
  {
   "cell_type": "code",
   "execution_count": 6,
   "metadata": {},
   "outputs": [
    {
     "name": "stdout",
     "output_type": "stream",
     "text": [
      "neo =  0.9.0\n",
      "pynwb =  1.4.0\n",
      "retrieved_blocks =  [<neo.core.block.Block object at 0x11a9fa410>]\n"
     ]
    }
   ],
   "source": [
    "import neo\n",
    "from neo import *\n",
    "import pynwb\n",
    "from pynwb import *\n",
    "import quantities as pq\n",
    "from quantities import s, ms, kHz, Hz, uV\n",
    "import numpy as np\n",
    "%matplotlib inline\n",
    "import matplotlib.pyplot as plt\n",
    "\n",
    "from os.path import exists\n",
    "from urllib.request import urlretrieve\n",
    "\n",
    "print(\"neo = \", neo.__version__)\n",
    "print(\"pynwb = \", pynwb.__version__)\n",
    "\n",
    "filename= \"Example_NWB_File.nwb\"\n",
    "ior = NWBIO(filename=filename, mode='r')\n",
    "retrieved_blocks = ior.read_all_blocks()\n",
    "print(\"retrieved_blocks = \", retrieved_blocks)"
   ]
  },
  {
   "cell_type": "code",
   "execution_count": 7,
   "metadata": {},
   "outputs": [
    {
     "name": "stdout",
     "output_type": "stream",
     "text": [
      "{'_dimensionality': Dimensionality({meter: 1}), 'annotations': {'nwb_neurodata_type': ('pynwb.ophys', 'TwoPhotonSeries'), 'imaging_plane': {'indicator': 'GFP', 'name': 'ImagingPlane', 'excitation_lambda': 600.0, 'optical_channel': {'name': 'OpticalChannel', 'emission_lambda': 500.0, 'description': 'an optical channel'}, 'device': {'name': 'Microscope', 'manufacturer': 'The best microscope manufacturer', 'description': 'My two-photon microscope'}, 'location': 'V1', 'description': 'a very interesting part of the brain', 'reference_frame': None, 'imaging_rate': 30.0}, 'rate': 1.0, 'unit': 'normalized amplitude', 'starting_time': 0.0}, 'array_annotations': {}, 'name': 'TwoPhotonSeries1', 'file_origin': None, 'description': None, 'segment': <neo.core.segment.Segment object at 0x11a9f68d0>, 'channel_index': None, 'sampling_rate': array(30.) * Hz, 'spatial_scale': 'No spatial_scale', '_t_start': array(0.) * s}\n"
     ]
    }
   ],
   "source": [
    "print(retrieved_blocks[0].segments[0].imagesequences[0].__dict__)"
   ]
  },
  {
   "cell_type": "code",
   "execution_count": 8,
   "metadata": {},
   "outputs": [
    {
     "name": "stdout",
     "output_type": "stream",
     "text": [
      "Microscope\n"
     ]
    }
   ],
   "source": [
    "print(retrieved_blocks[0].segments[0].imagesequences[0].annotations['imaging_plane']['device']['name'])"
   ]
  },
  {
   "cell_type": "markdown",
   "metadata": {},
   "source": [
    "## Write a new NWB file with Neo NWBIO"
   ]
  },
  {
   "cell_type": "code",
   "execution_count": 9,
   "metadata": {},
   "outputs": [
    {
     "data": {
      "text/plain": [
       "<neo.io.nwbio.NWBIO at 0x104f40150>"
      ]
     },
     "execution_count": 9,
     "metadata": {},
     "output_type": "execute_result"
    }
   ],
   "source": [
    "filename2=\"Example_Write_same_NWB_file.nwb\"\n",
    "iow = NWBIO(filename2, mode='w')\n",
    "iow"
   ]
  },
  {
   "cell_type": "code",
   "execution_count": 10,
   "metadata": {},
   "outputs": [],
   "source": [
    "iow2 = iow.write_all_blocks(retrieved_blocks)"
   ]
  },
  {
   "cell_type": "markdown",
   "metadata": {},
   "source": [
    "## Read this file with PyNWB"
   ]
  },
  {
   "cell_type": "code",
   "execution_count": 11,
   "metadata": {},
   "outputs": [
    {
     "name": "stdout",
     "output_type": "stream",
     "text": [
      "io_pynwb =  <pynwb.NWBHDF5IO object at 0x11b04b450>\n",
      "pynwb.__version__ =  1.4.0\n"
     ]
    }
   ],
   "source": [
    "io_pynwb = pynwb.NWBHDF5IO(filename2, mode='r')\n",
    "print(\"io_pynwb = \", io_pynwb)\n",
    "print(\"pynwb.__version__ = \", pynwb.__version__)"
   ]
  },
  {
   "cell_type": "code",
   "execution_count": 12,
   "metadata": {},
   "outputs": [],
   "source": [
    "io_pynwb_r = io_pynwb.read()"
   ]
  },
  {
   "cell_type": "code",
   "execution_count": 13,
   "metadata": {},
   "outputs": [
    {
     "data": {
      "text/plain": [
       "root GroupBuilder {'attributes': {'namespace': 'core', 'neurodata_type': 'NWBFile', 'nwb_version': '2.2.5', 'object_id': 'b902d34f-1a86-4a66-946d-d4789f322df9'}, 'groups': {'acquisition': root/acquisition GroupBuilder {'attributes': {}, 'groups': {'ImagingPlane': root/acquisition/ImagingPlane GroupBuilder {'attributes': {'comments': 'no comments', 'description': 'no description', 'namespace': 'core', 'neurodata_type': 'TwoPhotonSeries', 'object_id': 'fafa55ca-a220-43cc-ba8f-9d9c1610e8be'}, 'groups': {}, 'datasets': {'data': root/acquisition/ImagingPlane/data DatasetBuilder {'attributes': {'conversion': 1.0, 'resolution': -1.0, 'unit': 'normalized amplitude'}, 'data': <HDF5 dataset \"data\": shape (2, 4, 3), type \"<i8\">}, 'starting_time': root/acquisition/ImagingPlane/starting_time DatasetBuilder {'attributes': {'rate': 1.0, 'unit': 'seconds'}, 'data': 0.0}}, 'links': {'imaging_plane': root/acquisition/ImagingPlane/imaging_plane LinkBuilder {'builder': root/general/optophysiology/ImagingPlane GroupBuilder {'attributes': {'namespace': 'core', 'neurodata_type': 'ImagingPlane', 'object_id': '7f5c6326-fdda-49b5-bca5-35dc0a98d65b'}, 'groups': {'OpticalChannel': root/general/optophysiology/ImagingPlane/OpticalChannel GroupBuilder {'attributes': {'namespace': 'core', 'neurodata_type': 'OpticalChannel', 'object_id': '3f8b2451-f859-4a7a-8d8b-3a2138e98373'}, 'groups': {}, 'datasets': {'description': root/general/optophysiology/ImagingPlane/OpticalChannel/description DatasetBuilder {'attributes': {}, 'data': 'an optical channel'}, 'emission_lambda': root/general/optophysiology/ImagingPlane/OpticalChannel/emission_lambda DatasetBuilder {'attributes': {}, 'data': 500.0}}, 'links': {}}}, 'datasets': {'description': root/general/optophysiology/ImagingPlane/description DatasetBuilder {'attributes': {}, 'data': 'a very interesting part of the brain'}, 'excitation_lambda': root/general/optophysiology/ImagingPlane/excitation_lambda DatasetBuilder {'attributes': {}, 'data': 600.0}, 'imaging_rate': root/general/optophysiology/ImagingPlane/imaging_rate DatasetBuilder {'attributes': {}, 'data': 30.0}, 'indicator': root/general/optophysiology/ImagingPlane/indicator DatasetBuilder {'attributes': {}, 'data': 'GFP'}, 'location': root/general/optophysiology/ImagingPlane/location DatasetBuilder {'attributes': {}, 'data': 'V1'}}, 'links': {'device': root/general/optophysiology/ImagingPlane/device LinkBuilder {'builder': root/general/devices/Microscope GroupBuilder {'attributes': {'description': 'My two-photon microscope', 'manufacturer': 'The best microscope manufacturer', 'namespace': 'core', 'neurodata_type': 'Device', 'object_id': 'e83e97ab-4001-4f5b-8391-697067d668a0'}, 'groups': {}, 'datasets': {}, 'links': {}}}}}}}}}, 'datasets': {}, 'links': {}}, 'analysis': root/analysis GroupBuilder {'attributes': {}, 'groups': {}, 'datasets': {}, 'links': {}}, 'general': root/general GroupBuilder {'attributes': {}, 'groups': {'devices': root/general/devices GroupBuilder {'attributes': {}, 'groups': {'Microscope': root/general/devices/Microscope GroupBuilder {'attributes': {'description': 'My two-photon microscope', 'manufacturer': 'The best microscope manufacturer', 'namespace': 'core', 'neurodata_type': 'Device', 'object_id': 'e83e97ab-4001-4f5b-8391-697067d668a0'}, 'groups': {}, 'datasets': {}, 'links': {}}}, 'datasets': {}, 'links': {}}, 'optophysiology': root/general/optophysiology GroupBuilder {'attributes': {}, 'groups': {'ImagingPlane': root/general/optophysiology/ImagingPlane GroupBuilder {'attributes': {'namespace': 'core', 'neurodata_type': 'ImagingPlane', 'object_id': '7f5c6326-fdda-49b5-bca5-35dc0a98d65b'}, 'groups': {'OpticalChannel': root/general/optophysiology/ImagingPlane/OpticalChannel GroupBuilder {'attributes': {'namespace': 'core', 'neurodata_type': 'OpticalChannel', 'object_id': '3f8b2451-f859-4a7a-8d8b-3a2138e98373'}, 'groups': {}, 'datasets': {'description': root/general/optophysiology/ImagingPlane/OpticalChannel/description DatasetBuilder {'attributes': {}, 'data': 'an optical channel'}, 'emission_lambda': root/general/optophysiology/ImagingPlane/OpticalChannel/emission_lambda DatasetBuilder {'attributes': {}, 'data': 500.0}}, 'links': {}}}, 'datasets': {'description': root/general/optophysiology/ImagingPlane/description DatasetBuilder {'attributes': {}, 'data': 'a very interesting part of the brain'}, 'excitation_lambda': root/general/optophysiology/ImagingPlane/excitation_lambda DatasetBuilder {'attributes': {}, 'data': 600.0}, 'imaging_rate': root/general/optophysiology/ImagingPlane/imaging_rate DatasetBuilder {'attributes': {}, 'data': 30.0}, 'indicator': root/general/optophysiology/ImagingPlane/indicator DatasetBuilder {'attributes': {}, 'data': 'GFP'}, 'location': root/general/optophysiology/ImagingPlane/location DatasetBuilder {'attributes': {}, 'data': 'V1'}}, 'links': {'device': root/general/optophysiology/ImagingPlane/device LinkBuilder {'builder': root/general/devices/Microscope GroupBuilder {'attributes': {'description': 'My two-photon microscope', 'manufacturer': 'The best microscope manufacturer', 'namespace': 'core', 'neurodata_type': 'Device', 'object_id': 'e83e97ab-4001-4f5b-8391-697067d668a0'}, 'groups': {}, 'datasets': {}, 'links': {}}}}}}, 'datasets': {}, 'links': {}}}, 'datasets': {}, 'links': {}}, 'processing': root/processing GroupBuilder {'attributes': {}, 'groups': {}, 'datasets': {}, 'links': {}}, 'stimulus': root/stimulus GroupBuilder {'attributes': {}, 'groups': {'presentation': root/stimulus/presentation GroupBuilder {'attributes': {}, 'groups': {}, 'datasets': {}, 'links': {}}, 'templates': root/stimulus/templates GroupBuilder {'attributes': {}, 'groups': {}, 'datasets': {}, 'links': {}}}, 'datasets': {}, 'links': {}}}, 'datasets': {'file_create_date': root/file_create_date DatasetBuilder {'attributes': {}, 'data': <HDF5 dataset \"file_create_date\": shape (1,), type \"|O\">}, 'identifier': root/identifier DatasetBuilder {'attributes': {}, 'data': 'Mouse'}, 'session_description': root/session_description DatasetBuilder {'attributes': {}, 'data': 'Description'}, 'session_start_time': root/session_start_time DatasetBuilder {'attributes': {}, 'data': '2021-03-29T14:33:28.094479+02:00'}, 'timestamps_reference_time': root/timestamps_reference_time DatasetBuilder {'attributes': {}, 'data': '2021-03-29T14:33:28.094479+02:00'}}, 'links': {}}"
      ]
     },
     "execution_count": 13,
     "metadata": {},
     "output_type": "execute_result"
    }
   ],
   "source": [
    "io_pynwb.read_builder()"
   ]
  },
  {
   "cell_type": "code",
   "execution_count": 14,
   "metadata": {},
   "outputs": [
    {
     "data": {
      "text/plain": [
       "{'ImagingPlane': ImagingPlane pynwb.ophys.TwoPhotonSeries at 0x4750269776\n",
       " Fields:\n",
       "   comments: no comments\n",
       "   conversion: 1.0\n",
       "   data: <HDF5 dataset \"data\": shape (2, 4, 3), type \"<i8\">\n",
       "   description: no description\n",
       "   imaging_plane: ImagingPlane pynwb.ophys.ImagingPlane at 0x4750268496\n",
       " Fields:\n",
       "   conversion: 1.0\n",
       "   description: a very interesting part of the brain\n",
       "   device: Microscope pynwb.device.Device at 0x4750269136\n",
       " Fields:\n",
       "   description: My two-photon microscope\n",
       "   manufacturer: The best microscope manufacturer\n",
       " \n",
       "   excitation_lambda: 600.0\n",
       "   imaging_rate: 30.0\n",
       "   indicator: GFP\n",
       "   location: V1\n",
       "   optical_channel: (\n",
       "     OpticalChannel <class 'pynwb.ophys.OpticalChannel'>\n",
       "   )\n",
       "   unit: meters\n",
       " \n",
       "   rate: 1.0\n",
       "   resolution: -1.0\n",
       "   starting_time: 0.0\n",
       "   starting_time_unit: seconds\n",
       "   unit: normalized amplitude}"
      ]
     },
     "execution_count": 14,
     "metadata": {},
     "output_type": "execute_result"
    }
   ],
   "source": [
    "io_pynwb_r.acquisition"
   ]
  },
  {
   "cell_type": "code",
   "execution_count": null,
   "metadata": {},
   "outputs": [],
   "source": []
  }
 ],
 "metadata": {
  "kernelspec": {
   "display_name": "Python 3",
   "language": "python",
   "name": "python3"
  },
  "language_info": {
   "codemirror_mode": {
    "name": "ipython",
    "version": 3
   },
   "file_extension": ".py",
   "mimetype": "text/x-python",
   "name": "python",
   "nbconvert_exporter": "python",
   "pygments_lexer": "ipython3",
   "version": "3.7.5"
  }
 },
 "nbformat": 4,
 "nbformat_minor": 2
}
